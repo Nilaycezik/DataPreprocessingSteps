{
 "cells": [
  {
   "cell_type": "markdown",
   "id": "72d30d5f",
   "metadata": {},
   "source": [
    "##### 1.X veri kümesinin her bir niteliği (attribute) için beş sayı özeti (five number summary), ortalama (mean), mod (mode), çeyrekler arası genişlik (InterQuartile Range), varyans (variance), standart sapma (standard deviation) ve varsa aykırı (outlier) değerlerini hesaplayınız. Her bir nitelik için kutu diyagramı (boxplot) çizimini gerçekleştiriniz. "
   ]
  },
  {
   "cell_type": "markdown",
   "id": "1c2b7fc4",
   "metadata": {},
   "source": [
    "###### Kütüphaneler eklendi."
   ]
  },
  {
   "cell_type": "code",
   "execution_count": 3,
   "id": "3cc65775",
   "metadata": {},
   "outputs": [],
   "source": [
    "import pandas as pd"
   ]
  },
  {
   "cell_type": "code",
   "execution_count": 4,
   "id": "282fe692",
   "metadata": {},
   "outputs": [],
   "source": [
    "import numpy as np"
   ]
  },
  {
   "cell_type": "code",
   "execution_count": 5,
   "id": "41da1859",
   "metadata": {},
   "outputs": [],
   "source": [
    "from sklearn import svm"
   ]
  },
  {
   "cell_type": "code",
   "execution_count": 6,
   "id": "bd93916e",
   "metadata": {
    "scrolled": true
   },
   "outputs": [],
   "source": [
    "import matplotlib.pyplot as plt"
   ]
  },
  {
   "cell_type": "code",
   "execution_count": 7,
   "id": "bf742fea",
   "metadata": {},
   "outputs": [],
   "source": [
    "import seaborn as sns"
   ]
  },
  {
   "cell_type": "markdown",
   "id": "77a9d51e",
   "metadata": {},
   "source": [
    "###### İlk nitelik için CSV dosyası okuma işlemi yapıldı."
   ]
  },
  {
   "cell_type": "code",
   "execution_count": 9,
   "id": "12a1c236",
   "metadata": {
    "scrolled": true
   },
   "outputs": [
    {
     "data": {
      "text/html": [
       "<div>\n",
       "<style scoped>\n",
       "    .dataframe tbody tr th:only-of-type {\n",
       "        vertical-align: middle;\n",
       "    }\n",
       "\n",
       "    .dataframe tbody tr th {\n",
       "        vertical-align: top;\n",
       "    }\n",
       "\n",
       "    .dataframe thead th {\n",
       "        text-align: right;\n",
       "    }\n",
       "</style>\n",
       "<table border=\"1\" class=\"dataframe\">\n",
       "  <thead>\n",
       "    <tr style=\"text-align: right;\">\n",
       "      <th></th>\n",
       "      <th>Smoothness1_real</th>\n",
       "    </tr>\n",
       "  </thead>\n",
       "  <tbody>\n",
       "    <tr>\n",
       "      <th>0</th>\n",
       "      <td>0.118</td>\n",
       "    </tr>\n",
       "    <tr>\n",
       "      <th>1</th>\n",
       "      <td>0.085</td>\n",
       "    </tr>\n",
       "    <tr>\n",
       "      <th>2</th>\n",
       "      <td>0.110</td>\n",
       "    </tr>\n",
       "    <tr>\n",
       "      <th>3</th>\n",
       "      <td>0.142</td>\n",
       "    </tr>\n",
       "    <tr>\n",
       "      <th>4</th>\n",
       "      <td>0.100</td>\n",
       "    </tr>\n",
       "    <tr>\n",
       "      <th>...</th>\n",
       "      <td>...</td>\n",
       "    </tr>\n",
       "    <tr>\n",
       "      <th>564</th>\n",
       "      <td>0.111</td>\n",
       "    </tr>\n",
       "    <tr>\n",
       "      <th>565</th>\n",
       "      <td>0.098</td>\n",
       "    </tr>\n",
       "    <tr>\n",
       "      <th>566</th>\n",
       "      <td>0.085</td>\n",
       "    </tr>\n",
       "    <tr>\n",
       "      <th>567</th>\n",
       "      <td>0.118</td>\n",
       "    </tr>\n",
       "    <tr>\n",
       "      <th>568</th>\n",
       "      <td>0.053</td>\n",
       "    </tr>\n",
       "  </tbody>\n",
       "</table>\n",
       "<p>569 rows × 1 columns</p>\n",
       "</div>"
      ],
      "text/plain": [
       "     Smoothness1_real\n",
       "0               0.118\n",
       "1               0.085\n",
       "2               0.110\n",
       "3               0.142\n",
       "4               0.100\n",
       "..                ...\n",
       "564             0.111\n",
       "565             0.098\n",
       "566             0.085\n",
       "567             0.118\n",
       "568             0.053\n",
       "\n",
       "[569 rows x 1 columns]"
      ]
     },
     "execution_count": 9,
     "metadata": {},
     "output_type": "execute_result"
    }
   ],
   "source": [
    "Attribute1=pd.read_csv(\"SmoothnessReal.csv\")\n",
    "Attribute1"
   ]
  },
  {
   "cell_type": "markdown",
   "id": "3bf029c4",
   "metadata": {},
   "source": [
    "###### İlk nitelik için Five Number Summary"
   ]
  },
  {
   "cell_type": "code",
   "execution_count": 10,
   "id": "c422e592",
   "metadata": {},
   "outputs": [],
   "source": [
    "MinValues = np.min(Attribute1)\n",
    "MaxValue = np.max(Attribute1)\n",
    "Q1 = np.percentile(Attribute1, [25])\n",
    "Median = np.percentile(Attribute1, [50])\n",
    "Q3 = np.percentile(Attribute1, [75])"
   ]
  },
  {
   "cell_type": "code",
   "execution_count": 11,
   "id": "9d0d259d",
   "metadata": {
    "scrolled": true
   },
   "outputs": [
    {
     "name": "stdout",
     "output_type": "stream",
     "text": [
      "Five Number Summary \n",
      "Min Values :\t0.053000\n",
      "Max Values :\t0.163000\n",
      "Median :\t0.086000\n",
      "Q1 :\t0.096000\n",
      "Q3 :\t0.105000\n",
      "\n"
     ]
    }
   ],
   "source": [
    "print(\"Five Number Summary \\nMin Values :\\t%f\\nMax Values :\\t%f\\nMedian :\\t%f\\nQ1 :\\t%f\\nQ3 :\\t%f\\n\"%(MinValues,MaxValue,Q1,Median,Q3))"
   ]
  },
  {
   "cell_type": "markdown",
   "id": "69ac6d93",
   "metadata": {},
   "source": [
    "###### İlk nitelik için mean sonucu"
   ]
  },
  {
   "cell_type": "code",
   "execution_count": 12,
   "id": "85576bea",
   "metadata": {},
   "outputs": [
    {
     "data": {
      "text/plain": [
       "Smoothness1_real    0.096388\n",
       "dtype: float64"
      ]
     },
     "execution_count": 12,
     "metadata": {},
     "output_type": "execute_result"
    }
   ],
   "source": [
    "MeanAttribute1 = Attribute1.mean()\n",
    "MeanAttribute1"
   ]
  },
  {
   "cell_type": "markdown",
   "id": "9eb96ce6",
   "metadata": {},
   "source": [
    "###### İlk nitelik için mode sonucu"
   ]
  },
  {
   "cell_type": "code",
   "execution_count": 13,
   "id": "c4e2145c",
   "metadata": {
    "scrolled": true
   },
   "outputs": [
    {
     "data": {
      "text/html": [
       "<div>\n",
       "<style scoped>\n",
       "    .dataframe tbody tr th:only-of-type {\n",
       "        vertical-align: middle;\n",
       "    }\n",
       "\n",
       "    .dataframe tbody tr th {\n",
       "        vertical-align: top;\n",
       "    }\n",
       "\n",
       "    .dataframe thead th {\n",
       "        text-align: right;\n",
       "    }\n",
       "</style>\n",
       "<table border=\"1\" class=\"dataframe\">\n",
       "  <thead>\n",
       "    <tr style=\"text-align: right;\">\n",
       "      <th></th>\n",
       "      <th>Smoothness1_real</th>\n",
       "    </tr>\n",
       "  </thead>\n",
       "  <tbody>\n",
       "    <tr>\n",
       "      <th>0</th>\n",
       "      <td>0.094</td>\n",
       "    </tr>\n",
       "    <tr>\n",
       "      <th>1</th>\n",
       "      <td>0.098</td>\n",
       "    </tr>\n",
       "  </tbody>\n",
       "</table>\n",
       "</div>"
      ],
      "text/plain": [
       "   Smoothness1_real\n",
       "0             0.094\n",
       "1             0.098"
      ]
     },
     "execution_count": 13,
     "metadata": {},
     "output_type": "execute_result"
    }
   ],
   "source": [
    "ModeAttribute1 =Attribute1.mode()\n",
    "ModeAttribute1"
   ]
  },
  {
   "cell_type": "markdown",
   "id": "4f7339a9",
   "metadata": {},
   "source": [
    "###### İlk nitelik için çeyrekler arası genişlik sonucu"
   ]
  },
  {
   "cell_type": "code",
   "execution_count": 14,
   "id": "23563e25",
   "metadata": {},
   "outputs": [
    {
     "data": {
      "text/plain": [
       "array([0.019])"
      ]
     },
     "execution_count": 14,
     "metadata": {},
     "output_type": "execute_result"
    }
   ],
   "source": [
    "q3 = np.percentile(Attribute1, [75])\n",
    "q1 = np.percentile(Attribute1, [25])\n",
    "iqr = q3 - q1\n",
    "iqr"
   ]
  },
  {
   "cell_type": "markdown",
   "id": "818c696d",
   "metadata": {},
   "source": [
    "###### İlk nitelik için standart sapma"
   ]
  },
  {
   "cell_type": "code",
   "execution_count": 15,
   "id": "ad03519d",
   "metadata": {},
   "outputs": [
    {
     "data": {
      "text/plain": [
       "Smoothness1_real    0.014062\n",
       "dtype: float64"
      ]
     },
     "execution_count": 15,
     "metadata": {},
     "output_type": "execute_result"
    }
   ],
   "source": [
    "StandardDeviationAttribute1 = Attribute1.std(skipna = True)\n",
    "StandardDeviationAttribute1"
   ]
  },
  {
   "cell_type": "markdown",
   "id": "cab33020",
   "metadata": {},
   "source": [
    "###### İlk nitelik için varyans sonucu"
   ]
  },
  {
   "cell_type": "code",
   "execution_count": 16,
   "id": "805fd973",
   "metadata": {
    "scrolled": true
   },
   "outputs": [
    {
     "data": {
      "text/plain": [
       "Smoothness1_real    0.000198\n",
       "dtype: float64"
      ]
     },
     "execution_count": 16,
     "metadata": {},
     "output_type": "execute_result"
    }
   ],
   "source": [
    "VarianceAttribute1 = StandardDeviationAttribute1 * StandardDeviationAttribute1\n",
    "VarianceAttribute1"
   ]
  },
  {
   "cell_type": "markdown",
   "id": "8077bee9",
   "metadata": {},
   "source": [
    "###### İlk nitelik için aykırı değerler"
   ]
  },
  {
   "cell_type": "code",
   "execution_count": 17,
   "id": "3ff1f72a",
   "metadata": {},
   "outputs": [
    {
     "name": "stdout",
     "output_type": "stream",
     "text": [
      "Outlier Value:  0.142\n",
      "Outlier Value:  0.14\n",
      "Outlier Value:  0.145\n",
      "Outlier Value:  0.134\n",
      "Outlier Value:  0.163\n",
      "Outlier Value:  0.13699999999999998\n",
      "Outlier Value:  0.053\n"
     ]
    }
   ],
   "source": [
    "q3 = np.percentile(Attribute1, [75])\n",
    "q1 = np.percentile(Attribute1, [25])\n",
    "iqr = q3 - q1\n",
    "LD1= q1-(1.5 * iqr)\n",
    "UF1= q3+(1.5 * iqr)\n",
    "\n",
    "for i in Attribute1[\"Smoothness1_real\"]:\n",
    "        if i<LD1 or i>UF1:\n",
    "            print(\"Outlier Value: \",i)\n",
    "       "
   ]
  },
  {
   "cell_type": "markdown",
   "id": "bcf0cf21",
   "metadata": {},
   "source": [
    "###### İlk nitelik için Boxplot çizimi"
   ]
  },
  {
   "cell_type": "code",
   "execution_count": 18,
   "id": "5567b63b",
   "metadata": {},
   "outputs": [
    {
     "name": "stderr",
     "output_type": "stream",
     "text": [
      "C:\\anaconda\\envs\\notebook\\lib\\site-packages\\seaborn\\_decorators.py:43: FutureWarning: Pass the following variable as a keyword arg: x. From version 0.12, the only valid positional argument will be `data`, and passing other arguments without an explicit keyword will result in an error or misinterpretation.\n",
      "  FutureWarning\n"
     ]
    },
    {
     "data": {
      "text/plain": [
       "<AxesSubplot:xlabel='Smoothness1_real'>"
      ]
     },
     "execution_count": 18,
     "metadata": {},
     "output_type": "execute_result"
    },
    {
     "data": {
      "image/png": "[encoded data removed]",
      "text/plain": [
       "<Figure size 432x288 with 1 Axes>"
      ]
     },
     "metadata": {
      "needs_background": "light"
     },
     "output_type": "display_data"
    }
   ],
   "source": [
    "sns.boxplot(Attribute1['Smoothness1_real'])"
   ]
  },
  {
   "cell_type": "markdown",
   "id": "a9d84d42",
   "metadata": {},
   "source": [
    "###### İkinci nitelik için CSV dosyası okuma işlemi yapılmıştır."
   ]
  },
  {
   "cell_type": "code",
   "execution_count": 19,
   "id": "8fcf2a04",
   "metadata": {},
   "outputs": [
    {
     "data": {
      "text/html": [
       "<div>\n",
       "<style scoped>\n",
       "    .dataframe tbody tr th:only-of-type {\n",
       "        vertical-align: middle;\n",
       "    }\n",
       "\n",
       "    .dataframe tbody tr th {\n",
       "        vertical-align: top;\n",
       "    }\n",
       "\n",
       "    .dataframe thead th {\n",
       "        text-align: right;\n",
       "    }\n",
       "</style>\n",
       "<table border=\"1\" class=\"dataframe\">\n",
       "  <thead>\n",
       "    <tr style=\"text-align: right;\">\n",
       "      <th></th>\n",
       "      <th>Compactness1</th>\n",
       "    </tr>\n",
       "  </thead>\n",
       "  <tbody>\n",
       "    <tr>\n",
       "      <th>0</th>\n",
       "      <td>0.278</td>\n",
       "    </tr>\n",
       "    <tr>\n",
       "      <th>1</th>\n",
       "      <td>0.079</td>\n",
       "    </tr>\n",
       "    <tr>\n",
       "      <th>2</th>\n",
       "      <td>0.160</td>\n",
       "    </tr>\n",
       "    <tr>\n",
       "      <th>3</th>\n",
       "      <td>0.284</td>\n",
       "    </tr>\n",
       "    <tr>\n",
       "      <th>4</th>\n",
       "      <td>0.133</td>\n",
       "    </tr>\n",
       "    <tr>\n",
       "      <th>...</th>\n",
       "      <td>...</td>\n",
       "    </tr>\n",
       "    <tr>\n",
       "      <th>564</th>\n",
       "      <td>0.116</td>\n",
       "    </tr>\n",
       "    <tr>\n",
       "      <th>565</th>\n",
       "      <td>0.103</td>\n",
       "    </tr>\n",
       "    <tr>\n",
       "      <th>566</th>\n",
       "      <td>0.102</td>\n",
       "    </tr>\n",
       "    <tr>\n",
       "      <th>567</th>\n",
       "      <td>0.277</td>\n",
       "    </tr>\n",
       "    <tr>\n",
       "      <th>568</th>\n",
       "      <td>0.044</td>\n",
       "    </tr>\n",
       "  </tbody>\n",
       "</table>\n",
       "<p>569 rows × 1 columns</p>\n",
       "</div>"
      ],
      "text/plain": [
       "     Compactness1\n",
       "0           0.278\n",
       "1           0.079\n",
       "2           0.160\n",
       "3           0.284\n",
       "4           0.133\n",
       "..            ...\n",
       "564         0.116\n",
       "565         0.103\n",
       "566         0.102\n",
       "567         0.277\n",
       "568         0.044\n",
       "\n",
       "[569 rows x 1 columns]"
      ]
     },
     "execution_count": 19,
     "metadata": {},
     "output_type": "execute_result"
    }
   ],
   "source": [
    "Attribute2=pd.read_csv(\"Compactness.csv\")\n",
    "Attribute2"
   ]
  },
  {
   "cell_type": "markdown",
   "id": "6c4ad510",
   "metadata": {},
   "source": [
    "###### İkinci nitelik için Five Number Summary"
   ]
  },
  {
   "cell_type": "code",
   "execution_count": 20,
   "id": "e7cc7e30",
   "metadata": {},
   "outputs": [],
   "source": [
    "MinValues = np.min(Attribute2)\n",
    "MaxValue = np.max(Attribute2)\n",
    "Q1 = np.percentile(Attribute2, [25])\n",
    "Median = np.percentile(Attribute2, [50])\n",
    "Q3 = np.percentile(Attribute2, [75])"
   ]
  },
  {
   "cell_type": "code",
   "execution_count": 21,
   "id": "c8d717cb",
   "metadata": {},
   "outputs": [
    {
     "name": "stdout",
     "output_type": "stream",
     "text": [
      "Five Number Summary \n",
      "Min Values :\t0.019000\n",
      "Max Values :\t0.345000\n",
      "Median :\t0.065000\n",
      "Q1 :\t0.093000\n",
      "Q3 :\t0.130000\n",
      "\n"
     ]
    }
   ],
   "source": [
    "print(\"Five Number Summary \\nMin Values :\\t%f\\nMax Values :\\t%f\\nMedian :\\t%f\\nQ1 :\\t%f\\nQ3 :\\t%f\\n\"%(MinValues,MaxValue,Q1,Median,Q3))"
   ]
  },
  {
   "cell_type": "markdown",
   "id": "d2a147bb",
   "metadata": {},
   "source": [
    "######  İkinci nitelik için mean sonucu"
   ]
  },
  {
   "cell_type": "code",
   "execution_count": 22,
   "id": "bf5ce43c",
   "metadata": {},
   "outputs": [
    {
     "data": {
      "text/plain": [
       "Compactness1    0.104344\n",
       "dtype: float64"
      ]
     },
     "execution_count": 22,
     "metadata": {},
     "output_type": "execute_result"
    }
   ],
   "source": [
    "MeanAttribute2 = Attribute2.mean()\n",
    "MeanAttribute2"
   ]
  },
  {
   "cell_type": "markdown",
   "id": "4377b587",
   "metadata": {},
   "source": [
    "###### İkinci nitelik için mode sonucu"
   ]
  },
  {
   "cell_type": "code",
   "execution_count": 23,
   "id": "46bcb252",
   "metadata": {},
   "outputs": [
    {
     "data": {
      "text/html": [
       "<div>\n",
       "<style scoped>\n",
       "    .dataframe tbody tr th:only-of-type {\n",
       "        vertical-align: middle;\n",
       "    }\n",
       "\n",
       "    .dataframe tbody tr th {\n",
       "        vertical-align: top;\n",
       "    }\n",
       "\n",
       "    .dataframe thead th {\n",
       "        text-align: right;\n",
       "    }\n",
       "</style>\n",
       "<table border=\"1\" class=\"dataframe\">\n",
       "  <thead>\n",
       "    <tr style=\"text-align: right;\">\n",
       "      <th></th>\n",
       "      <th>Compactness1</th>\n",
       "    </tr>\n",
       "  </thead>\n",
       "  <tbody>\n",
       "    <tr>\n",
       "      <th>0</th>\n",
       "      <td>0.053</td>\n",
       "    </tr>\n",
       "    <tr>\n",
       "      <th>1</th>\n",
       "      <td>0.067</td>\n",
       "    </tr>\n",
       "    <tr>\n",
       "      <th>2</th>\n",
       "      <td>0.130</td>\n",
       "    </tr>\n",
       "  </tbody>\n",
       "</table>\n",
       "</div>"
      ],
      "text/plain": [
       "   Compactness1\n",
       "0         0.053\n",
       "1         0.067\n",
       "2         0.130"
      ]
     },
     "execution_count": 23,
     "metadata": {},
     "output_type": "execute_result"
    }
   ],
   "source": [
    "ModeAttribute2 =Attribute2.mode()\n",
    "ModeAttribute2"
   ]
  },
  {
   "cell_type": "markdown",
   "id": "f9404e76",
   "metadata": {},
   "source": [
    "###### İkinci nitelik için çeyrekler arası genişlik sonucu"
   ]
  },
  {
   "cell_type": "code",
   "execution_count": 24,
   "id": "ee1f3601",
   "metadata": {},
   "outputs": [
    {
     "data": {
      "text/plain": [
       "array([0.065])"
      ]
     },
     "execution_count": 24,
     "metadata": {},
     "output_type": "execute_result"
    }
   ],
   "source": [
    "q3 = np.percentile(Attribute2, [75])\n",
    "q1 = np.percentile(Attribute2, [25])\n",
    "iqr = q3 - q1\n",
    "iqr"
   ]
  },
  {
   "cell_type": "markdown",
   "id": "5317504d",
   "metadata": {},
   "source": [
    "###### İkinci nitelik için standart sapma"
   ]
  },
  {
   "cell_type": "code",
   "execution_count": 25,
   "id": "ed59281a",
   "metadata": {},
   "outputs": [
    {
     "data": {
      "text/plain": [
       "Compactness1    0.052816\n",
       "dtype: float64"
      ]
     },
     "execution_count": 25,
     "metadata": {},
     "output_type": "execute_result"
    }
   ],
   "source": [
    "StandardDeviationAttribute2 = Attribute2.std(skipna = True)\n",
    "StandardDeviationAttribute2"
   ]
  },
  {
   "cell_type": "markdown",
   "id": "40c96be6",
   "metadata": {},
   "source": [
    "###### İkinci nitelik için varyans sonucu"
   ]
  },
  {
   "cell_type": "code",
   "execution_count": 26,
   "id": "09e779fd",
   "metadata": {},
   "outputs": [
    {
     "data": {
      "text/plain": [
       "Compactness1    0.00279\n",
       "dtype: float64"
      ]
     },
     "execution_count": 26,
     "metadata": {},
     "output_type": "execute_result"
    }
   ],
   "source": [
    "VarianceAttribute2 = StandardDeviationAttribute2 * StandardDeviationAttribute2\n",
    "VarianceAttribute2"
   ]
  },
  {
   "cell_type": "markdown",
   "id": "5c534b2c",
   "metadata": {},
   "source": [
    "###### İkinci nitelik için aykırı değerler"
   ]
  },
  {
   "cell_type": "code",
   "execution_count": 27,
   "id": "074d86d7",
   "metadata": {},
   "outputs": [
    {
     "name": "stdout",
     "output_type": "stream",
     "text": [
      "Outlier Value:  0.278\n",
      "Outlier Value:  0.284\n",
      "Outlier Value:  0.24\n",
      "Outlier Value:  0.24600000000000002\n",
      "Outlier Value:  0.22899999999999998\n",
      "Outlier Value:  0.228\n",
      "Outlier Value:  0.345\n",
      "Outlier Value:  0.266\n",
      "Outlier Value:  0.27699999999999997\n",
      "Outlier Value:  0.287\n",
      "Outlier Value:  0.28300000000000003\n",
      "Outlier Value:  0.24100000000000002\n",
      "Outlier Value:  0.228\n",
      "Outlier Value:  0.311\n",
      "Outlier Value:  0.23600000000000002\n",
      "Outlier Value:  0.23600000000000002\n",
      "Outlier Value:  0.258\n",
      "Outlier Value:  0.27699999999999997\n"
     ]
    }
   ],
   "source": [
    "q3 = np.percentile(Attribute2, [75])\n",
    "q1 = np.percentile(Attribute2, [25])\n",
    "iqr = q3 - q1\n",
    "LD2= q1-(1.5 * iqr)\n",
    "UF2= q3+(1.5 * iqr)\n",
    "\n",
    "for i in Attribute2[\"Compactness1\"]:\n",
    "        if i<LD2 or i>UF2:\n",
    "            print(\"Outlier Value: \",i)"
   ]
  },
  {
   "cell_type": "code",
   "execution_count": 28,
   "id": "5a62d829",
   "metadata": {},
   "outputs": [
    {
     "data": {
      "text/plain": [
       "(array([], dtype=int64),)"
      ]
     },
     "execution_count": 28,
     "metadata": {},
     "output_type": "execute_result"
    }
   ],
   "source": [
    "Outlier1 = np.where(Attribute2['Compactness1'] < 0.019)\n",
    "Outlier1"
   ]
  },
  {
   "cell_type": "code",
   "execution_count": 29,
   "id": "f34a328b",
   "metadata": {},
   "outputs": [
    {
     "data": {
      "text/plain": [
       "(array([], dtype=int64),)"
      ]
     },
     "execution_count": 29,
     "metadata": {},
     "output_type": "execute_result"
    }
   ],
   "source": [
    "Outlier2 = np.where(Attribute2['Compactness1'] > 0.345)\n",
    "Outlier2"
   ]
  },
  {
   "cell_type": "markdown",
   "id": "81555120",
   "metadata": {},
   "source": [
    "###### İkinci nitelik için Boxplot çizimi"
   ]
  },
  {
   "cell_type": "code",
   "execution_count": 30,
   "id": "69b7b688",
   "metadata": {},
   "outputs": [
    {
     "name": "stderr",
     "output_type": "stream",
     "text": [
      "C:\\anaconda\\envs\\notebook\\lib\\site-packages\\seaborn\\_decorators.py:43: FutureWarning: Pass the following variable as a keyword arg: x. From version 0.12, the only valid positional argument will be `data`, and passing other arguments without an explicit keyword will result in an error or misinterpretation.\n",
      "  FutureWarning\n"
     ]
    },
    {
     "data": {
      "text/plain": [
       "<AxesSubplot:xlabel='Compactness1'>"
      ]
     },
     "execution_count": 30,
     "metadata": {},
     "output_type": "execute_result"
    },
    {
     "data": {
      "image/png": "[encoded data removed]",
      "text/plain": [
       "<Figure size 432x288 with 1 Axes>"
      ]
     },
     "metadata": {
      "needs_background": "light"
     },
     "output_type": "display_data"
    }
   ],
   "source": [
    "sns.boxplot(Attribute2['Compactness1'])"
   ]
  },
  {
   "cell_type": "markdown",
   "id": "a0332655",
   "metadata": {},
   "source": [
    "###### Üçüncü nitelik için CSV dosyası okuma işlemi yapılmıştır."
   ]
  },
  {
   "cell_type": "code",
   "execution_count": 31,
   "id": "0c3032ea",
   "metadata": {},
   "outputs": [
    {
     "data": {
      "text/html": [
       "<div>\n",
       "<style scoped>\n",
       "    .dataframe tbody tr th:only-of-type {\n",
       "        vertical-align: middle;\n",
       "    }\n",
       "\n",
       "    .dataframe tbody tr th {\n",
       "        vertical-align: top;\n",
       "    }\n",
       "\n",
       "    .dataframe thead th {\n",
       "        text-align: right;\n",
       "    }\n",
       "</style>\n",
       "<table border=\"1\" class=\"dataframe\">\n",
       "  <thead>\n",
       "    <tr style=\"text-align: right;\">\n",
       "      <th></th>\n",
       "      <th>Concavity1</th>\n",
       "    </tr>\n",
       "  </thead>\n",
       "  <tbody>\n",
       "    <tr>\n",
       "      <th>0</th>\n",
       "      <td>0.300</td>\n",
       "    </tr>\n",
       "    <tr>\n",
       "      <th>1</th>\n",
       "      <td>0.087</td>\n",
       "    </tr>\n",
       "    <tr>\n",
       "      <th>2</th>\n",
       "      <td>0.197</td>\n",
       "    </tr>\n",
       "    <tr>\n",
       "      <th>3</th>\n",
       "      <td>0.241</td>\n",
       "    </tr>\n",
       "    <tr>\n",
       "      <th>4</th>\n",
       "      <td>0.198</td>\n",
       "    </tr>\n",
       "    <tr>\n",
       "      <th>...</th>\n",
       "      <td>...</td>\n",
       "    </tr>\n",
       "    <tr>\n",
       "      <th>564</th>\n",
       "      <td>0.244</td>\n",
       "    </tr>\n",
       "    <tr>\n",
       "      <th>565</th>\n",
       "      <td>0.144</td>\n",
       "    </tr>\n",
       "    <tr>\n",
       "      <th>566</th>\n",
       "      <td>0.093</td>\n",
       "    </tr>\n",
       "    <tr>\n",
       "      <th>567</th>\n",
       "      <td>0.351</td>\n",
       "    </tr>\n",
       "    <tr>\n",
       "      <th>568</th>\n",
       "      <td>0.000</td>\n",
       "    </tr>\n",
       "  </tbody>\n",
       "</table>\n",
       "<p>569 rows × 1 columns</p>\n",
       "</div>"
      ],
      "text/plain": [
       "     Concavity1\n",
       "0         0.300\n",
       "1         0.087\n",
       "2         0.197\n",
       "3         0.241\n",
       "4         0.198\n",
       "..          ...\n",
       "564       0.244\n",
       "565       0.144\n",
       "566       0.093\n",
       "567       0.351\n",
       "568       0.000\n",
       "\n",
       "[569 rows x 1 columns]"
      ]
     },
     "execution_count": 31,
     "metadata": {},
     "output_type": "execute_result"
    }
   ],
   "source": [
    "Attribute3=pd.read_csv(\"Concavity.csv\")\n",
    "Attribute3"
   ]
  },
  {
   "cell_type": "markdown",
   "id": "f04a2082",
   "metadata": {},
   "source": [
    "###### Üçüncü nitelik için Five Number Summary"
   ]
  },
  {
   "cell_type": "code",
   "execution_count": 32,
   "id": "d475dcd2",
   "metadata": {},
   "outputs": [],
   "source": [
    "MinValues = np.min(Attribute3)\n",
    "MaxValue = np.max(Attribute3)\n",
    "Q1 = np.percentile(Attribute3, [25])\n",
    "Median = np.percentile(Attribute3, [50])\n",
    "Q3 = np.percentile(Attribute3, [75])"
   ]
  },
  {
   "cell_type": "code",
   "execution_count": 33,
   "id": "7b3836c2",
   "metadata": {},
   "outputs": [
    {
     "name": "stdout",
     "output_type": "stream",
     "text": [
      "Five Number Summary \n",
      "Min Values :\t0.000000\n",
      "Max Values :\t0.427000\n",
      "Median :\t0.030000\n",
      "Q1 :\t0.062000\n",
      "Q3 :\t0.131000\n",
      "\n"
     ]
    }
   ],
   "source": [
    "print(\"Five Number Summary \\nMin Values :\\t%f\\nMax Values :\\t%f\\nMedian :\\t%f\\nQ1 :\\t%f\\nQ3 :\\t%f\\n\"%(MinValues,MaxValue,Q1,Median,Q3))"
   ]
  },
  {
   "cell_type": "markdown",
   "id": "3c6ce96e",
   "metadata": {},
   "source": [
    "###### Üçüncü nitelik için mean sonucu"
   ]
  },
  {
   "cell_type": "code",
   "execution_count": 34,
   "id": "1b9ac0e7",
   "metadata": {},
   "outputs": [
    {
     "data": {
      "text/plain": [
       "Concavity1    0.088819\n",
       "dtype: float64"
      ]
     },
     "execution_count": 34,
     "metadata": {},
     "output_type": "execute_result"
    }
   ],
   "source": [
    "MeanAttribute3 = Attribute3.mean()\n",
    "MeanAttribute3"
   ]
  },
  {
   "cell_type": "markdown",
   "id": "00ee95ec",
   "metadata": {},
   "source": [
    "######  Üçüncü nitelik için mode sonucu"
   ]
  },
  {
   "cell_type": "code",
   "execution_count": 35,
   "id": "317bec58",
   "metadata": {},
   "outputs": [
    {
     "data": {
      "text/html": [
       "<div>\n",
       "<style scoped>\n",
       "    .dataframe tbody tr th:only-of-type {\n",
       "        vertical-align: middle;\n",
       "    }\n",
       "\n",
       "    .dataframe tbody tr th {\n",
       "        vertical-align: top;\n",
       "    }\n",
       "\n",
       "    .dataframe thead th {\n",
       "        text-align: right;\n",
       "    }\n",
       "</style>\n",
       "<table border=\"1\" class=\"dataframe\">\n",
       "  <thead>\n",
       "    <tr style=\"text-align: right;\">\n",
       "      <th></th>\n",
       "      <th>Concavity1</th>\n",
       "    </tr>\n",
       "  </thead>\n",
       "  <tbody>\n",
       "    <tr>\n",
       "      <th>0</th>\n",
       "      <td>0.0</td>\n",
       "    </tr>\n",
       "  </tbody>\n",
       "</table>\n",
       "</div>"
      ],
      "text/plain": [
       "   Concavity1\n",
       "0         0.0"
      ]
     },
     "execution_count": 35,
     "metadata": {},
     "output_type": "execute_result"
    }
   ],
   "source": [
    "ModeAttribute3 =Attribute3.mode()\n",
    "ModeAttribute3"
   ]
  },
  {
   "cell_type": "markdown",
   "id": "fb86085c",
   "metadata": {},
   "source": [
    "###### Üçüncü nitelik için çeyrekler arası genişlik sonucu"
   ]
  },
  {
   "cell_type": "code",
   "execution_count": 36,
   "id": "6cfcd91b",
   "metadata": {},
   "outputs": [
    {
     "data": {
      "text/plain": [
       "array([0.101])"
      ]
     },
     "execution_count": 36,
     "metadata": {},
     "output_type": "execute_result"
    }
   ],
   "source": [
    "q3 = np.percentile(Attribute3, [75])\n",
    "q1 = np.percentile(Attribute3, [25])\n",
    "iqr = q3 - q1\n",
    "iqr"
   ]
  },
  {
   "cell_type": "markdown",
   "id": "249d7f4f",
   "metadata": {},
   "source": [
    "######  Üçüncü nitelik için standart sapma"
   ]
  },
  {
   "cell_type": "code",
   "execution_count": 37,
   "id": "38f57fb9",
   "metadata": {},
   "outputs": [
    {
     "data": {
      "text/plain": [
       "Concavity1    0.079702\n",
       "dtype: float64"
      ]
     },
     "execution_count": 37,
     "metadata": {},
     "output_type": "execute_result"
    }
   ],
   "source": [
    "StandardDeviationAttribute3 = Attribute3.std(skipna = True)\n",
    "StandardDeviationAttribute3"
   ]
  },
  {
   "cell_type": "markdown",
   "id": "9d4d31d4",
   "metadata": {},
   "source": [
    "###### Üçüncü nitelik için varyans sonucu"
   ]
  },
  {
   "cell_type": "code",
   "execution_count": 38,
   "id": "f7cc3eea",
   "metadata": {},
   "outputs": [
    {
     "data": {
      "text/plain": [
       "Concavity1    0.006352\n",
       "dtype: float64"
      ]
     },
     "execution_count": 38,
     "metadata": {},
     "output_type": "execute_result"
    }
   ],
   "source": [
    "VarianceAttribute3 = StandardDeviationAttribute3 * StandardDeviationAttribute3\n",
    "VarianceAttribute3"
   ]
  },
  {
   "cell_type": "markdown",
   "id": "e5d8469b",
   "metadata": {},
   "source": [
    "###### Üçüncü nitelik için aykırı değerler"
   ]
  },
  {
   "cell_type": "code",
   "execution_count": 39,
   "id": "884734fd",
   "metadata": {},
   "outputs": [
    {
     "name": "stdout",
     "output_type": "stream",
     "text": [
      "Outlier Value:  0.3\n",
      "Outlier Value:  0.313\n",
      "Outlier Value:  0.375\n",
      "Outlier Value:  0.33399999999999996\n",
      "Outlier Value:  0.426\n",
      "Outlier Value:  0.3\n",
      "Outlier Value:  0.42700000000000005\n",
      "Outlier Value:  0.41100000000000003\n",
      "Outlier Value:  0.287\n",
      "Outlier Value:  0.35200000000000004\n",
      "Outlier Value:  0.32\n",
      "Outlier Value:  0.318\n",
      "Outlier Value:  0.29100000000000004\n",
      "Outlier Value:  0.337\n",
      "Outlier Value:  0.319\n",
      "Outlier Value:  0.364\n",
      "Outlier Value:  0.317\n",
      "Outlier Value:  0.35100000000000003\n"
     ]
    }
   ],
   "source": [
    "q3 = np.percentile(Attribute3, [75])\n",
    "q1 = np.percentile(Attribute3, [25])\n",
    "iqr = q3 - q1\n",
    "LD3= q1-(1.5 * iqr)\n",
    "UF3= q3+(1.5 * iqr)\n",
    "\n",
    "for i in Attribute3[\"Concavity1\"]:\n",
    "        if i<LD3 or i>UF3:\n",
    "            print(\"Outlier Value: \",i)"
   ]
  },
  {
   "cell_type": "markdown",
   "id": "1b927547",
   "metadata": {},
   "source": [
    "###### Üçüncü nitelik için Boxplot çizimi"
   ]
  },
  {
   "cell_type": "code",
   "execution_count": 18,
   "id": "0f5a6325",
   "metadata": {},
   "outputs": [
    {
     "name": "stderr",
     "output_type": "stream",
     "text": [
      "C:\\anaconda\\envs\\notebook\\lib\\site-packages\\seaborn\\_decorators.py:43: FutureWarning: Pass the following variable as a keyword arg: x. From version 0.12, the only valid positional argument will be `data`, and passing other arguments without an explicit keyword will result in an error or misinterpretation.\n",
      "  FutureWarning\n"
     ]
    },
    {
     "data": {
      "text/plain": [
       "<AxesSubplot:xlabel='Concavity1'>"
      ]
     },
     "execution_count": 18,
     "metadata": {},
     "output_type": "execute_result"
    },
    {
     "data": {
      "image/png": "[encoded data removed]",
      "text/plain": [
       "<Figure size 432x288 with 1 Axes>"
      ]
     },
     "metadata": {
      "needs_background": "light"
     },
     "output_type": "display_data"
    }
   ],
   "source": [
    "sns.boxplot(Attribute3['Concavity1'])"
   ]
  },
  {
   "cell_type": "markdown",
   "id": "eab6e5ee",
   "metadata": {},
   "source": [
    "###### Dördüncü nitelik için CSV dosyası okuma işlemi yapılmıştır."
   ]
  },
  {
   "cell_type": "code",
   "execution_count": 40,
   "id": "a5667173",
   "metadata": {},
   "outputs": [
    {
     "data": {
      "text/html": [
       "<div>\n",
       "<style scoped>\n",
       "    .dataframe tbody tr th:only-of-type {\n",
       "        vertical-align: middle;\n",
       "    }\n",
       "\n",
       "    .dataframe tbody tr th {\n",
       "        vertical-align: top;\n",
       "    }\n",
       "\n",
       "    .dataframe thead th {\n",
       "        text-align: right;\n",
       "    }\n",
       "</style>\n",
       "<table border=\"1\" class=\"dataframe\">\n",
       "  <thead>\n",
       "    <tr style=\"text-align: right;\">\n",
       "      <th></th>\n",
       "      <th>Concave_points1</th>\n",
       "    </tr>\n",
       "  </thead>\n",
       "  <tbody>\n",
       "    <tr>\n",
       "      <th>0</th>\n",
       "      <td>0.147</td>\n",
       "    </tr>\n",
       "    <tr>\n",
       "      <th>1</th>\n",
       "      <td>0.070</td>\n",
       "    </tr>\n",
       "    <tr>\n",
       "      <th>2</th>\n",
       "      <td>0.128</td>\n",
       "    </tr>\n",
       "    <tr>\n",
       "      <th>3</th>\n",
       "      <td>0.105</td>\n",
       "    </tr>\n",
       "    <tr>\n",
       "      <th>4</th>\n",
       "      <td>0.104</td>\n",
       "    </tr>\n",
       "    <tr>\n",
       "      <th>...</th>\n",
       "      <td>...</td>\n",
       "    </tr>\n",
       "    <tr>\n",
       "      <th>564</th>\n",
       "      <td>0.139</td>\n",
       "    </tr>\n",
       "    <tr>\n",
       "      <th>565</th>\n",
       "      <td>0.098</td>\n",
       "    </tr>\n",
       "    <tr>\n",
       "      <th>566</th>\n",
       "      <td>0.053</td>\n",
       "    </tr>\n",
       "    <tr>\n",
       "      <th>567</th>\n",
       "      <td>0.152</td>\n",
       "    </tr>\n",
       "    <tr>\n",
       "      <th>568</th>\n",
       "      <td>0.000</td>\n",
       "    </tr>\n",
       "  </tbody>\n",
       "</table>\n",
       "<p>569 rows × 1 columns</p>\n",
       "</div>"
      ],
      "text/plain": [
       "     Concave_points1\n",
       "0              0.147\n",
       "1              0.070\n",
       "2              0.128\n",
       "3              0.105\n",
       "4              0.104\n",
       "..               ...\n",
       "564            0.139\n",
       "565            0.098\n",
       "566            0.053\n",
       "567            0.152\n",
       "568            0.000\n",
       "\n",
       "[569 rows x 1 columns]"
      ]
     },
     "execution_count": 40,
     "metadata": {},
     "output_type": "execute_result"
    }
   ],
   "source": [
    "Attribute4 =pd.read_csv(\"ConcavePoints.csv\")\n",
    "Attribute4"
   ]
  },
  {
   "cell_type": "markdown",
   "id": "bf78e764",
   "metadata": {},
   "source": [
    "###### Dördüncü nitelik için Five Number Summary"
   ]
  },
  {
   "cell_type": "code",
   "execution_count": 41,
   "id": "f98adaa5",
   "metadata": {},
   "outputs": [],
   "source": [
    "MinValues = np.min(Attribute4)\n",
    "MaxValue = np.max(Attribute4)\n",
    "Q1 = np.percentile(Attribute4, [25])\n",
    "Median = np.percentile(Attribute4, [50])\n",
    "Q3 = np.percentile(Attribute4, [75])"
   ]
  },
  {
   "cell_type": "code",
   "execution_count": 42,
   "id": "88894491",
   "metadata": {},
   "outputs": [
    {
     "name": "stdout",
     "output_type": "stream",
     "text": [
      "Five Number Summary \n",
      "Min Values :\t0.000000\n",
      "Max Values :\t0.201000\n",
      "Median :\t0.020000\n",
      "Q1 :\t0.034000\n",
      "Q3 :\t0.074000\n",
      "\n"
     ]
    }
   ],
   "source": [
    "print(\"Five Number Summary \\nMin Values :\\t%f\\nMax Values :\\t%f\\nMedian :\\t%f\\nQ1 :\\t%f\\nQ3 :\\t%f\\n\"%(MinValues,MaxValue,Q1,Median,Q3))"
   ]
  },
  {
   "cell_type": "markdown",
   "id": "ad4d7b69",
   "metadata": {},
   "source": [
    "###### Dördüncü nitelik için mean sonucu"
   ]
  },
  {
   "cell_type": "code",
   "execution_count": 43,
   "id": "78aa02db",
   "metadata": {},
   "outputs": [
    {
     "data": {
      "text/plain": [
       "Concave_points1    0.048935\n",
       "dtype: float64"
      ]
     },
     "execution_count": 43,
     "metadata": {},
     "output_type": "execute_result"
    }
   ],
   "source": [
    "MeanAttribute4 = Attribute4.mean()\n",
    "MeanAttribute4"
   ]
  },
  {
   "cell_type": "markdown",
   "id": "9052799e",
   "metadata": {},
   "source": [
    "###### Dördüncü nitelik için mode sonucu"
   ]
  },
  {
   "cell_type": "code",
   "execution_count": 44,
   "id": "6e99e2cf",
   "metadata": {},
   "outputs": [
    {
     "data": {
      "text/html": [
       "<div>\n",
       "<style scoped>\n",
       "    .dataframe tbody tr th:only-of-type {\n",
       "        vertical-align: middle;\n",
       "    }\n",
       "\n",
       "    .dataframe tbody tr th {\n",
       "        vertical-align: top;\n",
       "    }\n",
       "\n",
       "    .dataframe thead th {\n",
       "        text-align: right;\n",
       "    }\n",
       "</style>\n",
       "<table border=\"1\" class=\"dataframe\">\n",
       "  <thead>\n",
       "    <tr style=\"text-align: right;\">\n",
       "      <th></th>\n",
       "      <th>Concave_points1</th>\n",
       "    </tr>\n",
       "  </thead>\n",
       "  <tbody>\n",
       "    <tr>\n",
       "      <th>0</th>\n",
       "      <td>0.029</td>\n",
       "    </tr>\n",
       "  </tbody>\n",
       "</table>\n",
       "</div>"
      ],
      "text/plain": [
       "   Concave_points1\n",
       "0            0.029"
      ]
     },
     "execution_count": 44,
     "metadata": {},
     "output_type": "execute_result"
    }
   ],
   "source": [
    "ModeAttribute4 =Attribute4.mode()\n",
    "ModeAttribute4"
   ]
  },
  {
   "cell_type": "markdown",
   "id": "3b8c6247",
   "metadata": {},
   "source": [
    "###### Dördüncü nitelik için çeyrekler arası genişlik sonucu"
   ]
  },
  {
   "cell_type": "code",
   "execution_count": 45,
   "id": "d80c7234",
   "metadata": {},
   "outputs": [
    {
     "data": {
      "text/plain": [
       "array([0.054])"
      ]
     },
     "execution_count": 45,
     "metadata": {},
     "output_type": "execute_result"
    }
   ],
   "source": [
    "q3 = np.percentile(Attribute4, [75])\n",
    "q1 = np.percentile(Attribute4, [25])\n",
    "iqr = q3 - q1\n",
    "iqr"
   ]
  },
  {
   "cell_type": "markdown",
   "id": "01b181a5",
   "metadata": {},
   "source": [
    "###### Dördüncü nitelik için standart sapma"
   ]
  },
  {
   "cell_type": "code",
   "execution_count": 46,
   "id": "bfe675d0",
   "metadata": {},
   "outputs": [
    {
     "data": {
      "text/plain": [
       "Concave_points1    0.038798\n",
       "dtype: float64"
      ]
     },
     "execution_count": 46,
     "metadata": {},
     "output_type": "execute_result"
    }
   ],
   "source": [
    "StandardDeviationAttribute4 = Attribute4.std(skipna = True)\n",
    "StandardDeviationAttribute4"
   ]
  },
  {
   "cell_type": "markdown",
   "id": "6e3d9548",
   "metadata": {},
   "source": [
    "###### Dördüncü nitelik için varyans sonucu"
   ]
  },
  {
   "cell_type": "code",
   "execution_count": 47,
   "id": "d248d610",
   "metadata": {},
   "outputs": [
    {
     "data": {
      "text/plain": [
       "Concave_points1    0.001505\n",
       "dtype: float64"
      ]
     },
     "execution_count": 47,
     "metadata": {},
     "output_type": "execute_result"
    }
   ],
   "source": [
    "VarianceAttribute4 = StandardDeviationAttribute4 * StandardDeviationAttribute4\n",
    "VarianceAttribute4"
   ]
  },
  {
   "cell_type": "markdown",
   "id": "0730753a",
   "metadata": {},
   "source": [
    "###### Dördüncü nitelik için aykırı değerler"
   ]
  },
  {
   "cell_type": "code",
   "execution_count": 49,
   "id": "78fccba1",
   "metadata": {},
   "outputs": [
    {
     "name": "stdout",
     "output_type": "stream",
     "text": [
      "Outlier Value:  0.16\n",
      "Outlier Value:  0.184\n",
      "Outlier Value:  0.182\n",
      "Outlier Value:  0.201\n",
      "Outlier Value:  0.188\n",
      "Outlier Value:  0.162\n",
      "Outlier Value:  0.16\n",
      "Outlier Value:  0.191\n",
      "Outlier Value:  0.156\n",
      "Outlier Value:  0.16899999999999998\n"
     ]
    }
   ],
   "source": [
    "q3 = np.percentile(Attribute4, [75])\n",
    "q1 = np.percentile(Attribute4, [25])\n",
    "iqr = q3 - q1\n",
    "LD4= q1-(1.5 * iqr)\n",
    "UF4= q3+(1.5 * iqr)\n",
    "\n",
    "for i in Attribute4[\"Concave_points1\"]:\n",
    "        if i<LD4 or i>UF4:\n",
    "            print(\"Outlier Value: \",i)"
   ]
  },
  {
   "cell_type": "markdown",
   "id": "156ed5ce",
   "metadata": {},
   "source": [
    "###### Dördüncü nitelik için Boxplot çizimi"
   ]
  },
  {
   "cell_type": "code",
   "execution_count": 50,
   "id": "e3b6fdb5",
   "metadata": {},
   "outputs": [
    {
     "name": "stderr",
     "output_type": "stream",
     "text": [
      "C:\\anaconda\\envs\\notebook\\lib\\site-packages\\seaborn\\_decorators.py:43: FutureWarning: Pass the following variable as a keyword arg: x. From version 0.12, the only valid positional argument will be `data`, and passing other arguments without an explicit keyword will result in an error or misinterpretation.\n",
      "  FutureWarning\n"
     ]
    },
    {
     "data": {
      "text/plain": [
       "<AxesSubplot:xlabel='Concave_points1'>"
      ]
     },
     "execution_count": 50,
     "metadata": {},
     "output_type": "execute_result"
    },
    {
     "data": {
      "image/png": "[encoded data removed]",
      "text/plain": [
       "<Figure size 432x288 with 1 Axes>"
      ]
     },
     "metadata": {
      "needs_background": "light"
     },
     "output_type": "display_data"
    }
   ],
   "source": [
    "sns.boxplot(Attribute4['Concave_points1'])"
   ]
  },
  {
   "cell_type": "code",
   "execution_count": null,
   "id": "7a0a2c22",
   "metadata": {},
   "outputs": [],
   "source": []
  }
 ],
 "metadata": {
  "kernelspec": {
   "display_name": "Python 3",
   "language": "python",
   "name": "python3"
  },
  "language_info": {
   "codemirror_mode": {
    "name": "ipython",
    "version": 3
   },
   "file_extension": ".py",
   "mimetype": "text/x-python",
   "name": "python",
   "nbconvert_exporter": "python",
   "pygments_lexer": "ipython3",
   "version": "3.6.13"
  }
 },
 "nbformat": 4,
 "nbformat_minor": 5
}
