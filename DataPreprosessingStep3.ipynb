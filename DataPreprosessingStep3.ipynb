{
 "cells": [
  {
   "cell_type": "markdown",
   "id": "237ac576",
   "metadata": {},
   "source": [
    "#### 3. X veri kümesinin her bir niteliğin bilgi kazancı (information gain) değeri hesaplanacaktır. Sürekli değerli (Ayrık olmayan, Continuous) olan nitelikler varsa aşağıdaki işlemleri gerçekleştiriniz. Veri kümenizin belirtilen niteliklerinin tamamı ayrık (discrete) ise a ve b seçeneklerini ihmal ediniz ve direkt olarak bilgi kazancı değerlerini hesaplayınız.\n",
    "\ta) Veri kümesinde ayrık olmayan nitelik değerlerini 3 eşit genişlik (3 equal-width) değeri olacak şekilde parçalara ayırdıktan sonra her bir nitelik için bilgi kazancını (information gain) hesaplayınız.\n",
    "\tb) Veri kümesinde ayrık olmayan nitelik değerlerini 4 eşit genişlik (4 equal-width) değeri olacak şekilde parçalara ayırdıktan sonra her bir nitelik için bilgi kazancını (information gain) hesaplayınız.\n"
   ]
  },
  {
   "cell_type": "markdown",
   "id": "462837b9",
   "metadata": {},
   "source": [
    "##### Kütüphaneler eklendi."
   ]
  },
  {
   "cell_type": "code",
   "execution_count": 30,
   "id": "c47643e3",
   "metadata": {},
   "outputs": [],
   "source": [
    "import pandas as pd"
   ]
  },
  {
   "cell_type": "code",
   "execution_count": 31,
   "id": "c1818c9a",
   "metadata": {},
   "outputs": [],
   "source": [
    "from sklearn import preprocessing"
   ]
  },
  {
   "cell_type": "code",
   "execution_count": 32,
   "id": "0832a017",
   "metadata": {},
   "outputs": [],
   "source": [
    "import numpy as np"
   ]
  },
  {
   "cell_type": "code",
   "execution_count": 33,
   "id": "45ce037d",
   "metadata": {},
   "outputs": [],
   "source": [
    "from scipy import stats"
   ]
  },
  {
   "cell_type": "code",
   "execution_count": 34,
   "id": "d0256e7e",
   "metadata": {},
   "outputs": [],
   "source": [
    "from scipy.stats import entropy"
   ]
  },
  {
   "cell_type": "code",
   "execution_count": 35,
   "id": "823bc07e",
   "metadata": {},
   "outputs": [],
   "source": [
    "import math"
   ]
  },
  {
   "cell_type": "code",
   "execution_count": 36,
   "id": "d382eda6",
   "metadata": {},
   "outputs": [],
   "source": [
    "import matplotlib.pyplot as plt"
   ]
  },
  {
   "cell_type": "markdown",
   "id": "b6aa1b59",
   "metadata": {},
   "source": [
    "##### İlk nitelik için CSV okuma işlemleri yapıldı."
   ]
  },
  {
   "cell_type": "code",
   "execution_count": 37,
   "id": "9df68b8e",
   "metadata": {
    "scrolled": false
   },
   "outputs": [
    {
     "data": {
      "text/html": [
       "<div>\n",
       "<style scoped>\n",
       "    .dataframe tbody tr th:only-of-type {\n",
       "        vertical-align: middle;\n",
       "    }\n",
       "\n",
       "    .dataframe tbody tr th {\n",
       "        vertical-align: top;\n",
       "    }\n",
       "\n",
       "    .dataframe thead th {\n",
       "        text-align: right;\n",
       "    }\n",
       "</style>\n",
       "<table border=\"1\" class=\"dataframe\">\n",
       "  <thead>\n",
       "    <tr style=\"text-align: right;\">\n",
       "      <th></th>\n",
       "      <th>Smoothness1_real</th>\n",
       "    </tr>\n",
       "  </thead>\n",
       "  <tbody>\n",
       "    <tr>\n",
       "      <th>0</th>\n",
       "      <td>0.118</td>\n",
       "    </tr>\n",
       "    <tr>\n",
       "      <th>1</th>\n",
       "      <td>0.085</td>\n",
       "    </tr>\n",
       "    <tr>\n",
       "      <th>2</th>\n",
       "      <td>0.110</td>\n",
       "    </tr>\n",
       "    <tr>\n",
       "      <th>3</th>\n",
       "      <td>0.142</td>\n",
       "    </tr>\n",
       "    <tr>\n",
       "      <th>4</th>\n",
       "      <td>0.100</td>\n",
       "    </tr>\n",
       "    <tr>\n",
       "      <th>...</th>\n",
       "      <td>...</td>\n",
       "    </tr>\n",
       "    <tr>\n",
       "      <th>564</th>\n",
       "      <td>0.111</td>\n",
       "    </tr>\n",
       "    <tr>\n",
       "      <th>565</th>\n",
       "      <td>0.098</td>\n",
       "    </tr>\n",
       "    <tr>\n",
       "      <th>566</th>\n",
       "      <td>0.085</td>\n",
       "    </tr>\n",
       "    <tr>\n",
       "      <th>567</th>\n",
       "      <td>0.118</td>\n",
       "    </tr>\n",
       "    <tr>\n",
       "      <th>568</th>\n",
       "      <td>0.053</td>\n",
       "    </tr>\n",
       "  </tbody>\n",
       "</table>\n",
       "<p>569 rows × 1 columns</p>\n",
       "</div>"
      ],
      "text/plain": [
       "     Smoothness1_real\n",
       "0               0.118\n",
       "1               0.085\n",
       "2               0.110\n",
       "3               0.142\n",
       "4               0.100\n",
       "..                ...\n",
       "564             0.111\n",
       "565             0.098\n",
       "566             0.085\n",
       "567             0.118\n",
       "568             0.053\n",
       "\n",
       "[569 rows x 1 columns]"
      ]
     },
     "execution_count": 37,
     "metadata": {},
     "output_type": "execute_result"
    }
   ],
   "source": [
    "Attribute1=pd.read_csv(\"SmoothnessReal.csv\")\n",
    "Attribute1"
   ]
  },
  {
   "cell_type": "code",
   "execution_count": 38,
   "id": "8257519c",
   "metadata": {
    "scrolled": false
   },
   "outputs": [
    {
     "data": {
      "text/html": [
       "<div>\n",
       "<style scoped>\n",
       "    .dataframe tbody tr th:only-of-type {\n",
       "        vertical-align: middle;\n",
       "    }\n",
       "\n",
       "    .dataframe tbody tr th {\n",
       "        vertical-align: top;\n",
       "    }\n",
       "\n",
       "    .dataframe thead th {\n",
       "        text-align: right;\n",
       "    }\n",
       "</style>\n",
       "<table border=\"1\" class=\"dataframe\">\n",
       "  <thead>\n",
       "    <tr style=\"text-align: right;\">\n",
       "      <th></th>\n",
       "      <th>Smoothness1_real;Class</th>\n",
       "    </tr>\n",
       "  </thead>\n",
       "  <tbody>\n",
       "    <tr>\n",
       "      <th>0</th>\n",
       "      <td>0.118;M</td>\n",
       "    </tr>\n",
       "    <tr>\n",
       "      <th>1</th>\n",
       "      <td>0.085;M</td>\n",
       "    </tr>\n",
       "    <tr>\n",
       "      <th>2</th>\n",
       "      <td>0.11;M</td>\n",
       "    </tr>\n",
       "    <tr>\n",
       "      <th>3</th>\n",
       "      <td>0.142;M</td>\n",
       "    </tr>\n",
       "    <tr>\n",
       "      <th>4</th>\n",
       "      <td>0.1;M</td>\n",
       "    </tr>\n",
       "    <tr>\n",
       "      <th>...</th>\n",
       "      <td>...</td>\n",
       "    </tr>\n",
       "    <tr>\n",
       "      <th>564</th>\n",
       "      <td>0.111;M</td>\n",
       "    </tr>\n",
       "    <tr>\n",
       "      <th>565</th>\n",
       "      <td>0.098;M</td>\n",
       "    </tr>\n",
       "    <tr>\n",
       "      <th>566</th>\n",
       "      <td>0.085;M</td>\n",
       "    </tr>\n",
       "    <tr>\n",
       "      <th>567</th>\n",
       "      <td>0.118;M</td>\n",
       "    </tr>\n",
       "    <tr>\n",
       "      <th>568</th>\n",
       "      <td>0.053;B</td>\n",
       "    </tr>\n",
       "  </tbody>\n",
       "</table>\n",
       "<p>569 rows × 1 columns</p>\n",
       "</div>"
      ],
      "text/plain": [
       "    Smoothness1_real;Class\n",
       "0                  0.118;M\n",
       "1                  0.085;M\n",
       "2                   0.11;M\n",
       "3                  0.142;M\n",
       "4                    0.1;M\n",
       "..                     ...\n",
       "564                0.111;M\n",
       "565                0.098;M\n",
       "566                0.085;M\n",
       "567                0.118;M\n",
       "568                0.053;B\n",
       "\n",
       "[569 rows x 1 columns]"
      ]
     },
     "execution_count": 38,
     "metadata": {},
     "output_type": "execute_result"
    }
   ],
   "source": [
    "Attribute1Class=pd.read_csv(\"SmoothnessRealClass.csv\")\n",
    "Attribute1Class"
   ]
  },
  {
   "cell_type": "code",
   "execution_count": 39,
   "id": "ab8d036c",
   "metadata": {},
   "outputs": [
    {
     "data": {
      "text/html": [
       "<div>\n",
       "<style scoped>\n",
       "    .dataframe tbody tr th:only-of-type {\n",
       "        vertical-align: middle;\n",
       "    }\n",
       "\n",
       "    .dataframe tbody tr th {\n",
       "        vertical-align: top;\n",
       "    }\n",
       "\n",
       "    .dataframe thead th {\n",
       "        text-align: right;\n",
       "    }\n",
       "</style>\n",
       "<table border=\"1\" class=\"dataframe\">\n",
       "  <thead>\n",
       "    <tr style=\"text-align: right;\">\n",
       "      <th></th>\n",
       "      <th>Class</th>\n",
       "    </tr>\n",
       "  </thead>\n",
       "  <tbody>\n",
       "    <tr>\n",
       "      <th>0</th>\n",
       "      <td>M</td>\n",
       "    </tr>\n",
       "    <tr>\n",
       "      <th>1</th>\n",
       "      <td>M</td>\n",
       "    </tr>\n",
       "    <tr>\n",
       "      <th>2</th>\n",
       "      <td>M</td>\n",
       "    </tr>\n",
       "    <tr>\n",
       "      <th>3</th>\n",
       "      <td>M</td>\n",
       "    </tr>\n",
       "    <tr>\n",
       "      <th>4</th>\n",
       "      <td>M</td>\n",
       "    </tr>\n",
       "    <tr>\n",
       "      <th>...</th>\n",
       "      <td>...</td>\n",
       "    </tr>\n",
       "    <tr>\n",
       "      <th>564</th>\n",
       "      <td>M</td>\n",
       "    </tr>\n",
       "    <tr>\n",
       "      <th>565</th>\n",
       "      <td>M</td>\n",
       "    </tr>\n",
       "    <tr>\n",
       "      <th>566</th>\n",
       "      <td>M</td>\n",
       "    </tr>\n",
       "    <tr>\n",
       "      <th>567</th>\n",
       "      <td>M</td>\n",
       "    </tr>\n",
       "    <tr>\n",
       "      <th>568</th>\n",
       "      <td>B</td>\n",
       "    </tr>\n",
       "  </tbody>\n",
       "</table>\n",
       "<p>569 rows × 1 columns</p>\n",
       "</div>"
      ],
      "text/plain": [
       "    Class\n",
       "0       M\n",
       "1       M\n",
       "2       M\n",
       "3       M\n",
       "4       M\n",
       "..    ...\n",
       "564     M\n",
       "565     M\n",
       "566     M\n",
       "567     M\n",
       "568     B\n",
       "\n",
       "[569 rows x 1 columns]"
      ]
     },
     "execution_count": 39,
     "metadata": {},
     "output_type": "execute_result"
    }
   ],
   "source": [
    "Class1 = pd.read_csv(\"Class.csv\")\n",
    "Class1"
   ]
  },
  {
   "cell_type": "markdown",
   "id": "54c30df7",
   "metadata": {},
   "source": [
    "##### String targetler için integer dönüşümü yapıldı."
   ]
  },
  {
   "cell_type": "code",
   "execution_count": 40,
   "id": "ccf5442c",
   "metadata": {},
   "outputs": [
    {
     "data": {
      "text/html": [
       "<div>\n",
       "<style scoped>\n",
       "    .dataframe tbody tr th:only-of-type {\n",
       "        vertical-align: middle;\n",
       "    }\n",
       "\n",
       "    .dataframe tbody tr th {\n",
       "        vertical-align: top;\n",
       "    }\n",
       "\n",
       "    .dataframe thead th {\n",
       "        text-align: right;\n",
       "    }\n",
       "</style>\n",
       "<table border=\"1\" class=\"dataframe\">\n",
       "  <thead>\n",
       "    <tr style=\"text-align: right;\">\n",
       "      <th></th>\n",
       "      <th>Class</th>\n",
       "    </tr>\n",
       "  </thead>\n",
       "  <tbody>\n",
       "    <tr>\n",
       "      <th>0</th>\n",
       "      <td>0</td>\n",
       "    </tr>\n",
       "    <tr>\n",
       "      <th>1</th>\n",
       "      <td>0</td>\n",
       "    </tr>\n",
       "    <tr>\n",
       "      <th>2</th>\n",
       "      <td>0</td>\n",
       "    </tr>\n",
       "    <tr>\n",
       "      <th>3</th>\n",
       "      <td>0</td>\n",
       "    </tr>\n",
       "    <tr>\n",
       "      <th>4</th>\n",
       "      <td>0</td>\n",
       "    </tr>\n",
       "    <tr>\n",
       "      <th>...</th>\n",
       "      <td>...</td>\n",
       "    </tr>\n",
       "    <tr>\n",
       "      <th>564</th>\n",
       "      <td>0</td>\n",
       "    </tr>\n",
       "    <tr>\n",
       "      <th>565</th>\n",
       "      <td>0</td>\n",
       "    </tr>\n",
       "    <tr>\n",
       "      <th>566</th>\n",
       "      <td>0</td>\n",
       "    </tr>\n",
       "    <tr>\n",
       "      <th>567</th>\n",
       "      <td>0</td>\n",
       "    </tr>\n",
       "    <tr>\n",
       "      <th>568</th>\n",
       "      <td>1</td>\n",
       "    </tr>\n",
       "  </tbody>\n",
       "</table>\n",
       "<p>569 rows × 1 columns</p>\n",
       "</div>"
      ],
      "text/plain": [
       "     Class\n",
       "0        0\n",
       "1        0\n",
       "2        0\n",
       "3        0\n",
       "4        0\n",
       "..     ...\n",
       "564      0\n",
       "565      0\n",
       "566      0\n",
       "567      0\n",
       "568      1\n",
       "\n",
       "[569 rows x 1 columns]"
      ]
     },
     "execution_count": 40,
     "metadata": {},
     "output_type": "execute_result"
    }
   ],
   "source": [
    "Class1Replace=Class1.replace(\"B\",1).replace(\"M\",0)\n",
    "Class1Replace\n",
    "Class1=Class1Replace\n",
    "Class1"
   ]
  },
  {
   "cell_type": "markdown",
   "id": "715218d4",
   "metadata": {},
   "source": [
    "##### İlk nitelik için entropi hesabı yapıldı."
   ]
  },
  {
   "cell_type": "code",
   "execution_count": 41,
   "id": "fe563f7b",
   "metadata": {},
   "outputs": [],
   "source": [
    "def ent(data):\n",
    "    p_data = data.value_counts()          \n",
    "    entropy = stats.entropy(p_data)  \n",
    "    return entropy"
   ]
  },
  {
   "cell_type": "code",
   "execution_count": 42,
   "id": "78f70dd0",
   "metadata": {},
   "outputs": [
    {
     "data": {
      "text/plain": [
       "3.969888274917715"
      ]
     },
     "execution_count": 42,
     "metadata": {},
     "output_type": "execute_result"
    }
   ],
   "source": [
    "EntropyAttribute1=ent(Attribute1)\n",
    "EntropyAttribute1"
   ]
  },
  {
   "cell_type": "markdown",
   "id": "0d8999f4",
   "metadata": {},
   "source": [
    "##### İlk nitelik için gini hesabı yapıldı."
   ]
  },
  {
   "cell_type": "code",
   "execution_count": 43,
   "id": "1c4b6ec9",
   "metadata": {},
   "outputs": [],
   "source": [
    "def gini(p):\n",
    "   return (p)*(1 - (p)) + (1 - p)*(1 - (1-p))"
   ]
  },
  {
   "cell_type": "code",
   "execution_count": 44,
   "id": "88f84f11",
   "metadata": {
    "scrolled": true
   },
   "outputs": [
    {
     "data": {
      "text/plain": [
       "0      0.208152\n",
       "1      0.155550\n",
       "2      0.195800\n",
       "3      0.243672\n",
       "4      0.180000\n",
       "         ...   \n",
       "564    0.197358\n",
       "565    0.176792\n",
       "566    0.155550\n",
       "567    0.208152\n",
       "568    0.100382\n",
       "Name: Smoothness1_real, Length: 569, dtype: float64"
      ]
     },
     "execution_count": 44,
     "metadata": {},
     "output_type": "execute_result"
    }
   ],
   "source": [
    "GiniAttribute1 = gini(Attribute1.Smoothness1_real)\n",
    "GiniAttribute1"
   ]
  },
  {
   "cell_type": "markdown",
   "id": "22ae2e6c",
   "metadata": {},
   "source": [
    "##### İlk nitelik için Sınıf Niteliği Gini Değeri"
   ]
  },
  {
   "cell_type": "code",
   "execution_count": 45,
   "id": "5e465ee0",
   "metadata": {},
   "outputs": [
    {
     "data": {
      "text/plain": [
       "0      0\n",
       "1      0\n",
       "2      0\n",
       "3      0\n",
       "4      0\n",
       "      ..\n",
       "564    0\n",
       "565    0\n",
       "566    0\n",
       "567    0\n",
       "568    0\n",
       "Name: Class, Length: 569, dtype: int64"
      ]
     },
     "execution_count": 45,
     "metadata": {},
     "output_type": "execute_result"
    }
   ],
   "source": [
    "GiniClass1=gini(Class1.Class)\n",
    "GiniClass1"
   ]
  },
  {
   "cell_type": "markdown",
   "id": "f2da2b5e",
   "metadata": {},
   "source": [
    "#####  İlk nitelik için her küme elemanının görülme frekansı"
   ]
  },
  {
   "cell_type": "code",
   "execution_count": 46,
   "id": "a93cf3bb",
   "metadata": {},
   "outputs": [],
   "source": [
    " def getFreqs(data, only_freqs=True):\n",
    "        arr = np.unique(data,return_counts=True)\n",
    "        if not only_freqs:\n",
    "            return arr[0], arr[1] / np.sum(arr[1],dtype=np.float)\n",
    "        return arr[1] / np.sum(arr[1],dtype=np.float)"
   ]
  },
  {
   "cell_type": "code",
   "execution_count": 47,
   "id": "d2582505",
   "metadata": {},
   "outputs": [
    {
     "data": {
      "text/plain": [
       "array([0.00175747, 0.00175747, 0.00175747, 0.00351494, 0.00175747,\n",
       "       0.00351494, 0.00878735, 0.00175747, 0.00175747, 0.00351494,\n",
       "       0.01581722, 0.00878735, 0.00702988, 0.01054482, 0.01230228,\n",
       "       0.01230228, 0.0228471 , 0.0228471 , 0.01405975, 0.02108963,\n",
       "       0.02987698, 0.03163445, 0.01405975, 0.02811951, 0.02987698,\n",
       "       0.02811951, 0.0228471 , 0.02811951, 0.02460457, 0.01757469,\n",
       "       0.03514938, 0.02460457, 0.01933216, 0.02811951, 0.03514938,\n",
       "       0.02811951, 0.03163445, 0.02460457, 0.02108963, 0.0228471 ,\n",
       "       0.02987698, 0.02460457, 0.01757469, 0.0228471 , 0.0228471 ,\n",
       "       0.01581722, 0.01581722, 0.00702988, 0.01405975, 0.01054482,\n",
       "       0.01405975, 0.01230228, 0.01581722, 0.01230228, 0.00702988,\n",
       "       0.00702988, 0.00351494, 0.00702988, 0.00351494, 0.00702988,\n",
       "       0.00175747, 0.00351494, 0.00175747, 0.00175747, 0.00351494,\n",
       "       0.00175747, 0.00175747, 0.00175747, 0.00175747, 0.00175747,\n",
       "       0.00175747, 0.00175747, 0.00175747])"
      ]
     },
     "execution_count": 47,
     "metadata": {},
     "output_type": "execute_result"
    }
   ],
   "source": [
    "FrequencyAttribute1 = getFreqs(Attribute1)\n",
    "FrequencyAttribute1"
   ]
  },
  {
   "cell_type": "markdown",
   "id": "573a5582",
   "metadata": {},
   "source": [
    "##### İlk nitelik için her küme elemanının görülme frekansı uzunluğu"
   ]
  },
  {
   "cell_type": "code",
   "execution_count": 48,
   "id": "83907f0d",
   "metadata": {},
   "outputs": [
    {
     "data": {
      "text/plain": [
       "73"
      ]
     },
     "execution_count": 48,
     "metadata": {},
     "output_type": "execute_result"
    }
   ],
   "source": [
    "FrequencyAttribute1Lenght = len(FrequencyAttribute1)\n",
    "FrequencyAttribute1Lenght"
   ]
  },
  {
   "cell_type": "code",
   "execution_count": 49,
   "id": "84a1721e",
   "metadata": {},
   "outputs": [
    {
     "data": {
      "text/plain": [
       "496"
      ]
     },
     "execution_count": 49,
     "metadata": {},
     "output_type": "execute_result"
    }
   ],
   "source": [
    "FrequencyAttribute1Lenght2 = len(Attribute1)-FrequencyAttribute1Lenght\n",
    "FrequencyAttribute1Lenght2"
   ]
  },
  {
   "cell_type": "markdown",
   "id": "6bd3e3ce",
   "metadata": {},
   "source": [
    "##### İlk nitelik için information gain hesabı"
   ]
  },
  {
   "cell_type": "code",
   "execution_count": 50,
   "id": "c403e618",
   "metadata": {},
   "outputs": [
    {
     "data": {
      "text/plain": [
       "0      0.181447\n",
       "1      0.135594\n",
       "2      0.170680\n",
       "3      0.212410\n",
       "4      0.156907\n",
       "         ...   \n",
       "564    0.172038\n",
       "565    0.154110\n",
       "566    0.135594\n",
       "567    0.181447\n",
       "568    0.087503\n",
       "Length: 569, dtype: float64"
      ]
     },
     "execution_count": 50,
     "metadata": {},
     "output_type": "execute_result"
    }
   ],
   "source": [
    "InformationGain1 = GiniAttribute1 - (FrequencyAttribute1Lenght/len(Attribute1) * GiniAttribute1 - (FrequencyAttribute1Lenght2/len(Attribute1))*GiniClass1) \n",
    "InformationGain1"
   ]
  },
  {
   "cell_type": "markdown",
   "id": "24f22fe9",
   "metadata": {},
   "source": [
    "##### İlk nitelik değeri ayrık olmayan nitelik değerlerini 3 eşit genişlik (3 equal-width) değeri olacak şekilde parçalara ayrılmıştır."
   ]
  },
  {
   "cell_type": "code",
   "execution_count": 51,
   "id": "29edab83",
   "metadata": {},
   "outputs": [
    {
     "data": {
      "text/plain": [
       "0      1\n",
       "1      0\n",
       "2      1\n",
       "3      2\n",
       "4      1\n",
       "      ..\n",
       "564    1\n",
       "565    1\n",
       "566    0\n",
       "567    1\n",
       "568    0\n",
       "Name: Smoothness1_real, Length: 569, dtype: category\n",
       "Categories (3, int64): [0 < 1 < 2]"
      ]
     },
     "execution_count": 51,
     "metadata": {},
     "output_type": "execute_result"
    }
   ],
   "source": [
    "DivisionAttribute1 = pd.cut(Attribute1.Smoothness1_real, bins=3, labels=np.arange(3), right=False)\n",
    "DivisionAttribute1"
   ]
  },
  {
   "cell_type": "markdown",
   "id": "3e2a1118",
   "metadata": {},
   "source": [
    "##### İlk nitelik değeri ayrık olmayan nitelik değerlerini 3 eşit genişlik (3 equal-width) değeri olacak şekilde parçalara ayrıldıktan sonra entropy hesabı yapılmıştır."
   ]
  },
  {
   "cell_type": "code",
   "execution_count": 52,
   "id": "32e3e209",
   "metadata": {},
   "outputs": [
    {
     "data": {
      "text/plain": [
       "0.7338943285448327"
      ]
     },
     "execution_count": 52,
     "metadata": {},
     "output_type": "execute_result"
    }
   ],
   "source": [
    "EntropyDivisionAttribute1 = ent(DivisionAttribute1)\n",
    "EntropyDivisionAttribute1"
   ]
  },
  {
   "cell_type": "markdown",
   "id": "0371adb1",
   "metadata": {},
   "source": [
    "##### İlk nitelik değeri ayrık olmayan nitelik değerlerini 3 eşit genişlik (3 equal-width) değeri olacak şekilde parçalara ayrıldıktan sonra gini hesabı yapılmıştır."
   ]
  },
  {
   "cell_type": "code",
   "execution_count": 53,
   "id": "3d88e2c2",
   "metadata": {},
   "outputs": [],
   "source": [
    "def gini(p):\n",
    "   return (p)*(1 - (p)) + (1 - p)*(1 - (1-p))"
   ]
  },
  {
   "cell_type": "code",
   "execution_count": 55,
   "id": "b9b65ac6",
   "metadata": {},
   "outputs": [
    {
     "ename": "TypeError",
     "evalue": "unsupported operand type(s) for -: 'int' and 'Categorical'",
     "output_type": "error",
     "traceback": [
      "\u001b[1;31m---------------------------------------------------------------------------\u001b[0m",
      "\u001b[1;31mTypeError\u001b[0m                                 Traceback (most recent call last)",
      "\u001b[1;32m<ipython-input-55-5fe28410f414>\u001b[0m in \u001b[0;36m<module>\u001b[1;34m\u001b[0m\n\u001b[1;32m----> 1\u001b[1;33m \u001b[0mGiniDivisionAttribute1\u001b[0m \u001b[1;33m=\u001b[0m \u001b[0mgini\u001b[0m\u001b[1;33m(\u001b[0m\u001b[0mDivisionAttribute1\u001b[0m\u001b[1;33m)\u001b[0m\u001b[1;33m\u001b[0m\u001b[1;33m\u001b[0m\u001b[0m\n\u001b[0m\u001b[0;32m      2\u001b[0m \u001b[0mGiniDivisionAttribute1\u001b[0m\u001b[1;33m\u001b[0m\u001b[1;33m\u001b[0m\u001b[0m\n",
      "\u001b[1;32m<ipython-input-53-27121d91d41e>\u001b[0m in \u001b[0;36mgini\u001b[1;34m(p)\u001b[0m\n\u001b[0;32m      1\u001b[0m \u001b[1;32mdef\u001b[0m \u001b[0mgini\u001b[0m\u001b[1;33m(\u001b[0m\u001b[0mp\u001b[0m\u001b[1;33m)\u001b[0m\u001b[1;33m:\u001b[0m\u001b[1;33m\u001b[0m\u001b[1;33m\u001b[0m\u001b[0m\n\u001b[1;32m----> 2\u001b[1;33m    \u001b[1;32mreturn\u001b[0m \u001b[1;33m(\u001b[0m\u001b[0mp\u001b[0m\u001b[1;33m)\u001b[0m\u001b[1;33m*\u001b[0m\u001b[1;33m(\u001b[0m\u001b[1;36m1\u001b[0m \u001b[1;33m-\u001b[0m \u001b[1;33m(\u001b[0m\u001b[0mp\u001b[0m\u001b[1;33m)\u001b[0m\u001b[1;33m)\u001b[0m \u001b[1;33m+\u001b[0m \u001b[1;33m(\u001b[0m\u001b[1;36m1\u001b[0m \u001b[1;33m-\u001b[0m \u001b[0mp\u001b[0m\u001b[1;33m)\u001b[0m\u001b[1;33m*\u001b[0m\u001b[1;33m(\u001b[0m\u001b[1;36m1\u001b[0m \u001b[1;33m-\u001b[0m \u001b[1;33m(\u001b[0m\u001b[1;36m1\u001b[0m\u001b[1;33m-\u001b[0m\u001b[0mp\u001b[0m\u001b[1;33m)\u001b[0m\u001b[1;33m)\u001b[0m\u001b[1;33m\u001b[0m\u001b[1;33m\u001b[0m\u001b[0m\n\u001b[0m",
      "\u001b[1;32mC:\\anaconda\\envs\\notebook\\lib\\site-packages\\pandas\\core\\ops\\common.py\u001b[0m in \u001b[0;36mnew_method\u001b[1;34m(self, other)\u001b[0m\n\u001b[0;32m     63\u001b[0m         \u001b[0mother\u001b[0m \u001b[1;33m=\u001b[0m \u001b[0mitem_from_zerodim\u001b[0m\u001b[1;33m(\u001b[0m\u001b[0mother\u001b[0m\u001b[1;33m)\u001b[0m\u001b[1;33m\u001b[0m\u001b[1;33m\u001b[0m\u001b[0m\n\u001b[0;32m     64\u001b[0m \u001b[1;33m\u001b[0m\u001b[0m\n\u001b[1;32m---> 65\u001b[1;33m         \u001b[1;32mreturn\u001b[0m \u001b[0mmethod\u001b[0m\u001b[1;33m(\u001b[0m\u001b[0mself\u001b[0m\u001b[1;33m,\u001b[0m \u001b[0mother\u001b[0m\u001b[1;33m)\u001b[0m\u001b[1;33m\u001b[0m\u001b[1;33m\u001b[0m\u001b[0m\n\u001b[0m\u001b[0;32m     66\u001b[0m \u001b[1;33m\u001b[0m\u001b[0m\n\u001b[0;32m     67\u001b[0m     \u001b[1;32mreturn\u001b[0m \u001b[0mnew_method\u001b[0m\u001b[1;33m\u001b[0m\u001b[1;33m\u001b[0m\u001b[0m\n",
      "\u001b[1;32mC:\\anaconda\\envs\\notebook\\lib\\site-packages\\pandas\\core\\ops\\__init__.py\u001b[0m in \u001b[0;36mwrapper\u001b[1;34m(left, right)\u001b[0m\n\u001b[0;32m    341\u001b[0m         \u001b[0mlvalues\u001b[0m \u001b[1;33m=\u001b[0m \u001b[0mextract_array\u001b[0m\u001b[1;33m(\u001b[0m\u001b[0mleft\u001b[0m\u001b[1;33m,\u001b[0m \u001b[0mextract_numpy\u001b[0m\u001b[1;33m=\u001b[0m\u001b[1;32mTrue\u001b[0m\u001b[1;33m)\u001b[0m\u001b[1;33m\u001b[0m\u001b[1;33m\u001b[0m\u001b[0m\n\u001b[0;32m    342\u001b[0m         \u001b[0mrvalues\u001b[0m \u001b[1;33m=\u001b[0m \u001b[0mextract_array\u001b[0m\u001b[1;33m(\u001b[0m\u001b[0mright\u001b[0m\u001b[1;33m,\u001b[0m \u001b[0mextract_numpy\u001b[0m\u001b[1;33m=\u001b[0m\u001b[1;32mTrue\u001b[0m\u001b[1;33m)\u001b[0m\u001b[1;33m\u001b[0m\u001b[1;33m\u001b[0m\u001b[0m\n\u001b[1;32m--> 343\u001b[1;33m         \u001b[0mresult\u001b[0m \u001b[1;33m=\u001b[0m \u001b[0marithmetic_op\u001b[0m\u001b[1;33m(\u001b[0m\u001b[0mlvalues\u001b[0m\u001b[1;33m,\u001b[0m \u001b[0mrvalues\u001b[0m\u001b[1;33m,\u001b[0m \u001b[0mop\u001b[0m\u001b[1;33m)\u001b[0m\u001b[1;33m\u001b[0m\u001b[1;33m\u001b[0m\u001b[0m\n\u001b[0m\u001b[0;32m    344\u001b[0m \u001b[1;33m\u001b[0m\u001b[0m\n\u001b[0;32m    345\u001b[0m         \u001b[1;32mreturn\u001b[0m \u001b[0mleft\u001b[0m\u001b[1;33m.\u001b[0m\u001b[0m_construct_result\u001b[0m\u001b[1;33m(\u001b[0m\u001b[0mresult\u001b[0m\u001b[1;33m,\u001b[0m \u001b[0mname\u001b[0m\u001b[1;33m=\u001b[0m\u001b[0mres_name\u001b[0m\u001b[1;33m)\u001b[0m\u001b[1;33m\u001b[0m\u001b[1;33m\u001b[0m\u001b[0m\n",
      "\u001b[1;32mC:\\anaconda\\envs\\notebook\\lib\\site-packages\\pandas\\core\\ops\\array_ops.py\u001b[0m in \u001b[0;36marithmetic_op\u001b[1;34m(left, right, op)\u001b[0m\n\u001b[0;32m    184\u001b[0m     \u001b[1;32mif\u001b[0m \u001b[0mshould_extension_dispatch\u001b[0m\u001b[1;33m(\u001b[0m\u001b[0mlvalues\u001b[0m\u001b[1;33m,\u001b[0m \u001b[0mrvalues\u001b[0m\u001b[1;33m)\u001b[0m \u001b[1;32mor\u001b[0m \u001b[0misinstance\u001b[0m\u001b[1;33m(\u001b[0m\u001b[0mrvalues\u001b[0m\u001b[1;33m,\u001b[0m \u001b[0mTimedelta\u001b[0m\u001b[1;33m)\u001b[0m\u001b[1;33m:\u001b[0m\u001b[1;33m\u001b[0m\u001b[1;33m\u001b[0m\u001b[0m\n\u001b[0;32m    185\u001b[0m         \u001b[1;31m# Timedelta is included because numexpr will fail on it, see GH#31457\u001b[0m\u001b[1;33m\u001b[0m\u001b[1;33m\u001b[0m\u001b[1;33m\u001b[0m\u001b[0m\n\u001b[1;32m--> 186\u001b[1;33m         \u001b[0mres_values\u001b[0m \u001b[1;33m=\u001b[0m \u001b[0mop\u001b[0m\u001b[1;33m(\u001b[0m\u001b[0mlvalues\u001b[0m\u001b[1;33m,\u001b[0m \u001b[0mrvalues\u001b[0m\u001b[1;33m)\u001b[0m\u001b[1;33m\u001b[0m\u001b[1;33m\u001b[0m\u001b[0m\n\u001b[0m\u001b[0;32m    187\u001b[0m \u001b[1;33m\u001b[0m\u001b[0m\n\u001b[0;32m    188\u001b[0m     \u001b[1;32melse\u001b[0m\u001b[1;33m:\u001b[0m\u001b[1;33m\u001b[0m\u001b[1;33m\u001b[0m\u001b[0m\n",
      "\u001b[1;32mC:\\anaconda\\envs\\notebook\\lib\\site-packages\\pandas\\core\\ops\\roperator.py\u001b[0m in \u001b[0;36mrsub\u001b[1;34m(left, right)\u001b[0m\n\u001b[0;32m     11\u001b[0m \u001b[1;33m\u001b[0m\u001b[0m\n\u001b[0;32m     12\u001b[0m \u001b[1;32mdef\u001b[0m \u001b[0mrsub\u001b[0m\u001b[1;33m(\u001b[0m\u001b[0mleft\u001b[0m\u001b[1;33m,\u001b[0m \u001b[0mright\u001b[0m\u001b[1;33m)\u001b[0m\u001b[1;33m:\u001b[0m\u001b[1;33m\u001b[0m\u001b[1;33m\u001b[0m\u001b[0m\n\u001b[1;32m---> 13\u001b[1;33m     \u001b[1;32mreturn\u001b[0m \u001b[0mright\u001b[0m \u001b[1;33m-\u001b[0m \u001b[0mleft\u001b[0m\u001b[1;33m\u001b[0m\u001b[1;33m\u001b[0m\u001b[0m\n\u001b[0m\u001b[0;32m     14\u001b[0m \u001b[1;33m\u001b[0m\u001b[0m\n\u001b[0;32m     15\u001b[0m \u001b[1;33m\u001b[0m\u001b[0m\n",
      "\u001b[1;31mTypeError\u001b[0m: unsupported operand type(s) for -: 'int' and 'Categorical'"
     ]
    }
   ],
   "source": [
    "GiniDivisionAttribute1 = gini(DivisionAttribute1)\n",
    "GiniDivisionAttribute1"
   ]
  },
  {
   "cell_type": "markdown",
   "id": "41f26e7f",
   "metadata": {},
   "source": [
    "##### Categorical değeri int değere çevirme"
   ]
  },
  {
   "cell_type": "code",
   "execution_count": 56,
   "id": "f40486b1",
   "metadata": {},
   "outputs": [
    {
     "data": {
      "text/plain": [
       "0      1\n",
       "1      0\n",
       "2      1\n",
       "3      2\n",
       "4      1\n",
       "      ..\n",
       "564    1\n",
       "565    1\n",
       "566    0\n",
       "567    1\n",
       "568    0\n",
       "Length: 569, dtype: int8"
      ]
     },
     "execution_count": 56,
     "metadata": {},
     "output_type": "execute_result"
    }
   ],
   "source": [
    "Division1Attribute1 = DivisionAttribute1.astype('category').cat.codes\n",
    "Division1Attribute1"
   ]
  },
  {
   "cell_type": "markdown",
   "id": "8c5d04d3",
   "metadata": {},
   "source": [
    "##### İlk nitelik değeri ayrık olmayan nitelik değerlerini 3 eşit genişlik (3 equal-width) değeri olacak şekilde parçalara ayrıldıktan sonra her küme elemanının görülme frekansı hesaplanmıştır."
   ]
  },
  {
   "cell_type": "code",
   "execution_count": 57,
   "id": "ac4b7071",
   "metadata": {},
   "outputs": [],
   "source": [
    " def getFreqs(data, only_freqs=True):\n",
    "        arr = np.unique(data,return_counts=True)\n",
    "        if not only_freqs:\n",
    "            return arr[0], arr[1] / np.sum(arr[1],dtype=np.float)\n",
    "        return arr[1] / np.sum(arr[1],dtype=np.float)"
   ]
  },
  {
   "cell_type": "code",
   "execution_count": 58,
   "id": "2f5d17b6",
   "metadata": {
    "scrolled": true
   },
   "outputs": [
    {
     "data": {
      "text/plain": [
       "array([0.33919156, 0.6397188 , 0.02108963])"
      ]
     },
     "execution_count": 58,
     "metadata": {},
     "output_type": "execute_result"
    }
   ],
   "source": [
    "FrequencyDivisionAttribute1 = getFreqs(Division1Attribute1)\n",
    "FrequencyDivisionAttribute1"
   ]
  },
  {
   "cell_type": "markdown",
   "id": "87550b77",
   "metadata": {},
   "source": [
    "##### İlk nitelik değeri ayrık olmayan nitelik değerlerini 3 eşit genişlik (3 equal-width) değeri olacak şekilde parçalara ayrıldıktan sonra her küme elemanının görülme frekansı uzunluğu hesaplanmıştır."
   ]
  },
  {
   "cell_type": "code",
   "execution_count": 59,
   "id": "0ad87dcd",
   "metadata": {},
   "outputs": [
    {
     "data": {
      "text/plain": [
       "3"
      ]
     },
     "execution_count": 59,
     "metadata": {},
     "output_type": "execute_result"
    }
   ],
   "source": [
    "FrequencyDivisionAttribute1Lenght = len(FrequencyDivisionAttribute1)\n",
    "FrequencyDivisionAttribute1Lenght"
   ]
  },
  {
   "cell_type": "code",
   "execution_count": 60,
   "id": "2666d18f",
   "metadata": {},
   "outputs": [
    {
     "data": {
      "text/plain": [
       "566"
      ]
     },
     "execution_count": 60,
     "metadata": {},
     "output_type": "execute_result"
    }
   ],
   "source": [
    "FrequencyDivisionAttribute1Lenght2 = len(Division1Attribute1)-FrequencyDivisionAttribute1Lenght\n",
    "FrequencyDivisionAttribute1Lenght2"
   ]
  },
  {
   "cell_type": "markdown",
   "id": "6c23923f",
   "metadata": {},
   "source": [
    "##### İlk nitelik değeri ayrık olmayan nitelik değerlerini 3 eşit genişlik (3 equal-width) değeri olacak şekilde parçalara ayrıldıktan sonra  information gain hesaplanmıştır."
   ]
  },
  {
   "cell_type": "code",
   "execution_count": 61,
   "id": "15ba2cd4",
   "metadata": {},
   "outputs": [
    {
     "ename": "NameError",
     "evalue": "name 'GiniDivisionAttribute1' is not defined",
     "output_type": "error",
     "traceback": [
      "\u001b[1;31m---------------------------------------------------------------------------\u001b[0m",
      "\u001b[1;31mNameError\u001b[0m                                 Traceback (most recent call last)",
      "\u001b[1;32m<ipython-input-61-091d727f815f>\u001b[0m in \u001b[0;36m<module>\u001b[1;34m\u001b[0m\n\u001b[1;32m----> 1\u001b[1;33m \u001b[0mDivision1InformationGain1\u001b[0m \u001b[1;33m=\u001b[0m \u001b[0mGiniDivisionAttribute1\u001b[0m \u001b[1;33m-\u001b[0m \u001b[1;33m(\u001b[0m\u001b[0mFrequencyDivisionAttribute1Lenght\u001b[0m\u001b[1;33m/\u001b[0m\u001b[0mlen\u001b[0m\u001b[1;33m(\u001b[0m\u001b[0mDivision1Attribute1\u001b[0m\u001b[1;33m)\u001b[0m \u001b[1;33m*\u001b[0m \u001b[0mGiniDivisionAttribute1\u001b[0m \u001b[1;33m-\u001b[0m \u001b[1;33m(\u001b[0m\u001b[0mFrequencyDivisionAttribute1Lenght2\u001b[0m\u001b[1;33m/\u001b[0m\u001b[0mlen\u001b[0m\u001b[1;33m(\u001b[0m\u001b[0mDivision1Attribute1\u001b[0m\u001b[1;33m)\u001b[0m\u001b[1;33m)\u001b[0m \u001b[1;33m*\u001b[0m \u001b[0mGiniClass1\u001b[0m\u001b[1;33m)\u001b[0m\u001b[1;33m\u001b[0m\u001b[1;33m\u001b[0m\u001b[0m\n\u001b[0m\u001b[0;32m      2\u001b[0m \u001b[0mDivision1InformationGain1\u001b[0m\u001b[1;33m\u001b[0m\u001b[1;33m\u001b[0m\u001b[0m\n",
      "\u001b[1;31mNameError\u001b[0m: name 'GiniDivisionAttribute1' is not defined"
     ]
    }
   ],
   "source": [
    "Division1InformationGain1 = GiniDivisionAttribute1 - (FrequencyDivisionAttribute1Lenght/len(Division1Attribute1) * GiniDivisionAttribute1 - (FrequencyDivisionAttribute1Lenght2/len(Division1Attribute1)) * GiniClass1) \n",
    "Division1InformationGain1"
   ]
  },
  {
   "cell_type": "markdown",
   "id": "9196e955",
   "metadata": {},
   "source": [
    "##### İlk nitelik değeri ayrık olmayan nitelik değerlerini 4 eşit genişlik (4 equal-width) değeri olacak şekilde parçalara ayrılmıştır."
   ]
  },
  {
   "cell_type": "code",
   "execution_count": 62,
   "id": "c2d47d47",
   "metadata": {},
   "outputs": [
    {
     "data": {
      "text/plain": [
       "0      2\n",
       "1      1\n",
       "2      2\n",
       "3      3\n",
       "4      1\n",
       "      ..\n",
       "564    2\n",
       "565    1\n",
       "566    1\n",
       "567    2\n",
       "568    0\n",
       "Name: Smoothness1_real, Length: 569, dtype: category\n",
       "Categories (4, int64): [0 < 1 < 2 < 3]"
      ]
     },
     "execution_count": 62,
     "metadata": {},
     "output_type": "execute_result"
    }
   ],
   "source": [
    "Division2Attribute1 = pd.cut(Attribute1.Smoothness1_real, bins=4, labels=np.arange(4), right=False)\n",
    "Division2Attribute1"
   ]
  },
  {
   "cell_type": "markdown",
   "id": "7f0ccef3",
   "metadata": {},
   "source": [
    "##### İlk nitelik değeri ayrık olmayan nitelik değerlerini 4 eşit genişlik (4 equal-width) değeri olacak şekilde parçalara ayrıldıktan sonra entropy hesabı yapılmıştır."
   ]
  },
  {
   "cell_type": "code",
   "execution_count": 63,
   "id": "9d9a6468",
   "metadata": {},
   "outputs": [
    {
     "data": {
      "text/plain": [
       "0.8764291540477084"
      ]
     },
     "execution_count": 63,
     "metadata": {},
     "output_type": "execute_result"
    }
   ],
   "source": [
    "EntropyDivision2Attribute1 = ent(Division2Attribute1)\n",
    "EntropyDivision2Attribute1"
   ]
  },
  {
   "cell_type": "markdown",
   "id": "bd3dda88",
   "metadata": {},
   "source": [
    "##### İlk nitelik değeri ayrık olmayan nitelik değerlerini 4 eşit genişlik (4 equal-width) değeri olacak şekilde parçalara ayrıldıktan sonra gini hesabı yapılmıştır."
   ]
  },
  {
   "cell_type": "code",
   "execution_count": 64,
   "id": "0828a6bb",
   "metadata": {},
   "outputs": [],
   "source": [
    "def gini(p):\n",
    "   return (p)*(1 - (p)) + (1 - p)*(1 - (1-p))"
   ]
  },
  {
   "cell_type": "code",
   "execution_count": 65,
   "id": "9d01d034",
   "metadata": {},
   "outputs": [
    {
     "ename": "TypeError",
     "evalue": "unsupported operand type(s) for -: 'int' and 'Categorical'",
     "output_type": "error",
     "traceback": [
      "\u001b[1;31m---------------------------------------------------------------------------\u001b[0m",
      "\u001b[1;31mTypeError\u001b[0m                                 Traceback (most recent call last)",
      "\u001b[1;32m<ipython-input-65-0fc312962dbd>\u001b[0m in \u001b[0;36m<module>\u001b[1;34m\u001b[0m\n\u001b[1;32m----> 1\u001b[1;33m \u001b[0mGiniDivision2Attribute1\u001b[0m \u001b[1;33m=\u001b[0m \u001b[0mgini\u001b[0m\u001b[1;33m(\u001b[0m\u001b[0mDivision2Attribute1\u001b[0m\u001b[1;33m)\u001b[0m\u001b[1;33m\u001b[0m\u001b[1;33m\u001b[0m\u001b[0m\n\u001b[0m\u001b[0;32m      2\u001b[0m \u001b[0mGiniDivision2Attribute1\u001b[0m\u001b[1;33m\u001b[0m\u001b[1;33m\u001b[0m\u001b[0m\n",
      "\u001b[1;32m<ipython-input-64-27121d91d41e>\u001b[0m in \u001b[0;36mgini\u001b[1;34m(p)\u001b[0m\n\u001b[0;32m      1\u001b[0m \u001b[1;32mdef\u001b[0m \u001b[0mgini\u001b[0m\u001b[1;33m(\u001b[0m\u001b[0mp\u001b[0m\u001b[1;33m)\u001b[0m\u001b[1;33m:\u001b[0m\u001b[1;33m\u001b[0m\u001b[1;33m\u001b[0m\u001b[0m\n\u001b[1;32m----> 2\u001b[1;33m    \u001b[1;32mreturn\u001b[0m \u001b[1;33m(\u001b[0m\u001b[0mp\u001b[0m\u001b[1;33m)\u001b[0m\u001b[1;33m*\u001b[0m\u001b[1;33m(\u001b[0m\u001b[1;36m1\u001b[0m \u001b[1;33m-\u001b[0m \u001b[1;33m(\u001b[0m\u001b[0mp\u001b[0m\u001b[1;33m)\u001b[0m\u001b[1;33m)\u001b[0m \u001b[1;33m+\u001b[0m \u001b[1;33m(\u001b[0m\u001b[1;36m1\u001b[0m \u001b[1;33m-\u001b[0m \u001b[0mp\u001b[0m\u001b[1;33m)\u001b[0m\u001b[1;33m*\u001b[0m\u001b[1;33m(\u001b[0m\u001b[1;36m1\u001b[0m \u001b[1;33m-\u001b[0m \u001b[1;33m(\u001b[0m\u001b[1;36m1\u001b[0m\u001b[1;33m-\u001b[0m\u001b[0mp\u001b[0m\u001b[1;33m)\u001b[0m\u001b[1;33m)\u001b[0m\u001b[1;33m\u001b[0m\u001b[1;33m\u001b[0m\u001b[0m\n\u001b[0m",
      "\u001b[1;32mC:\\anaconda\\envs\\notebook\\lib\\site-packages\\pandas\\core\\ops\\common.py\u001b[0m in \u001b[0;36mnew_method\u001b[1;34m(self, other)\u001b[0m\n\u001b[0;32m     63\u001b[0m         \u001b[0mother\u001b[0m \u001b[1;33m=\u001b[0m \u001b[0mitem_from_zerodim\u001b[0m\u001b[1;33m(\u001b[0m\u001b[0mother\u001b[0m\u001b[1;33m)\u001b[0m\u001b[1;33m\u001b[0m\u001b[1;33m\u001b[0m\u001b[0m\n\u001b[0;32m     64\u001b[0m \u001b[1;33m\u001b[0m\u001b[0m\n\u001b[1;32m---> 65\u001b[1;33m         \u001b[1;32mreturn\u001b[0m \u001b[0mmethod\u001b[0m\u001b[1;33m(\u001b[0m\u001b[0mself\u001b[0m\u001b[1;33m,\u001b[0m \u001b[0mother\u001b[0m\u001b[1;33m)\u001b[0m\u001b[1;33m\u001b[0m\u001b[1;33m\u001b[0m\u001b[0m\n\u001b[0m\u001b[0;32m     66\u001b[0m \u001b[1;33m\u001b[0m\u001b[0m\n\u001b[0;32m     67\u001b[0m     \u001b[1;32mreturn\u001b[0m \u001b[0mnew_method\u001b[0m\u001b[1;33m\u001b[0m\u001b[1;33m\u001b[0m\u001b[0m\n",
      "\u001b[1;32mC:\\anaconda\\envs\\notebook\\lib\\site-packages\\pandas\\core\\ops\\__init__.py\u001b[0m in \u001b[0;36mwrapper\u001b[1;34m(left, right)\u001b[0m\n\u001b[0;32m    341\u001b[0m         \u001b[0mlvalues\u001b[0m \u001b[1;33m=\u001b[0m \u001b[0mextract_array\u001b[0m\u001b[1;33m(\u001b[0m\u001b[0mleft\u001b[0m\u001b[1;33m,\u001b[0m \u001b[0mextract_numpy\u001b[0m\u001b[1;33m=\u001b[0m\u001b[1;32mTrue\u001b[0m\u001b[1;33m)\u001b[0m\u001b[1;33m\u001b[0m\u001b[1;33m\u001b[0m\u001b[0m\n\u001b[0;32m    342\u001b[0m         \u001b[0mrvalues\u001b[0m \u001b[1;33m=\u001b[0m \u001b[0mextract_array\u001b[0m\u001b[1;33m(\u001b[0m\u001b[0mright\u001b[0m\u001b[1;33m,\u001b[0m \u001b[0mextract_numpy\u001b[0m\u001b[1;33m=\u001b[0m\u001b[1;32mTrue\u001b[0m\u001b[1;33m)\u001b[0m\u001b[1;33m\u001b[0m\u001b[1;33m\u001b[0m\u001b[0m\n\u001b[1;32m--> 343\u001b[1;33m         \u001b[0mresult\u001b[0m \u001b[1;33m=\u001b[0m \u001b[0marithmetic_op\u001b[0m\u001b[1;33m(\u001b[0m\u001b[0mlvalues\u001b[0m\u001b[1;33m,\u001b[0m \u001b[0mrvalues\u001b[0m\u001b[1;33m,\u001b[0m \u001b[0mop\u001b[0m\u001b[1;33m)\u001b[0m\u001b[1;33m\u001b[0m\u001b[1;33m\u001b[0m\u001b[0m\n\u001b[0m\u001b[0;32m    344\u001b[0m \u001b[1;33m\u001b[0m\u001b[0m\n\u001b[0;32m    345\u001b[0m         \u001b[1;32mreturn\u001b[0m \u001b[0mleft\u001b[0m\u001b[1;33m.\u001b[0m\u001b[0m_construct_result\u001b[0m\u001b[1;33m(\u001b[0m\u001b[0mresult\u001b[0m\u001b[1;33m,\u001b[0m \u001b[0mname\u001b[0m\u001b[1;33m=\u001b[0m\u001b[0mres_name\u001b[0m\u001b[1;33m)\u001b[0m\u001b[1;33m\u001b[0m\u001b[1;33m\u001b[0m\u001b[0m\n",
      "\u001b[1;32mC:\\anaconda\\envs\\notebook\\lib\\site-packages\\pandas\\core\\ops\\array_ops.py\u001b[0m in \u001b[0;36marithmetic_op\u001b[1;34m(left, right, op)\u001b[0m\n\u001b[0;32m    184\u001b[0m     \u001b[1;32mif\u001b[0m \u001b[0mshould_extension_dispatch\u001b[0m\u001b[1;33m(\u001b[0m\u001b[0mlvalues\u001b[0m\u001b[1;33m,\u001b[0m \u001b[0mrvalues\u001b[0m\u001b[1;33m)\u001b[0m \u001b[1;32mor\u001b[0m \u001b[0misinstance\u001b[0m\u001b[1;33m(\u001b[0m\u001b[0mrvalues\u001b[0m\u001b[1;33m,\u001b[0m \u001b[0mTimedelta\u001b[0m\u001b[1;33m)\u001b[0m\u001b[1;33m:\u001b[0m\u001b[1;33m\u001b[0m\u001b[1;33m\u001b[0m\u001b[0m\n\u001b[0;32m    185\u001b[0m         \u001b[1;31m# Timedelta is included because numexpr will fail on it, see GH#31457\u001b[0m\u001b[1;33m\u001b[0m\u001b[1;33m\u001b[0m\u001b[1;33m\u001b[0m\u001b[0m\n\u001b[1;32m--> 186\u001b[1;33m         \u001b[0mres_values\u001b[0m \u001b[1;33m=\u001b[0m \u001b[0mop\u001b[0m\u001b[1;33m(\u001b[0m\u001b[0mlvalues\u001b[0m\u001b[1;33m,\u001b[0m \u001b[0mrvalues\u001b[0m\u001b[1;33m)\u001b[0m\u001b[1;33m\u001b[0m\u001b[1;33m\u001b[0m\u001b[0m\n\u001b[0m\u001b[0;32m    187\u001b[0m \u001b[1;33m\u001b[0m\u001b[0m\n\u001b[0;32m    188\u001b[0m     \u001b[1;32melse\u001b[0m\u001b[1;33m:\u001b[0m\u001b[1;33m\u001b[0m\u001b[1;33m\u001b[0m\u001b[0m\n",
      "\u001b[1;32mC:\\anaconda\\envs\\notebook\\lib\\site-packages\\pandas\\core\\ops\\roperator.py\u001b[0m in \u001b[0;36mrsub\u001b[1;34m(left, right)\u001b[0m\n\u001b[0;32m     11\u001b[0m \u001b[1;33m\u001b[0m\u001b[0m\n\u001b[0;32m     12\u001b[0m \u001b[1;32mdef\u001b[0m \u001b[0mrsub\u001b[0m\u001b[1;33m(\u001b[0m\u001b[0mleft\u001b[0m\u001b[1;33m,\u001b[0m \u001b[0mright\u001b[0m\u001b[1;33m)\u001b[0m\u001b[1;33m:\u001b[0m\u001b[1;33m\u001b[0m\u001b[1;33m\u001b[0m\u001b[0m\n\u001b[1;32m---> 13\u001b[1;33m     \u001b[1;32mreturn\u001b[0m \u001b[0mright\u001b[0m \u001b[1;33m-\u001b[0m \u001b[0mleft\u001b[0m\u001b[1;33m\u001b[0m\u001b[1;33m\u001b[0m\u001b[0m\n\u001b[0m\u001b[0;32m     14\u001b[0m \u001b[1;33m\u001b[0m\u001b[0m\n\u001b[0;32m     15\u001b[0m \u001b[1;33m\u001b[0m\u001b[0m\n",
      "\u001b[1;31mTypeError\u001b[0m: unsupported operand type(s) for -: 'int' and 'Categorical'"
     ]
    }
   ],
   "source": [
    "GiniDivision2Attribute1 = gini(Division2Attribute1)\n",
    "GiniDivision2Attribute1"
   ]
  },
  {
   "cell_type": "markdown",
   "id": "437a37b7",
   "metadata": {},
   "source": [
    "##### Categorical değeri int değere çevirme"
   ]
  },
  {
   "cell_type": "code",
   "execution_count": 66,
   "id": "dfd04dc3",
   "metadata": {},
   "outputs": [
    {
     "ename": "NameError",
     "evalue": "name 'DivisionAttribute2' is not defined",
     "output_type": "error",
     "traceback": [
      "\u001b[1;31m---------------------------------------------------------------------------\u001b[0m",
      "\u001b[1;31mNameError\u001b[0m                                 Traceback (most recent call last)",
      "\u001b[1;32m<ipython-input-66-cc125e2760cc>\u001b[0m in \u001b[0;36m<module>\u001b[1;34m\u001b[0m\n\u001b[1;32m----> 1\u001b[1;33m \u001b[0mDivision2Attribute1\u001b[0m \u001b[1;33m=\u001b[0m \u001b[0mDivisionAttribute2\u001b[0m\u001b[1;33m.\u001b[0m\u001b[0mastype\u001b[0m\u001b[1;33m(\u001b[0m\u001b[1;34m'category'\u001b[0m\u001b[1;33m)\u001b[0m\u001b[1;33m.\u001b[0m\u001b[0mcat\u001b[0m\u001b[1;33m.\u001b[0m\u001b[0mcodes\u001b[0m\u001b[1;33m\u001b[0m\u001b[1;33m\u001b[0m\u001b[0m\n\u001b[0m\u001b[0;32m      2\u001b[0m \u001b[0mDivision2Attribute1\u001b[0m\u001b[1;33m\u001b[0m\u001b[1;33m\u001b[0m\u001b[0m\n",
      "\u001b[1;31mNameError\u001b[0m: name 'DivisionAttribute2' is not defined"
     ]
    }
   ],
   "source": [
    "Division2Attribute1 = DivisionAttribute2.astype('category').cat.codes\n",
    "Division2Attribute1"
   ]
  },
  {
   "cell_type": "markdown",
   "id": "07bf4e47",
   "metadata": {},
   "source": [
    "##### İlk nitelik değeri ayrık olmayan nitelik değerlerini 4 eşit genişlik (4 equal-width) değeri olacak şekilde parçalara ayrıldıktan sonra her küme elemanının görülme frekansı hesaplanmıştır."
   ]
  },
  {
   "cell_type": "code",
   "execution_count": 67,
   "id": "7ebcbb09",
   "metadata": {},
   "outputs": [],
   "source": [
    " def getFreqs(data, only_freqs=True):\n",
    "        arr = np.unique(data,return_counts=True)\n",
    "        if not only_freqs:\n",
    "            return arr[0], arr[1] / np.sum(arr[1],dtype=np.float)\n",
    "        return arr[1] / np.sum(arr[1],dtype=np.float)"
   ]
  },
  {
   "cell_type": "code",
   "execution_count": 68,
   "id": "38d4eb85",
   "metadata": {},
   "outputs": [
    {
     "data": {
      "text/plain": [
       "array([0.11950791, 0.67838313, 0.19332162, 0.00878735])"
      ]
     },
     "execution_count": 68,
     "metadata": {},
     "output_type": "execute_result"
    }
   ],
   "source": [
    "FrequencyDivision2Attribute1 = getFreqs(Division2Attribute1)\n",
    "FrequencyDivision2Attribute1"
   ]
  },
  {
   "cell_type": "markdown",
   "id": "3bc9c42f",
   "metadata": {},
   "source": [
    "##### İlk nitelik değeri ayrık olmayan nitelik değerlerini 4 eşit genişlik (4 equal-width) değeri olacak şekilde parçalara ayrıldıktan sonra her küme elemanının görülme frekansı uzunluğu hesaplanmıştır."
   ]
  },
  {
   "cell_type": "code",
   "execution_count": 69,
   "id": "6c4e5b0b",
   "metadata": {},
   "outputs": [
    {
     "data": {
      "text/plain": [
       "4"
      ]
     },
     "execution_count": 69,
     "metadata": {},
     "output_type": "execute_result"
    }
   ],
   "source": [
    "FrequencyDivision2Attribute1Lenght = len(FrequencyDivision2Attribute1)\n",
    "FrequencyDivision2Attribute1Lenght"
   ]
  },
  {
   "cell_type": "code",
   "execution_count": 70,
   "id": "249455f8",
   "metadata": {},
   "outputs": [
    {
     "data": {
      "text/plain": [
       "565"
      ]
     },
     "execution_count": 70,
     "metadata": {},
     "output_type": "execute_result"
    }
   ],
   "source": [
    "FrequencyDivision2Attribute1Lenght2 = len(Division2Attribute1)-FrequencyDivision2Attribute1Lenght\n",
    "FrequencyDivision2Attribute1Lenght2"
   ]
  },
  {
   "cell_type": "markdown",
   "id": "81ef4f26",
   "metadata": {},
   "source": [
    "##### İlk nitelik değeri ayrık olmayan nitelik değerlerini 4 eşit genişlik (4 equal-width) değeri olacak şekilde parçalara ayrıldıktan sonra information gain hesaplanmıştır."
   ]
  },
  {
   "cell_type": "code",
   "execution_count": 71,
   "id": "00c62049",
   "metadata": {},
   "outputs": [
    {
     "ename": "NameError",
     "evalue": "name 'GiniDivision2Attribute1' is not defined",
     "output_type": "error",
     "traceback": [
      "\u001b[1;31m---------------------------------------------------------------------------\u001b[0m",
      "\u001b[1;31mNameError\u001b[0m                                 Traceback (most recent call last)",
      "\u001b[1;32m<ipython-input-71-986b12a86018>\u001b[0m in \u001b[0;36m<module>\u001b[1;34m\u001b[0m\n\u001b[1;32m----> 1\u001b[1;33m \u001b[0mDivision2InformationGain1\u001b[0m \u001b[1;33m=\u001b[0m \u001b[0mGiniDivision2Attribute1\u001b[0m \u001b[1;33m-\u001b[0m \u001b[1;33m(\u001b[0m\u001b[0mFrequencyDivision2Attribute1Lenght\u001b[0m\u001b[1;33m/\u001b[0m\u001b[0mlen\u001b[0m\u001b[1;33m(\u001b[0m\u001b[0mDivision2Attribute1\u001b[0m\u001b[1;33m)\u001b[0m \u001b[1;33m*\u001b[0m \u001b[0mGiniDivision2Attribute1\u001b[0m \u001b[1;33m-\u001b[0m \u001b[1;33m(\u001b[0m\u001b[0mFrequencyDivision2Attribute1Lenght2\u001b[0m\u001b[1;33m/\u001b[0m\u001b[0mlen\u001b[0m\u001b[1;33m(\u001b[0m\u001b[0mDivision2Attribute1\u001b[0m\u001b[1;33m)\u001b[0m\u001b[1;33m)\u001b[0m \u001b[1;33m*\u001b[0m \u001b[0mGiniClass1\u001b[0m\u001b[1;33m)\u001b[0m\u001b[1;33m\u001b[0m\u001b[1;33m\u001b[0m\u001b[0m\n\u001b[0m\u001b[0;32m      2\u001b[0m \u001b[0mDivision2InformationGain1\u001b[0m\u001b[1;33m\u001b[0m\u001b[1;33m\u001b[0m\u001b[0m\n",
      "\u001b[1;31mNameError\u001b[0m: name 'GiniDivision2Attribute1' is not defined"
     ]
    }
   ],
   "source": [
    "Division2InformationGain1 = GiniDivision2Attribute1 - (FrequencyDivision2Attribute1Lenght/len(Division2Attribute1) * GiniDivision2Attribute1 - (FrequencyDivision2Attribute1Lenght2/len(Division2Attribute1)) * GiniClass1) \n",
    "Division2InformationGain1"
   ]
  },
  {
   "cell_type": "markdown",
   "id": "ac10ae64",
   "metadata": {},
   "source": [
    "##### İkinci nitelik için CSV okuma işlemleri yapıldı"
   ]
  },
  {
   "cell_type": "code",
   "execution_count": 72,
   "id": "8887729d",
   "metadata": {},
   "outputs": [
    {
     "data": {
      "text/html": [
       "<div>\n",
       "<style scoped>\n",
       "    .dataframe tbody tr th:only-of-type {\n",
       "        vertical-align: middle;\n",
       "    }\n",
       "\n",
       "    .dataframe tbody tr th {\n",
       "        vertical-align: top;\n",
       "    }\n",
       "\n",
       "    .dataframe thead th {\n",
       "        text-align: right;\n",
       "    }\n",
       "</style>\n",
       "<table border=\"1\" class=\"dataframe\">\n",
       "  <thead>\n",
       "    <tr style=\"text-align: right;\">\n",
       "      <th></th>\n",
       "      <th>Compactness1</th>\n",
       "    </tr>\n",
       "  </thead>\n",
       "  <tbody>\n",
       "    <tr>\n",
       "      <th>0</th>\n",
       "      <td>0.278</td>\n",
       "    </tr>\n",
       "    <tr>\n",
       "      <th>1</th>\n",
       "      <td>0.079</td>\n",
       "    </tr>\n",
       "    <tr>\n",
       "      <th>2</th>\n",
       "      <td>0.160</td>\n",
       "    </tr>\n",
       "    <tr>\n",
       "      <th>3</th>\n",
       "      <td>0.284</td>\n",
       "    </tr>\n",
       "    <tr>\n",
       "      <th>4</th>\n",
       "      <td>0.133</td>\n",
       "    </tr>\n",
       "    <tr>\n",
       "      <th>...</th>\n",
       "      <td>...</td>\n",
       "    </tr>\n",
       "    <tr>\n",
       "      <th>564</th>\n",
       "      <td>0.116</td>\n",
       "    </tr>\n",
       "    <tr>\n",
       "      <th>565</th>\n",
       "      <td>0.103</td>\n",
       "    </tr>\n",
       "    <tr>\n",
       "      <th>566</th>\n",
       "      <td>0.102</td>\n",
       "    </tr>\n",
       "    <tr>\n",
       "      <th>567</th>\n",
       "      <td>0.277</td>\n",
       "    </tr>\n",
       "    <tr>\n",
       "      <th>568</th>\n",
       "      <td>0.044</td>\n",
       "    </tr>\n",
       "  </tbody>\n",
       "</table>\n",
       "<p>569 rows × 1 columns</p>\n",
       "</div>"
      ],
      "text/plain": [
       "     Compactness1\n",
       "0           0.278\n",
       "1           0.079\n",
       "2           0.160\n",
       "3           0.284\n",
       "4           0.133\n",
       "..            ...\n",
       "564         0.116\n",
       "565         0.103\n",
       "566         0.102\n",
       "567         0.277\n",
       "568         0.044\n",
       "\n",
       "[569 rows x 1 columns]"
      ]
     },
     "execution_count": 72,
     "metadata": {},
     "output_type": "execute_result"
    }
   ],
   "source": [
    "Attribute2=pd.read_csv(\"Compactness.csv\")\n",
    "Attribute2"
   ]
  },
  {
   "cell_type": "code",
   "execution_count": 73,
   "id": "525e1204",
   "metadata": {},
   "outputs": [
    {
     "data": {
      "text/html": [
       "<div>\n",
       "<style scoped>\n",
       "    .dataframe tbody tr th:only-of-type {\n",
       "        vertical-align: middle;\n",
       "    }\n",
       "\n",
       "    .dataframe tbody tr th {\n",
       "        vertical-align: top;\n",
       "    }\n",
       "\n",
       "    .dataframe thead th {\n",
       "        text-align: right;\n",
       "    }\n",
       "</style>\n",
       "<table border=\"1\" class=\"dataframe\">\n",
       "  <thead>\n",
       "    <tr style=\"text-align: right;\">\n",
       "      <th></th>\n",
       "      <th>Compactness1;Class</th>\n",
       "    </tr>\n",
       "  </thead>\n",
       "  <tbody>\n",
       "    <tr>\n",
       "      <th>0</th>\n",
       "      <td>0.278;M</td>\n",
       "    </tr>\n",
       "    <tr>\n",
       "      <th>1</th>\n",
       "      <td>0.079;M</td>\n",
       "    </tr>\n",
       "    <tr>\n",
       "      <th>2</th>\n",
       "      <td>0.16;M</td>\n",
       "    </tr>\n",
       "    <tr>\n",
       "      <th>3</th>\n",
       "      <td>0.284;M</td>\n",
       "    </tr>\n",
       "    <tr>\n",
       "      <th>4</th>\n",
       "      <td>0.133;M</td>\n",
       "    </tr>\n",
       "    <tr>\n",
       "      <th>...</th>\n",
       "      <td>...</td>\n",
       "    </tr>\n",
       "    <tr>\n",
       "      <th>564</th>\n",
       "      <td>0.116;M</td>\n",
       "    </tr>\n",
       "    <tr>\n",
       "      <th>565</th>\n",
       "      <td>0.103;M</td>\n",
       "    </tr>\n",
       "    <tr>\n",
       "      <th>566</th>\n",
       "      <td>0.102;M</td>\n",
       "    </tr>\n",
       "    <tr>\n",
       "      <th>567</th>\n",
       "      <td>0.277;M</td>\n",
       "    </tr>\n",
       "    <tr>\n",
       "      <th>568</th>\n",
       "      <td>0.044;B</td>\n",
       "    </tr>\n",
       "  </tbody>\n",
       "</table>\n",
       "<p>569 rows × 1 columns</p>\n",
       "</div>"
      ],
      "text/plain": [
       "    Compactness1;Class\n",
       "0              0.278;M\n",
       "1              0.079;M\n",
       "2               0.16;M\n",
       "3              0.284;M\n",
       "4              0.133;M\n",
       "..                 ...\n",
       "564            0.116;M\n",
       "565            0.103;M\n",
       "566            0.102;M\n",
       "567            0.277;M\n",
       "568            0.044;B\n",
       "\n",
       "[569 rows x 1 columns]"
      ]
     },
     "execution_count": 73,
     "metadata": {},
     "output_type": "execute_result"
    }
   ],
   "source": [
    "Attribute2Class=pd.read_csv(\"CompactnessClass.csv\")\n",
    "Attribute2Class"
   ]
  },
  {
   "cell_type": "code",
   "execution_count": 74,
   "id": "95dbf38d",
   "metadata": {},
   "outputs": [
    {
     "data": {
      "text/html": [
       "<div>\n",
       "<style scoped>\n",
       "    .dataframe tbody tr th:only-of-type {\n",
       "        vertical-align: middle;\n",
       "    }\n",
       "\n",
       "    .dataframe tbody tr th {\n",
       "        vertical-align: top;\n",
       "    }\n",
       "\n",
       "    .dataframe thead th {\n",
       "        text-align: right;\n",
       "    }\n",
       "</style>\n",
       "<table border=\"1\" class=\"dataframe\">\n",
       "  <thead>\n",
       "    <tr style=\"text-align: right;\">\n",
       "      <th></th>\n",
       "      <th>Class</th>\n",
       "    </tr>\n",
       "  </thead>\n",
       "  <tbody>\n",
       "    <tr>\n",
       "      <th>0</th>\n",
       "      <td>M</td>\n",
       "    </tr>\n",
       "    <tr>\n",
       "      <th>1</th>\n",
       "      <td>M</td>\n",
       "    </tr>\n",
       "    <tr>\n",
       "      <th>2</th>\n",
       "      <td>M</td>\n",
       "    </tr>\n",
       "    <tr>\n",
       "      <th>3</th>\n",
       "      <td>M</td>\n",
       "    </tr>\n",
       "    <tr>\n",
       "      <th>4</th>\n",
       "      <td>M</td>\n",
       "    </tr>\n",
       "    <tr>\n",
       "      <th>...</th>\n",
       "      <td>...</td>\n",
       "    </tr>\n",
       "    <tr>\n",
       "      <th>564</th>\n",
       "      <td>M</td>\n",
       "    </tr>\n",
       "    <tr>\n",
       "      <th>565</th>\n",
       "      <td>M</td>\n",
       "    </tr>\n",
       "    <tr>\n",
       "      <th>566</th>\n",
       "      <td>M</td>\n",
       "    </tr>\n",
       "    <tr>\n",
       "      <th>567</th>\n",
       "      <td>M</td>\n",
       "    </tr>\n",
       "    <tr>\n",
       "      <th>568</th>\n",
       "      <td>B</td>\n",
       "    </tr>\n",
       "  </tbody>\n",
       "</table>\n",
       "<p>569 rows × 1 columns</p>\n",
       "</div>"
      ],
      "text/plain": [
       "    Class\n",
       "0       M\n",
       "1       M\n",
       "2       M\n",
       "3       M\n",
       "4       M\n",
       "..    ...\n",
       "564     M\n",
       "565     M\n",
       "566     M\n",
       "567     M\n",
       "568     B\n",
       "\n",
       "[569 rows x 1 columns]"
      ]
     },
     "execution_count": 74,
     "metadata": {},
     "output_type": "execute_result"
    }
   ],
   "source": [
    "Class2 = pd.read_csv(\"Class.csv\")\n",
    "Class2"
   ]
  },
  {
   "cell_type": "markdown",
   "id": "211290ec",
   "metadata": {},
   "source": [
    "##### String targetler için integer dönüşümü yapıldı."
   ]
  },
  {
   "cell_type": "code",
   "execution_count": 75,
   "id": "cf9a1c85",
   "metadata": {},
   "outputs": [
    {
     "data": {
      "text/html": [
       "<div>\n",
       "<style scoped>\n",
       "    .dataframe tbody tr th:only-of-type {\n",
       "        vertical-align: middle;\n",
       "    }\n",
       "\n",
       "    .dataframe tbody tr th {\n",
       "        vertical-align: top;\n",
       "    }\n",
       "\n",
       "    .dataframe thead th {\n",
       "        text-align: right;\n",
       "    }\n",
       "</style>\n",
       "<table border=\"1\" class=\"dataframe\">\n",
       "  <thead>\n",
       "    <tr style=\"text-align: right;\">\n",
       "      <th></th>\n",
       "      <th>Class</th>\n",
       "    </tr>\n",
       "  </thead>\n",
       "  <tbody>\n",
       "    <tr>\n",
       "      <th>0</th>\n",
       "      <td>0</td>\n",
       "    </tr>\n",
       "    <tr>\n",
       "      <th>1</th>\n",
       "      <td>0</td>\n",
       "    </tr>\n",
       "    <tr>\n",
       "      <th>2</th>\n",
       "      <td>0</td>\n",
       "    </tr>\n",
       "    <tr>\n",
       "      <th>3</th>\n",
       "      <td>0</td>\n",
       "    </tr>\n",
       "    <tr>\n",
       "      <th>4</th>\n",
       "      <td>0</td>\n",
       "    </tr>\n",
       "    <tr>\n",
       "      <th>...</th>\n",
       "      <td>...</td>\n",
       "    </tr>\n",
       "    <tr>\n",
       "      <th>564</th>\n",
       "      <td>0</td>\n",
       "    </tr>\n",
       "    <tr>\n",
       "      <th>565</th>\n",
       "      <td>0</td>\n",
       "    </tr>\n",
       "    <tr>\n",
       "      <th>566</th>\n",
       "      <td>0</td>\n",
       "    </tr>\n",
       "    <tr>\n",
       "      <th>567</th>\n",
       "      <td>0</td>\n",
       "    </tr>\n",
       "    <tr>\n",
       "      <th>568</th>\n",
       "      <td>1</td>\n",
       "    </tr>\n",
       "  </tbody>\n",
       "</table>\n",
       "<p>569 rows × 1 columns</p>\n",
       "</div>"
      ],
      "text/plain": [
       "     Class\n",
       "0        0\n",
       "1        0\n",
       "2        0\n",
       "3        0\n",
       "4        0\n",
       "..     ...\n",
       "564      0\n",
       "565      0\n",
       "566      0\n",
       "567      0\n",
       "568      1\n",
       "\n",
       "[569 rows x 1 columns]"
      ]
     },
     "execution_count": 75,
     "metadata": {},
     "output_type": "execute_result"
    }
   ],
   "source": [
    "Class2Replace=Class2.replace(\"B\",1).replace(\"M\",0)\n",
    "Class2Replace\n",
    "Class2=Class2Replace\n",
    "Class2"
   ]
  },
  {
   "cell_type": "markdown",
   "id": "50b8bbb7",
   "metadata": {},
   "source": [
    "##### İkinci nitelik için entropi hesabı yapıldı."
   ]
  },
  {
   "cell_type": "code",
   "execution_count": 76,
   "id": "d28cc001",
   "metadata": {},
   "outputs": [],
   "source": [
    "def ent(data):\n",
    "    p_data = data.value_counts()          \n",
    "    entropy = stats.entropy(p_data)  \n",
    "    return entropy"
   ]
  },
  {
   "cell_type": "code",
   "execution_count": 77,
   "id": "7c2352be",
   "metadata": {},
   "outputs": [
    {
     "data": {
      "text/plain": [
       "4.9961532177161425"
      ]
     },
     "execution_count": 77,
     "metadata": {},
     "output_type": "execute_result"
    }
   ],
   "source": [
    "EntropyAttribute2=ent(Attribute2)\n",
    "EntropyAttribute2"
   ]
  },
  {
   "cell_type": "markdown",
   "id": "70f5e38d",
   "metadata": {},
   "source": [
    "##### İkinci nitelik için gini hesabı yapıldı."
   ]
  },
  {
   "cell_type": "code",
   "execution_count": 78,
   "id": "2f0bf948",
   "metadata": {},
   "outputs": [],
   "source": [
    "def gini(p):\n",
    "   return (p)*(1 - (p)) + (1 - p)*(1 - (1-p))"
   ]
  },
  {
   "cell_type": "code",
   "execution_count": 79,
   "id": "84bb3014",
   "metadata": {
    "scrolled": true
   },
   "outputs": [
    {
     "data": {
      "text/plain": [
       "0      0.401432\n",
       "1      0.145518\n",
       "2      0.268800\n",
       "3      0.406688\n",
       "4      0.230622\n",
       "         ...   \n",
       "564    0.205088\n",
       "565    0.184782\n",
       "566    0.183192\n",
       "567    0.400542\n",
       "568    0.084128\n",
       "Name: Compactness1, Length: 569, dtype: float64"
      ]
     },
     "execution_count": 79,
     "metadata": {},
     "output_type": "execute_result"
    }
   ],
   "source": [
    "GiniAttribute2 = gini(Attribute2.Compactness1)\n",
    "GiniAttribute2"
   ]
  },
  {
   "cell_type": "code",
   "execution_count": 80,
   "id": "3a113a28",
   "metadata": {},
   "outputs": [
    {
     "data": {
      "text/plain": [
       "0      0\n",
       "1      0\n",
       "2      0\n",
       "3      0\n",
       "4      0\n",
       "      ..\n",
       "564    0\n",
       "565    0\n",
       "566    0\n",
       "567    0\n",
       "568    0\n",
       "Name: Class, Length: 569, dtype: int64"
      ]
     },
     "execution_count": 80,
     "metadata": {},
     "output_type": "execute_result"
    }
   ],
   "source": [
    "GiniClass2=gini(Class2.Class)\n",
    "GiniClass2"
   ]
  },
  {
   "cell_type": "markdown",
   "id": "da188b82",
   "metadata": {},
   "source": [
    "##### İkinci nitelik için her küme elemanının görülme frekansı"
   ]
  },
  {
   "cell_type": "code",
   "execution_count": 81,
   "id": "3905067d",
   "metadata": {},
   "outputs": [],
   "source": [
    " def getFreqs(data, only_freqs=True):\n",
    "        arr = np.unique(data,return_counts=True)\n",
    "        if not only_freqs:\n",
    "            return arr[0], arr[1] / np.sum(arr[1],dtype=np.float)\n",
    "        return arr[1] / np.sum(arr[1],dtype=np.float)"
   ]
  },
  {
   "cell_type": "code",
   "execution_count": 82,
   "id": "fe2c194e",
   "metadata": {},
   "outputs": [
    {
     "data": {
      "text/plain": [
       "array([0.00175747, 0.00175747, 0.00175747, 0.00175747, 0.00175747,\n",
       "       0.00175747, 0.00351494, 0.00351494, 0.00702988, 0.00527241,\n",
       "       0.01054482, 0.00527241, 0.00351494, 0.00527241, 0.00702988,\n",
       "       0.00527241, 0.00351494, 0.00702988, 0.00527241, 0.00878735,\n",
       "       0.00527241, 0.00175747, 0.01230228, 0.00878735, 0.01230228,\n",
       "       0.01581722, 0.00878735, 0.00351494, 0.00878735, 0.00878735,\n",
       "       0.00878735, 0.01230228, 0.01405975, 0.01054482, 0.01054482,\n",
       "       0.00878735, 0.00702988, 0.00527241, 0.00878735, 0.01581722,\n",
       "       0.00878735, 0.00878735, 0.00351494, 0.00878735, 0.01405975,\n",
       "       0.01054482, 0.00351494, 0.01054482, 0.01054482, 0.01405975,\n",
       "       0.01405975, 0.01230228, 0.00527241, 0.00878735, 0.00878735,\n",
       "       0.01054482, 0.00702988, 0.01405975, 0.01405975, 0.00175747,\n",
       "       0.00702988, 0.00527241, 0.00527241, 0.00351494, 0.00878735,\n",
       "       0.00175747, 0.00351494, 0.01054482, 0.00351494, 0.00702988,\n",
       "       0.00878735, 0.00351494, 0.00351494, 0.00527241, 0.01405975,\n",
       "       0.00527241, 0.00702988, 0.00702988, 0.00527241, 0.01054482,\n",
       "       0.00351494, 0.00527241, 0.00702988, 0.01230228, 0.00702988,\n",
       "       0.00702988, 0.01405975, 0.01230228, 0.00527241, 0.00351494,\n",
       "       0.00527241, 0.00351494, 0.00527241, 0.00702988, 0.00702988,\n",
       "       0.00527241, 0.00175747, 0.00175747, 0.00351494, 0.00702988,\n",
       "       0.01054482, 0.00702988, 0.01581722, 0.01054482, 0.00878735,\n",
       "       0.00527241, 0.00527241, 0.00527241, 0.00351494, 0.00175747,\n",
       "       0.00175747, 0.00175747, 0.00175747, 0.00175747, 0.00527241,\n",
       "       0.00351494, 0.00175747, 0.00175747, 0.00702988, 0.00175747,\n",
       "       0.00351494, 0.00175747, 0.00702988, 0.00175747, 0.00175747,\n",
       "       0.00351494, 0.00878735, 0.00351494, 0.00175747, 0.00702988,\n",
       "       0.00175747, 0.00702988, 0.00175747, 0.00527241, 0.00351494,\n",
       "       0.00527241, 0.00175747, 0.00527241, 0.00175747, 0.00175747,\n",
       "       0.00175747, 0.00175747, 0.00175747, 0.00175747, 0.00351494,\n",
       "       0.00175747, 0.00175747, 0.00351494, 0.00175747, 0.00351494,\n",
       "       0.00175747, 0.00351494, 0.00175747, 0.00175747, 0.00175747,\n",
       "       0.00175747, 0.00175747, 0.00175747, 0.00175747, 0.00175747,\n",
       "       0.00175747, 0.00175747, 0.00175747, 0.00175747, 0.00351494,\n",
       "       0.00175747, 0.00175747, 0.00351494, 0.00175747, 0.00175747,\n",
       "       0.00175747, 0.00175747, 0.00351494, 0.00351494, 0.00175747,\n",
       "       0.00351494, 0.00175747, 0.00175747, 0.00175747, 0.00175747,\n",
       "       0.00175747, 0.00351494, 0.00175747, 0.00175747, 0.00175747,\n",
       "       0.00175747, 0.00175747, 0.00175747])"
      ]
     },
     "execution_count": 82,
     "metadata": {},
     "output_type": "execute_result"
    }
   ],
   "source": [
    "FrequencyAttribute2 = getFreqs(Attribute2)\n",
    "FrequencyAttribute2"
   ]
  },
  {
   "cell_type": "markdown",
   "id": "ffef66e4",
   "metadata": {},
   "source": [
    "##### İkinci nitelik için her küme elemanının görülme frekansı uzunluğu"
   ]
  },
  {
   "cell_type": "code",
   "execution_count": 83,
   "id": "70a63ccb",
   "metadata": {},
   "outputs": [
    {
     "data": {
      "text/plain": [
       "188"
      ]
     },
     "execution_count": 83,
     "metadata": {},
     "output_type": "execute_result"
    }
   ],
   "source": [
    "FrequencyAttribute2Lenght = len(FrequencyAttribute2)\n",
    "FrequencyAttribute2Lenght"
   ]
  },
  {
   "cell_type": "code",
   "execution_count": 40,
   "id": "5845c394",
   "metadata": {},
   "outputs": [
    {
     "data": {
      "text/plain": [
       "381"
      ]
     },
     "execution_count": 40,
     "metadata": {},
     "output_type": "execute_result"
    }
   ],
   "source": [
    "FrequencyAttribute2Lenght2 = len(Attribute2)-FrequencyAttribute2Lenght\n",
    "FrequencyAttribute2Lenght2"
   ]
  },
  {
   "cell_type": "markdown",
   "id": "948b8b2c",
   "metadata": {},
   "source": [
    "##### İkinci nitelik için information gain hesabı"
   ]
  },
  {
   "cell_type": "code",
   "execution_count": 41,
   "id": "bebd51a4",
   "metadata": {},
   "outputs": [
    {
     "data": {
      "text/plain": [
       "0      0.268797\n",
       "1      0.097438\n",
       "2      0.179987\n",
       "3      0.272317\n",
       "4      0.154424\n",
       "         ...   \n",
       "564    0.137326\n",
       "565    0.123729\n",
       "566    0.122665\n",
       "567    0.268201\n",
       "568    0.056332\n",
       "Length: 569, dtype: float64"
      ]
     },
     "execution_count": 41,
     "metadata": {},
     "output_type": "execute_result"
    }
   ],
   "source": [
    "InformationGain2 = GiniAttribute2 - (FrequencyAttribute2Lenght/len(Attribute2) * GiniAttribute2 - (FrequencyAttribute2Lenght2/len(Attribute2))*GiniClass2) \n",
    "InformationGain2"
   ]
  },
  {
   "cell_type": "markdown",
   "id": "2dec35d9",
   "metadata": {},
   "source": [
    "##### İkinci nitelik değeri ayrık olmayan nitelik değerlerini 3 eşit genişlik (3 equal-width) değeri olacak şekilde parçalara ayrılmıştır."
   ]
  },
  {
   "cell_type": "code",
   "execution_count": 4,
   "id": "e30eb423",
   "metadata": {},
   "outputs": [
    {
     "ename": "NameError",
     "evalue": "name 'pd' is not defined",
     "output_type": "error",
     "traceback": [
      "\u001b[1;31m---------------------------------------------------------------------------\u001b[0m",
      "\u001b[1;31mNameError\u001b[0m                                 Traceback (most recent call last)",
      "\u001b[1;32m<ipython-input-4-83fca2185337>\u001b[0m in \u001b[0;36m<module>\u001b[1;34m\u001b[0m\n\u001b[1;32m----> 1\u001b[1;33m \u001b[0mDivisionAttribute2\u001b[0m \u001b[1;33m=\u001b[0m \u001b[0mpd\u001b[0m\u001b[1;33m.\u001b[0m\u001b[0mcut\u001b[0m\u001b[1;33m(\u001b[0m\u001b[0mAttribute2\u001b[0m\u001b[1;33m.\u001b[0m\u001b[0mCompactness1\u001b[0m\u001b[1;33m,\u001b[0m \u001b[0mbins\u001b[0m\u001b[1;33m=\u001b[0m\u001b[1;36m3\u001b[0m\u001b[1;33m,\u001b[0m \u001b[0mlabels\u001b[0m\u001b[1;33m=\u001b[0m\u001b[0mnp\u001b[0m\u001b[1;33m.\u001b[0m\u001b[0marange\u001b[0m\u001b[1;33m(\u001b[0m\u001b[1;36m3\u001b[0m\u001b[1;33m)\u001b[0m\u001b[1;33m,\u001b[0m \u001b[0mright\u001b[0m\u001b[1;33m=\u001b[0m\u001b[1;32mFalse\u001b[0m\u001b[1;33m)\u001b[0m\u001b[1;33m\u001b[0m\u001b[1;33m\u001b[0m\u001b[0m\n\u001b[0m\u001b[0;32m      2\u001b[0m \u001b[0mDivisionAttribute2\u001b[0m\u001b[1;33m\u001b[0m\u001b[1;33m\u001b[0m\u001b[0m\n",
      "\u001b[1;31mNameError\u001b[0m: name 'pd' is not defined"
     ]
    }
   ],
   "source": [
    "DivisionAttribute2 = pd.cut(Attribute2.Compactness1, bins=3, labels=np.arange(3), right=False)\n",
    "DivisionAttribute2"
   ]
  },
  {
   "cell_type": "code",
   "execution_count": 3,
   "id": "c642bc26",
   "metadata": {},
   "outputs": [
    {
     "ename": "NameError",
     "evalue": "name 'DivisionAttribute2' is not defined",
     "output_type": "error",
     "traceback": [
      "\u001b[1;31m---------------------------------------------------------------------------\u001b[0m",
      "\u001b[1;31mNameError\u001b[0m                                 Traceback (most recent call last)",
      "\u001b[1;32m<ipython-input-3-9a60666290e1>\u001b[0m in \u001b[0;36m<module>\u001b[1;34m\u001b[0m\n\u001b[1;32m----> 1\u001b[1;33m \u001b[0mtype\u001b[0m\u001b[1;33m(\u001b[0m\u001b[0mDivisionAttribute2\u001b[0m\u001b[1;33m)\u001b[0m\u001b[1;33m\u001b[0m\u001b[1;33m\u001b[0m\u001b[0m\n\u001b[0m",
      "\u001b[1;31mNameError\u001b[0m: name 'DivisionAttribute2' is not defined"
     ]
    }
   ],
   "source": [
    "type(DivisionAttribute2)"
   ]
  },
  {
   "cell_type": "markdown",
   "id": "7ac84bff",
   "metadata": {},
   "source": [
    "##### İkinci nitelik değeri ayrık olmayan nitelik değerlerini 3 eşit genişlik (3 equal-width) değeri olacak şekilde parçalara ayrıldıktan sonra entropy hesabı yapılmıştır."
   ]
  },
  {
   "cell_type": "code",
   "execution_count": 43,
   "id": "0d19de01",
   "metadata": {},
   "outputs": [
    {
     "data": {
      "text/plain": [
       "0.6715160336118458"
      ]
     },
     "execution_count": 43,
     "metadata": {},
     "output_type": "execute_result"
    }
   ],
   "source": [
    "EntropyDivisionAttribute2 = ent(DivisionAttribute2)\n",
    "EntropyDivisionAttribute2"
   ]
  },
  {
   "cell_type": "markdown",
   "id": "45bb2e99",
   "metadata": {},
   "source": [
    "##### İkinci nitelik değeri ayrık olmayan nitelik değerlerini 3 eşit genişlik (3 equal-width) değeri olacak şekilde parçalara ayrıldıktan sonra gini hesabı yapılmıştır."
   ]
  },
  {
   "cell_type": "code",
   "execution_count": 133,
   "id": "233d395b",
   "metadata": {},
   "outputs": [],
   "source": [
    "def gini(p):\n",
    "   return (p)*(1 - (p)) + (1 - p)*(1 - (1-p))"
   ]
  },
  {
   "cell_type": "code",
   "execution_count": 135,
   "id": "e5eb1a8b",
   "metadata": {},
   "outputs": [
    {
     "data": {
      "text/plain": [
       "0     -4\n",
       "1      0\n",
       "2      0\n",
       "3     -4\n",
       "4      0\n",
       "      ..\n",
       "564    0\n",
       "565    0\n",
       "566    0\n",
       "567   -4\n",
       "568    0\n",
       "Length: 569, dtype: int8"
      ]
     },
     "execution_count": 135,
     "metadata": {},
     "output_type": "execute_result"
    }
   ],
   "source": [
    "GiniDivisionAttribute2 = gini(Division1Attribute2)\n",
    "GiniDivisionAttribute2"
   ]
  },
  {
   "cell_type": "markdown",
   "id": "90af26c0",
   "metadata": {},
   "source": [
    "##### Categorical değeri int değere çevirme"
   ]
  },
  {
   "cell_type": "code",
   "execution_count": 134,
   "id": "1a31ebfc",
   "metadata": {},
   "outputs": [
    {
     "data": {
      "text/plain": [
       "0      2\n",
       "1      0\n",
       "2      1\n",
       "3      2\n",
       "4      1\n",
       "      ..\n",
       "564    0\n",
       "565    0\n",
       "566    0\n",
       "567    2\n",
       "568    0\n",
       "Length: 569, dtype: int8"
      ]
     },
     "execution_count": 134,
     "metadata": {},
     "output_type": "execute_result"
    }
   ],
   "source": [
    "Division1Attribute2 = DivisionAttribute2.astype('category').cat.codes\n",
    "Division1Attribute2"
   ]
  },
  {
   "cell_type": "markdown",
   "id": "ddded721",
   "metadata": {},
   "source": [
    "##### İkinci nitelik değeri ayrık olmayan nitelik değerlerini 3 eşit genişlik (3 equal-width) değeri olacak şekilde parçalara ayrıldıktan sonra her küme elemanının görülme frekansı hesaplanmıştır."
   ]
  },
  {
   "cell_type": "code",
   "execution_count": 136,
   "id": "099d8a99",
   "metadata": {},
   "outputs": [],
   "source": [
    " def getFreqs(data, only_freqs=True):\n",
    "        arr = np.unique(data,return_counts=True)\n",
    "        if not only_freqs:\n",
    "            return arr[0], arr[1] / np.sum(arr[1],dtype=np.float)\n",
    "        return arr[1] / np.sum(arr[1],dtype=np.float)"
   ]
  },
  {
   "cell_type": "code",
   "execution_count": 137,
   "id": "38ae7ca8",
   "metadata": {},
   "outputs": [
    {
     "data": {
      "text/plain": [
       "array([0.72056239, 0.25659051, 0.0228471 ])"
      ]
     },
     "execution_count": 137,
     "metadata": {},
     "output_type": "execute_result"
    }
   ],
   "source": [
    "FrequencyDivisionAttribute2 = getFreqs(Division1Attribute2)\n",
    "FrequencyDivisionAttribute2"
   ]
  },
  {
   "cell_type": "markdown",
   "id": "a4d0bf8d",
   "metadata": {},
   "source": [
    "##### İkinci nitelik değeri ayrık olmayan nitelik değerlerini 3 eşit genişlik (3 equal-width) değeri olacak şekilde parçalara ayrıldıktan sonra her küme elemanının görülme frekansı uzunluğu hesaplanmıştır."
   ]
  },
  {
   "cell_type": "code",
   "execution_count": 138,
   "id": "1fb69cd3",
   "metadata": {},
   "outputs": [
    {
     "data": {
      "text/plain": [
       "3"
      ]
     },
     "execution_count": 138,
     "metadata": {},
     "output_type": "execute_result"
    }
   ],
   "source": [
    "FrequencyDivisionAttribute2Lenght = len(FrequencyDivisionAttribute2)\n",
    "FrequencyDivisionAttribute2Lenght"
   ]
  },
  {
   "cell_type": "code",
   "execution_count": 139,
   "id": "3a832655",
   "metadata": {},
   "outputs": [
    {
     "data": {
      "text/plain": [
       "566"
      ]
     },
     "execution_count": 139,
     "metadata": {},
     "output_type": "execute_result"
    }
   ],
   "source": [
    "FrequencyDivisionAttribute2Lenght2 = len(Division1Attribute2)-FrequencyDivisionAttribute2Lenght\n",
    "FrequencyDivisionAttribute2Lenght2"
   ]
  },
  {
   "cell_type": "markdown",
   "id": "c725a7fa",
   "metadata": {},
   "source": [
    "##### İkinci nitelik değeri ayrık olmayan nitelik değerlerini 3 eşit genişlik (3 equal-width) değeri olacak şekilde parçalara ayrıldıktan sonra information gain hesaplanmıştır."
   ]
  },
  {
   "cell_type": "code",
   "execution_count": 140,
   "id": "eea64798",
   "metadata": {},
   "outputs": [
    {
     "data": {
      "text/plain": [
       "0     -3.97891\n",
       "1      0.00000\n",
       "2      0.00000\n",
       "3     -3.97891\n",
       "4      0.00000\n",
       "        ...   \n",
       "564    0.00000\n",
       "565    0.00000\n",
       "566    0.00000\n",
       "567   -3.97891\n",
       "568    0.00000\n",
       "Length: 569, dtype: float64"
      ]
     },
     "execution_count": 140,
     "metadata": {},
     "output_type": "execute_result"
    }
   ],
   "source": [
    "Division1InformationGain2 = GiniDivisionAttribute2 - (FrequencyDivisionAttribute2Lenght/len(Division1Attribute2) * GiniDivisionAttribute2 - (FrequencyDivisionAttribute2Lenght2/len(Division1Attribute2)) * GiniClass1) \n",
    "Division1InformationGain2"
   ]
  },
  {
   "cell_type": "markdown",
   "id": "21e4d0a2",
   "metadata": {},
   "source": [
    "##### İkinci nitelik değeri ayrık olmayan nitelik değerlerini 4 eşit genişlik (4 equal-width) değeri olacak şekilde parçalara ayrılmıştır.¶"
   ]
  },
  {
   "cell_type": "code",
   "execution_count": 44,
   "id": "1130a48e",
   "metadata": {},
   "outputs": [
    {
     "data": {
      "text/plain": [
       "0      3\n",
       "1      0\n",
       "2      1\n",
       "3      3\n",
       "4      1\n",
       "      ..\n",
       "564    1\n",
       "565    1\n",
       "566    1\n",
       "567    3\n",
       "568    0\n",
       "Name: Compactness1, Length: 569, dtype: category\n",
       "Categories (4, int64): [0 < 1 < 2 < 3]"
      ]
     },
     "execution_count": 44,
     "metadata": {},
     "output_type": "execute_result"
    }
   ],
   "source": [
    "Division2Attribute2 = pd.cut(Attribute2.Compactness1, bins=4, labels=np.arange(4), right=False)\n",
    "Division2Attribute2"
   ]
  },
  {
   "cell_type": "markdown",
   "id": "84c7e112",
   "metadata": {},
   "source": [
    "##### İkinci nitelik değeri ayrık olmayan nitelik değerlerini 4 eşit genişlik (4 equal-width) değeri olacak şekilde parçalara ayrıldıktan sonra entropy hesabı yapılmıştır."
   ]
  },
  {
   "cell_type": "code",
   "execution_count": 45,
   "id": "6a08b5a2",
   "metadata": {},
   "outputs": [
    {
     "data": {
      "text/plain": [
       "0.9580799775877425"
      ]
     },
     "execution_count": 45,
     "metadata": {},
     "output_type": "execute_result"
    }
   ],
   "source": [
    "EntropyDivision2Attribute2 = ent(Division2Attribute2)\n",
    "EntropyDivision2Attribute2"
   ]
  },
  {
   "cell_type": "markdown",
   "id": "689ad967",
   "metadata": {},
   "source": [
    "##### İkinci nitelik değeri ayrık olmayan nitelik değerlerini 4 eşit genişlik (4 equal-width) değeri olacak şekilde parçalara ayrıldıktan sonra gini hesabı yapılmıştır."
   ]
  },
  {
   "cell_type": "code",
   "execution_count": 143,
   "id": "1b0a6b12",
   "metadata": {},
   "outputs": [],
   "source": [
    "def gini(p):\n",
    "   return (p)*(1 - (p)) + (1 - p)*(1 - (1-p))"
   ]
  },
  {
   "cell_type": "code",
   "execution_count": 145,
   "id": "fb4f2aeb",
   "metadata": {},
   "outputs": [
    {
     "data": {
      "text/plain": [
       "0     -4\n",
       "1      0\n",
       "2      0\n",
       "3     -4\n",
       "4      0\n",
       "      ..\n",
       "564    0\n",
       "565    0\n",
       "566    0\n",
       "567   -4\n",
       "568    0\n",
       "Length: 569, dtype: int8"
      ]
     },
     "execution_count": 145,
     "metadata": {},
     "output_type": "execute_result"
    }
   ],
   "source": [
    "GiniDivision2Attribute2 = gini(Division2Attribute2)\n",
    "GiniDivision2Attribute2"
   ]
  },
  {
   "cell_type": "markdown",
   "id": "dc2e88f9",
   "metadata": {},
   "source": [
    "##### Categorical değeri int değere çevirme"
   ]
  },
  {
   "cell_type": "code",
   "execution_count": 144,
   "id": "d428f590",
   "metadata": {},
   "outputs": [
    {
     "data": {
      "text/plain": [
       "0      2\n",
       "1      0\n",
       "2      1\n",
       "3      2\n",
       "4      1\n",
       "      ..\n",
       "564    0\n",
       "565    0\n",
       "566    0\n",
       "567    2\n",
       "568    0\n",
       "Length: 569, dtype: int8"
      ]
     },
     "execution_count": 144,
     "metadata": {},
     "output_type": "execute_result"
    }
   ],
   "source": [
    "Division2Attribute2 = DivisionAttribute2.astype('category').cat.codes\n",
    "Division2Attribute2"
   ]
  },
  {
   "cell_type": "markdown",
   "id": "09effe11",
   "metadata": {},
   "source": [
    "##### İkinci nitelik değeri ayrık olmayan nitelik değerlerini 4 eşit genişlik (4 equal-width) değeri olacak şekilde parçalara ayrıldıktan sonra her küme elemanının görülme frekansı hesaplanmıştır."
   ]
  },
  {
   "cell_type": "code",
   "execution_count": null,
   "id": "a8c69870",
   "metadata": {},
   "outputs": [],
   "source": [
    "def getFreqs(data, only_freqs=True):\n",
    "        arr = np.unique(data,return_counts=True)\n",
    "        if not only_freqs:\n",
    "            return arr[0], arr[1] / np.sum(arr[1],dtype=np.float)\n",
    "        return arr[1] / np.sum(arr[1],dtype=np.float)"
   ]
  },
  {
   "cell_type": "code",
   "execution_count": 146,
   "id": "5b1ffb32",
   "metadata": {},
   "outputs": [
    {
     "data": {
      "text/plain": [
       "array([0.72056239, 0.25659051, 0.0228471 ])"
      ]
     },
     "execution_count": 146,
     "metadata": {},
     "output_type": "execute_result"
    }
   ],
   "source": [
    "FrequencyDivision2Attribute2 = getFreqs(Division2Attribute2)\n",
    "FrequencyDivision2Attribute2"
   ]
  },
  {
   "cell_type": "markdown",
   "id": "cdfc4b4f",
   "metadata": {},
   "source": [
    "##### İkinci nitelik değeri ayrık olmayan nitelik değerlerini 4 eşit genişlik (4 equal-width) değeri olacak şekilde parçalara ayrıldıktan sonra her küme elemanının görülme frekansı uzunluğu hesaplanmıştır.\n"
   ]
  },
  {
   "cell_type": "code",
   "execution_count": 147,
   "id": "da3c9ed5",
   "metadata": {},
   "outputs": [
    {
     "data": {
      "text/plain": [
       "3"
      ]
     },
     "execution_count": 147,
     "metadata": {},
     "output_type": "execute_result"
    }
   ],
   "source": [
    "FrequencyDivision2Attribute2Lenght = len(FrequencyDivision2Attribute2)\n",
    "FrequencyDivision2Attribute2Lenght"
   ]
  },
  {
   "cell_type": "code",
   "execution_count": 148,
   "id": "79d66979",
   "metadata": {},
   "outputs": [
    {
     "data": {
      "text/plain": [
       "566"
      ]
     },
     "execution_count": 148,
     "metadata": {},
     "output_type": "execute_result"
    }
   ],
   "source": [
    "FrequencyDivision2Attribute2Lenght2 = len(Division2Attribute2)-FrequencyDivision2Attribute2Lenght\n",
    "FrequencyDivision2Attribute2Lenght2"
   ]
  },
  {
   "cell_type": "markdown",
   "id": "1dc0c58a",
   "metadata": {},
   "source": [
    "##### İkinci nitelik değeri ayrık olmayan nitelik değerlerini 4 eşit genişlik (4 equal-width) değeri olacak şekilde parçalara ayrıldıktan sonra information gain hesaplanmıştır."
   ]
  },
  {
   "cell_type": "code",
   "execution_count": 149,
   "id": "3c282781",
   "metadata": {},
   "outputs": [
    {
     "data": {
      "text/plain": [
       "0     -3.97891\n",
       "1      0.00000\n",
       "2      0.00000\n",
       "3     -3.97891\n",
       "4      0.00000\n",
       "        ...   \n",
       "564    0.00000\n",
       "565    0.00000\n",
       "566    0.00000\n",
       "567   -3.97891\n",
       "568    0.00000\n",
       "Length: 569, dtype: float64"
      ]
     },
     "execution_count": 149,
     "metadata": {},
     "output_type": "execute_result"
    }
   ],
   "source": [
    "Division2InformationGain2 = GiniDivision2Attribute2 - (FrequencyDivision2Attribute2Lenght/len(Division2Attribute2) * GiniDivision2Attribute2 - (FrequencyDivision2Attribute2Lenght2/len(Division2Attribute2)) * GiniClass1) \n",
    "Division2InformationGain2"
   ]
  },
  {
   "cell_type": "markdown",
   "id": "f381823f",
   "metadata": {},
   "source": [
    "##### Üçüncü nitelik için CSV okuma işlemleri yapıldı"
   ]
  },
  {
   "cell_type": "code",
   "execution_count": 46,
   "id": "3bd97967",
   "metadata": {},
   "outputs": [
    {
     "data": {
      "text/html": [
       "<div>\n",
       "<style scoped>\n",
       "    .dataframe tbody tr th:only-of-type {\n",
       "        vertical-align: middle;\n",
       "    }\n",
       "\n",
       "    .dataframe tbody tr th {\n",
       "        vertical-align: top;\n",
       "    }\n",
       "\n",
       "    .dataframe thead th {\n",
       "        text-align: right;\n",
       "    }\n",
       "</style>\n",
       "<table border=\"1\" class=\"dataframe\">\n",
       "  <thead>\n",
       "    <tr style=\"text-align: right;\">\n",
       "      <th></th>\n",
       "      <th>Concavity1</th>\n",
       "    </tr>\n",
       "  </thead>\n",
       "  <tbody>\n",
       "    <tr>\n",
       "      <th>0</th>\n",
       "      <td>0.300</td>\n",
       "    </tr>\n",
       "    <tr>\n",
       "      <th>1</th>\n",
       "      <td>0.087</td>\n",
       "    </tr>\n",
       "    <tr>\n",
       "      <th>2</th>\n",
       "      <td>0.197</td>\n",
       "    </tr>\n",
       "    <tr>\n",
       "      <th>3</th>\n",
       "      <td>0.241</td>\n",
       "    </tr>\n",
       "    <tr>\n",
       "      <th>4</th>\n",
       "      <td>0.198</td>\n",
       "    </tr>\n",
       "    <tr>\n",
       "      <th>...</th>\n",
       "      <td>...</td>\n",
       "    </tr>\n",
       "    <tr>\n",
       "      <th>564</th>\n",
       "      <td>0.244</td>\n",
       "    </tr>\n",
       "    <tr>\n",
       "      <th>565</th>\n",
       "      <td>0.144</td>\n",
       "    </tr>\n",
       "    <tr>\n",
       "      <th>566</th>\n",
       "      <td>0.093</td>\n",
       "    </tr>\n",
       "    <tr>\n",
       "      <th>567</th>\n",
       "      <td>0.351</td>\n",
       "    </tr>\n",
       "    <tr>\n",
       "      <th>568</th>\n",
       "      <td>0.000</td>\n",
       "    </tr>\n",
       "  </tbody>\n",
       "</table>\n",
       "<p>569 rows × 1 columns</p>\n",
       "</div>"
      ],
      "text/plain": [
       "     Concavity1\n",
       "0         0.300\n",
       "1         0.087\n",
       "2         0.197\n",
       "3         0.241\n",
       "4         0.198\n",
       "..          ...\n",
       "564       0.244\n",
       "565       0.144\n",
       "566       0.093\n",
       "567       0.351\n",
       "568       0.000\n",
       "\n",
       "[569 rows x 1 columns]"
      ]
     },
     "execution_count": 46,
     "metadata": {},
     "output_type": "execute_result"
    }
   ],
   "source": [
    "Attribute3=pd.read_csv(\"Concavity.csv\")\n",
    "Attribute3"
   ]
  },
  {
   "cell_type": "code",
   "execution_count": 47,
   "id": "4e73adcd",
   "metadata": {},
   "outputs": [
    {
     "data": {
      "text/html": [
       "<div>\n",
       "<style scoped>\n",
       "    .dataframe tbody tr th:only-of-type {\n",
       "        vertical-align: middle;\n",
       "    }\n",
       "\n",
       "    .dataframe tbody tr th {\n",
       "        vertical-align: top;\n",
       "    }\n",
       "\n",
       "    .dataframe thead th {\n",
       "        text-align: right;\n",
       "    }\n",
       "</style>\n",
       "<table border=\"1\" class=\"dataframe\">\n",
       "  <thead>\n",
       "    <tr style=\"text-align: right;\">\n",
       "      <th></th>\n",
       "      <th>Concavity1;Class</th>\n",
       "    </tr>\n",
       "  </thead>\n",
       "  <tbody>\n",
       "    <tr>\n",
       "      <th>0</th>\n",
       "      <td>0.3;M</td>\n",
       "    </tr>\n",
       "    <tr>\n",
       "      <th>1</th>\n",
       "      <td>0.087;M</td>\n",
       "    </tr>\n",
       "    <tr>\n",
       "      <th>2</th>\n",
       "      <td>0.197;M</td>\n",
       "    </tr>\n",
       "    <tr>\n",
       "      <th>3</th>\n",
       "      <td>0.241;M</td>\n",
       "    </tr>\n",
       "    <tr>\n",
       "      <th>4</th>\n",
       "      <td>0.198;M</td>\n",
       "    </tr>\n",
       "    <tr>\n",
       "      <th>...</th>\n",
       "      <td>...</td>\n",
       "    </tr>\n",
       "    <tr>\n",
       "      <th>564</th>\n",
       "      <td>0.244;M</td>\n",
       "    </tr>\n",
       "    <tr>\n",
       "      <th>565</th>\n",
       "      <td>0.144;M</td>\n",
       "    </tr>\n",
       "    <tr>\n",
       "      <th>566</th>\n",
       "      <td>0.093;M</td>\n",
       "    </tr>\n",
       "    <tr>\n",
       "      <th>567</th>\n",
       "      <td>0.351;M</td>\n",
       "    </tr>\n",
       "    <tr>\n",
       "      <th>568</th>\n",
       "      <td>0.0;B</td>\n",
       "    </tr>\n",
       "  </tbody>\n",
       "</table>\n",
       "<p>569 rows × 1 columns</p>\n",
       "</div>"
      ],
      "text/plain": [
       "    Concavity1;Class\n",
       "0              0.3;M\n",
       "1            0.087;M\n",
       "2            0.197;M\n",
       "3            0.241;M\n",
       "4            0.198;M\n",
       "..               ...\n",
       "564          0.244;M\n",
       "565          0.144;M\n",
       "566          0.093;M\n",
       "567          0.351;M\n",
       "568            0.0;B\n",
       "\n",
       "[569 rows x 1 columns]"
      ]
     },
     "execution_count": 47,
     "metadata": {},
     "output_type": "execute_result"
    }
   ],
   "source": [
    "Attribute3Class=pd.read_csv(\"ConcavityClass.csv\")\n",
    "Attribute3Class"
   ]
  },
  {
   "cell_type": "code",
   "execution_count": 48,
   "id": "7908ffd8",
   "metadata": {},
   "outputs": [
    {
     "data": {
      "text/html": [
       "<div>\n",
       "<style scoped>\n",
       "    .dataframe tbody tr th:only-of-type {\n",
       "        vertical-align: middle;\n",
       "    }\n",
       "\n",
       "    .dataframe tbody tr th {\n",
       "        vertical-align: top;\n",
       "    }\n",
       "\n",
       "    .dataframe thead th {\n",
       "        text-align: right;\n",
       "    }\n",
       "</style>\n",
       "<table border=\"1\" class=\"dataframe\">\n",
       "  <thead>\n",
       "    <tr style=\"text-align: right;\">\n",
       "      <th></th>\n",
       "      <th>Class</th>\n",
       "    </tr>\n",
       "  </thead>\n",
       "  <tbody>\n",
       "    <tr>\n",
       "      <th>0</th>\n",
       "      <td>M</td>\n",
       "    </tr>\n",
       "    <tr>\n",
       "      <th>1</th>\n",
       "      <td>M</td>\n",
       "    </tr>\n",
       "    <tr>\n",
       "      <th>2</th>\n",
       "      <td>M</td>\n",
       "    </tr>\n",
       "    <tr>\n",
       "      <th>3</th>\n",
       "      <td>M</td>\n",
       "    </tr>\n",
       "    <tr>\n",
       "      <th>4</th>\n",
       "      <td>M</td>\n",
       "    </tr>\n",
       "    <tr>\n",
       "      <th>...</th>\n",
       "      <td>...</td>\n",
       "    </tr>\n",
       "    <tr>\n",
       "      <th>564</th>\n",
       "      <td>M</td>\n",
       "    </tr>\n",
       "    <tr>\n",
       "      <th>565</th>\n",
       "      <td>M</td>\n",
       "    </tr>\n",
       "    <tr>\n",
       "      <th>566</th>\n",
       "      <td>M</td>\n",
       "    </tr>\n",
       "    <tr>\n",
       "      <th>567</th>\n",
       "      <td>M</td>\n",
       "    </tr>\n",
       "    <tr>\n",
       "      <th>568</th>\n",
       "      <td>B</td>\n",
       "    </tr>\n",
       "  </tbody>\n",
       "</table>\n",
       "<p>569 rows × 1 columns</p>\n",
       "</div>"
      ],
      "text/plain": [
       "    Class\n",
       "0       M\n",
       "1       M\n",
       "2       M\n",
       "3       M\n",
       "4       M\n",
       "..    ...\n",
       "564     M\n",
       "565     M\n",
       "566     M\n",
       "567     M\n",
       "568     B\n",
       "\n",
       "[569 rows x 1 columns]"
      ]
     },
     "execution_count": 48,
     "metadata": {},
     "output_type": "execute_result"
    }
   ],
   "source": [
    "Class3 = pd.read_csv(\"Class.csv\")\n",
    "Class3"
   ]
  },
  {
   "cell_type": "markdown",
   "id": "bcb8b756",
   "metadata": {},
   "source": [
    "##### String targetler için integer dönüşümü yapıldı."
   ]
  },
  {
   "cell_type": "code",
   "execution_count": 49,
   "id": "a27ba74b",
   "metadata": {},
   "outputs": [
    {
     "data": {
      "text/html": [
       "<div>\n",
       "<style scoped>\n",
       "    .dataframe tbody tr th:only-of-type {\n",
       "        vertical-align: middle;\n",
       "    }\n",
       "\n",
       "    .dataframe tbody tr th {\n",
       "        vertical-align: top;\n",
       "    }\n",
       "\n",
       "    .dataframe thead th {\n",
       "        text-align: right;\n",
       "    }\n",
       "</style>\n",
       "<table border=\"1\" class=\"dataframe\">\n",
       "  <thead>\n",
       "    <tr style=\"text-align: right;\">\n",
       "      <th></th>\n",
       "      <th>Class</th>\n",
       "    </tr>\n",
       "  </thead>\n",
       "  <tbody>\n",
       "    <tr>\n",
       "      <th>0</th>\n",
       "      <td>0</td>\n",
       "    </tr>\n",
       "    <tr>\n",
       "      <th>1</th>\n",
       "      <td>0</td>\n",
       "    </tr>\n",
       "    <tr>\n",
       "      <th>2</th>\n",
       "      <td>0</td>\n",
       "    </tr>\n",
       "    <tr>\n",
       "      <th>3</th>\n",
       "      <td>0</td>\n",
       "    </tr>\n",
       "    <tr>\n",
       "      <th>4</th>\n",
       "      <td>0</td>\n",
       "    </tr>\n",
       "    <tr>\n",
       "      <th>...</th>\n",
       "      <td>...</td>\n",
       "    </tr>\n",
       "    <tr>\n",
       "      <th>564</th>\n",
       "      <td>0</td>\n",
       "    </tr>\n",
       "    <tr>\n",
       "      <th>565</th>\n",
       "      <td>0</td>\n",
       "    </tr>\n",
       "    <tr>\n",
       "      <th>566</th>\n",
       "      <td>0</td>\n",
       "    </tr>\n",
       "    <tr>\n",
       "      <th>567</th>\n",
       "      <td>0</td>\n",
       "    </tr>\n",
       "    <tr>\n",
       "      <th>568</th>\n",
       "      <td>1</td>\n",
       "    </tr>\n",
       "  </tbody>\n",
       "</table>\n",
       "<p>569 rows × 1 columns</p>\n",
       "</div>"
      ],
      "text/plain": [
       "     Class\n",
       "0        0\n",
       "1        0\n",
       "2        0\n",
       "3        0\n",
       "4        0\n",
       "..     ...\n",
       "564      0\n",
       "565      0\n",
       "566      0\n",
       "567      0\n",
       "568      1\n",
       "\n",
       "[569 rows x 1 columns]"
      ]
     },
     "execution_count": 49,
     "metadata": {},
     "output_type": "execute_result"
    }
   ],
   "source": [
    "Class3Replace=Class3.replace(\"B\",1).replace(\"M\",0)\n",
    "Class3Replace\n",
    "Class3=Class3Replace\n",
    "Class3"
   ]
  },
  {
   "cell_type": "markdown",
   "id": "e10ac214",
   "metadata": {},
   "source": [
    "##### Üçüncü nitelik için entropi hesabı yapıldı."
   ]
  },
  {
   "cell_type": "code",
   "execution_count": 50,
   "id": "f62af11d",
   "metadata": {},
   "outputs": [],
   "source": [
    "def ent(data):\n",
    "    p_data = data.value_counts()          \n",
    "    entropy = stats.entropy(p_data)  \n",
    "    return entropy"
   ]
  },
  {
   "cell_type": "code",
   "execution_count": 51,
   "id": "f0f83b03",
   "metadata": {},
   "outputs": [
    {
     "data": {
      "text/plain": [
       "5.111953445450531"
      ]
     },
     "execution_count": 51,
     "metadata": {},
     "output_type": "execute_result"
    }
   ],
   "source": [
    "EntropyAttribute3=ent(Attribute3)\n",
    "EntropyAttribute3"
   ]
  },
  {
   "cell_type": "markdown",
   "id": "ab877e50",
   "metadata": {},
   "source": [
    "##### Üçüncü nitelik için gini hesabı yapıldı.\n"
   ]
  },
  {
   "cell_type": "code",
   "execution_count": 52,
   "id": "ab860cfb",
   "metadata": {},
   "outputs": [],
   "source": [
    "def gini(p):\n",
    "   return (p)*(1 - (p)) + (1 - p)*(1 - (1-p))"
   ]
  },
  {
   "cell_type": "code",
   "execution_count": 53,
   "id": "83f8f846",
   "metadata": {},
   "outputs": [
    {
     "data": {
      "text/plain": [
       "0      0.420000\n",
       "1      0.158862\n",
       "2      0.316382\n",
       "3      0.365838\n",
       "4      0.317592\n",
       "         ...   \n",
       "564    0.368928\n",
       "565    0.246528\n",
       "566    0.168702\n",
       "567    0.455598\n",
       "568    0.000000\n",
       "Name: Concavity1, Length: 569, dtype: float64"
      ]
     },
     "execution_count": 53,
     "metadata": {},
     "output_type": "execute_result"
    }
   ],
   "source": [
    "GiniAttribute3 = gini(Attribute3.Concavity1)\n",
    "GiniAttribute3"
   ]
  },
  {
   "cell_type": "code",
   "execution_count": 54,
   "id": "da6d39b4",
   "metadata": {},
   "outputs": [
    {
     "data": {
      "text/plain": [
       "0      0\n",
       "1      0\n",
       "2      0\n",
       "3      0\n",
       "4      0\n",
       "      ..\n",
       "564    0\n",
       "565    0\n",
       "566    0\n",
       "567    0\n",
       "568    0\n",
       "Name: Class, Length: 569, dtype: int64"
      ]
     },
     "execution_count": 54,
     "metadata": {},
     "output_type": "execute_result"
    }
   ],
   "source": [
    "GiniClass3=gini(Class3.Class)\n",
    "GiniClass3"
   ]
  },
  {
   "cell_type": "markdown",
   "id": "a0415b6c",
   "metadata": {},
   "source": [
    "##### Üçüncü nitelik için her küme elemanının görülme frekansı"
   ]
  },
  {
   "cell_type": "code",
   "execution_count": 55,
   "id": "ef8b0d46",
   "metadata": {},
   "outputs": [],
   "source": [
    "def getFreqs(data, only_freqs=True):\n",
    "        arr = np.unique(data,return_counts=True)\n",
    "        if not only_freqs:\n",
    "            return arr[0], arr[1] / np.sum(arr[1],dtype=np.float)\n",
    "        return arr[1] / np.sum(arr[1],dtype=np.float)"
   ]
  },
  {
   "cell_type": "code",
   "execution_count": 56,
   "id": "19b6baeb",
   "metadata": {},
   "outputs": [
    {
     "data": {
      "text/plain": [
       "array([0.0228471 , 0.00878735, 0.00878735, 0.00351494, 0.00351494,\n",
       "       0.00878735, 0.00702988, 0.00527241, 0.00527241, 0.00175747,\n",
       "       0.01054482, 0.00527241, 0.00702988, 0.00878735, 0.00878735,\n",
       "       0.00527241, 0.00527241, 0.01054482, 0.00527241, 0.01933216,\n",
       "       0.00527241, 0.00702988, 0.00878735, 0.01405975, 0.00878735,\n",
       "       0.01581722, 0.01230228, 0.00527241, 0.01054482, 0.01757469,\n",
       "       0.00702988, 0.00351494, 0.01581722, 0.00702988, 0.00878735,\n",
       "       0.01054482, 0.01054482, 0.00702988, 0.01054482, 0.00702988,\n",
       "       0.01405975, 0.01230228, 0.00878735, 0.00527241, 0.00878735,\n",
       "       0.00702988, 0.00878735, 0.00878735, 0.00527241, 0.00702988,\n",
       "       0.00351494, 0.00878735, 0.01054482, 0.00702988, 0.00351494,\n",
       "       0.00527241, 0.01230228, 0.00527241, 0.00175747, 0.00702988,\n",
       "       0.00175747, 0.00175747, 0.00351494, 0.00702988, 0.00878735,\n",
       "       0.00702988, 0.00527241, 0.00175747, 0.00702988, 0.00175747,\n",
       "       0.00175747, 0.00351494, 0.00175747, 0.00175747, 0.00351494,\n",
       "       0.00175747, 0.00527241, 0.00702988, 0.00175747, 0.00527241,\n",
       "       0.00175747, 0.00702988, 0.00175747, 0.00527241, 0.00351494,\n",
       "       0.00527241, 0.00351494, 0.00175747, 0.01054482, 0.00527241,\n",
       "       0.00175747, 0.00175747, 0.00527241, 0.00702988, 0.00527241,\n",
       "       0.00351494, 0.00878735, 0.00175747, 0.00351494, 0.00527241,\n",
       "       0.00527241, 0.00527241, 0.00175747, 0.00527241, 0.00351494,\n",
       "       0.00527241, 0.00702988, 0.00351494, 0.00351494, 0.00175747,\n",
       "       0.00527241, 0.00175747, 0.00527241, 0.00702988, 0.00175747,\n",
       "       0.00175747, 0.00175747, 0.00527241, 0.00175747, 0.00175747,\n",
       "       0.00702988, 0.00175747, 0.00351494, 0.00351494, 0.00351494,\n",
       "       0.00351494, 0.00175747, 0.00351494, 0.00351494, 0.00175747,\n",
       "       0.00527241, 0.00351494, 0.00351494, 0.00351494, 0.00175747,\n",
       "       0.00702988, 0.00175747, 0.00351494, 0.00351494, 0.00175747,\n",
       "       0.00351494, 0.00175747, 0.00175747, 0.00175747, 0.00527241,\n",
       "       0.00527241, 0.00702988, 0.00527241, 0.00702988, 0.00175747,\n",
       "       0.00175747, 0.00175747, 0.00175747, 0.00175747, 0.00175747,\n",
       "       0.00175747, 0.00702988, 0.00175747, 0.00175747, 0.00175747,\n",
       "       0.00175747, 0.00175747, 0.00351494, 0.00351494, 0.00527241,\n",
       "       0.00351494, 0.00175747, 0.00175747, 0.00175747, 0.00351494,\n",
       "       0.00175747, 0.00527241, 0.00351494, 0.00175747, 0.00175747,\n",
       "       0.00351494, 0.00175747, 0.00175747, 0.00175747, 0.00175747,\n",
       "       0.00351494, 0.00351494, 0.00175747, 0.00175747, 0.00351494,\n",
       "       0.00175747, 0.00351494, 0.00175747, 0.00175747, 0.00175747,\n",
       "       0.00175747, 0.00175747, 0.00175747, 0.00175747, 0.00175747,\n",
       "       0.00175747, 0.00175747, 0.00351494, 0.00175747, 0.00175747,\n",
       "       0.00175747, 0.00175747, 0.00175747, 0.00175747, 0.00175747,\n",
       "       0.00175747, 0.00175747, 0.00175747, 0.00175747, 0.00175747,\n",
       "       0.00175747, 0.00175747])"
      ]
     },
     "execution_count": 56,
     "metadata": {},
     "output_type": "execute_result"
    }
   ],
   "source": [
    "FrequencyAttribute3 = getFreqs(Attribute3)\n",
    "FrequencyAttribute3"
   ]
  },
  {
   "cell_type": "markdown",
   "id": "3aa39a51",
   "metadata": {},
   "source": [
    "##### Üçüncü nitelik için her küme elemanının görülme frekansı uzunluğu"
   ]
  },
  {
   "cell_type": "code",
   "execution_count": 57,
   "id": "802d1079",
   "metadata": {},
   "outputs": [
    {
     "data": {
      "text/plain": [
       "212"
      ]
     },
     "execution_count": 57,
     "metadata": {},
     "output_type": "execute_result"
    }
   ],
   "source": [
    "FrequencyAttribute3Lenght = len(FrequencyAttribute3)\n",
    "FrequencyAttribute3Lenght"
   ]
  },
  {
   "cell_type": "code",
   "execution_count": 58,
   "id": "d27ef0c2",
   "metadata": {},
   "outputs": [
    {
     "data": {
      "text/plain": [
       "357"
      ]
     },
     "execution_count": 58,
     "metadata": {},
     "output_type": "execute_result"
    }
   ],
   "source": [
    "FrequencyAttribute3Lenght2 = len(Attribute3)-FrequencyAttribute3Lenght\n",
    "FrequencyAttribute3Lenght2"
   ]
  },
  {
   "cell_type": "markdown",
   "id": "d9cc13c9",
   "metadata": {},
   "source": [
    "##### Üçüncü nitelik için information gain hesabı"
   ]
  },
  {
   "cell_type": "code",
   "execution_count": 59,
   "id": "4b98b4f1",
   "metadata": {},
   "outputs": [
    {
     "data": {
      "text/plain": [
       "0      0.263515\n",
       "1      0.099673\n",
       "2      0.198503\n",
       "3      0.229533\n",
       "4      0.199262\n",
       "         ...   \n",
       "564    0.231472\n",
       "565    0.154676\n",
       "566    0.105846\n",
       "567    0.285850\n",
       "568    0.000000\n",
       "Length: 569, dtype: float64"
      ]
     },
     "execution_count": 59,
     "metadata": {},
     "output_type": "execute_result"
    }
   ],
   "source": [
    "InformationGain3 = GiniAttribute3 - (FrequencyAttribute3Lenght/len(Attribute3) * GiniAttribute3 - (FrequencyAttribute3Lenght2/len(Attribute3))*GiniClass3) \n",
    "InformationGain3"
   ]
  },
  {
   "cell_type": "markdown",
   "id": "c8544c76",
   "metadata": {},
   "source": [
    "##### Üçüncü nitelik değeri ayrık olmayan nitelik değerlerini 3 eşit genişlik (3 equal-width) değeri olacak şekilde parçalara ayrılmıştır."
   ]
  },
  {
   "cell_type": "code",
   "execution_count": 60,
   "id": "f23a68ab",
   "metadata": {},
   "outputs": [
    {
     "data": {
      "text/plain": [
       "0      2\n",
       "1      0\n",
       "2      1\n",
       "3      1\n",
       "4      1\n",
       "      ..\n",
       "564    1\n",
       "565    1\n",
       "566    0\n",
       "567    2\n",
       "568    0\n",
       "Name: Concavity1, Length: 569, dtype: category\n",
       "Categories (3, int64): [0 < 1 < 2]"
      ]
     },
     "execution_count": 60,
     "metadata": {},
     "output_type": "execute_result"
    }
   ],
   "source": [
    "DivisionAttribute3 = pd.cut(Attribute3.Concavity1, bins=3, labels=np.arange(3), right=False)\n",
    "DivisionAttribute3"
   ]
  },
  {
   "cell_type": "markdown",
   "id": "cf9b8291",
   "metadata": {},
   "source": [
    "##### Üçüncü nitelik değeri ayrık olmayan nitelik değerlerini 3 eşit genişlik (3 equal-width) değeri olacak şekilde parçalara ayrıldıktan sonra entropy hesabı yapılmıştır."
   ]
  },
  {
   "cell_type": "code",
   "execution_count": 61,
   "id": "fb6fc00a",
   "metadata": {},
   "outputs": [
    {
     "data": {
      "text/plain": [
       "0.6195425214698428"
      ]
     },
     "execution_count": 61,
     "metadata": {},
     "output_type": "execute_result"
    }
   ],
   "source": [
    "EntropyDivisionAttribute3 = ent(DivisionAttribute3)\n",
    "EntropyDivisionAttribute3"
   ]
  },
  {
   "cell_type": "markdown",
   "id": "0592ff5d",
   "metadata": {},
   "source": [
    "##### Üçüncü nitelik değeri ayrık olmayan nitelik değerlerini 3 eşit genişlik (3 equal-width) değeri olacak şekilde parçalara ayrıldıktan sonra gini hesabı yapılmıştır."
   ]
  },
  {
   "cell_type": "code",
   "execution_count": 150,
   "id": "7b082f61",
   "metadata": {},
   "outputs": [],
   "source": [
    "def gini(p):\n",
    "   return (p)*(1 - (p)) + (1 - p)*(1 - (1-p))"
   ]
  },
  {
   "cell_type": "code",
   "execution_count": 152,
   "id": "e26b750c",
   "metadata": {},
   "outputs": [
    {
     "data": {
      "text/plain": [
       "0     -4\n",
       "1      0\n",
       "2      0\n",
       "3      0\n",
       "4      0\n",
       "      ..\n",
       "564    0\n",
       "565    0\n",
       "566    0\n",
       "567   -4\n",
       "568    0\n",
       "Length: 569, dtype: int8"
      ]
     },
     "execution_count": 152,
     "metadata": {},
     "output_type": "execute_result"
    }
   ],
   "source": [
    "GiniDivisionAttribute3 = gini(Division1Attribute3)\n",
    "GiniDivisionAttribute3"
   ]
  },
  {
   "cell_type": "markdown",
   "id": "c98c0a43",
   "metadata": {},
   "source": [
    "##### Categorical değeri int değere çevirme"
   ]
  },
  {
   "cell_type": "code",
   "execution_count": 151,
   "id": "8bb7bc77",
   "metadata": {},
   "outputs": [
    {
     "data": {
      "text/plain": [
       "0      2\n",
       "1      0\n",
       "2      1\n",
       "3      1\n",
       "4      1\n",
       "      ..\n",
       "564    1\n",
       "565    1\n",
       "566    0\n",
       "567    2\n",
       "568    0\n",
       "Length: 569, dtype: int8"
      ]
     },
     "execution_count": 151,
     "metadata": {},
     "output_type": "execute_result"
    }
   ],
   "source": [
    "Division1Attribute3 = DivisionAttribute3.astype('category').cat.codes\n",
    "Division1Attribute3"
   ]
  },
  {
   "cell_type": "markdown",
   "id": "9daec08b",
   "metadata": {},
   "source": [
    "##### Üçüncü nitelik değeri ayrık olmayan nitelik değerlerini 3 eşit genişlik (3 equal-width) değeri olacak şekilde parçalara ayrıldıktan sonra her küme elemanının görülme frekansı hesaplanmıştır."
   ]
  },
  {
   "cell_type": "code",
   "execution_count": 153,
   "id": "3002ce50",
   "metadata": {},
   "outputs": [],
   "source": [
    "def getFreqs(data, only_freqs=True):\n",
    "        arr = np.unique(data,return_counts=True)\n",
    "        if not only_freqs:\n",
    "            return arr[0], arr[1] / np.sum(arr[1],dtype=np.float)\n",
    "        return arr[1] / np.sum(arr[1],dtype=np.float)"
   ]
  },
  {
   "cell_type": "code",
   "execution_count": 154,
   "id": "69b722ad",
   "metadata": {},
   "outputs": [
    {
     "data": {
      "text/plain": [
       "array([0.77855888, 0.18980668, 0.03163445])"
      ]
     },
     "execution_count": 154,
     "metadata": {},
     "output_type": "execute_result"
    }
   ],
   "source": [
    "FrequencyDivisionAttribute3 = getFreqs(Division1Attribute3)\n",
    "FrequencyDivisionAttribute3"
   ]
  },
  {
   "cell_type": "markdown",
   "id": "0fd1f7e9",
   "metadata": {},
   "source": [
    "##### Üçüncü nitelik değeri ayrık olmayan nitelik değerlerini 3 eşit genişlik (3 equal-width) değeri olacak şekilde parçalara ayrıldıktan sonra her küme elemanının görülme frekansı uzunluğu hesaplanmıştır."
   ]
  },
  {
   "cell_type": "code",
   "execution_count": 156,
   "id": "1bb864bd",
   "metadata": {},
   "outputs": [
    {
     "data": {
      "text/plain": [
       "3"
      ]
     },
     "execution_count": 156,
     "metadata": {},
     "output_type": "execute_result"
    }
   ],
   "source": [
    "FrequencyDivisionAttribute3Lenght = len(FrequencyDivisionAttribute3)\n",
    "FrequencyDivisionAttribute3Lenght"
   ]
  },
  {
   "cell_type": "code",
   "execution_count": 157,
   "id": "c37a1627",
   "metadata": {},
   "outputs": [
    {
     "data": {
      "text/plain": [
       "566"
      ]
     },
     "execution_count": 157,
     "metadata": {},
     "output_type": "execute_result"
    }
   ],
   "source": [
    "FrequencyDivisionAttribute3Lenght2 = len(Division1Attribute3)-FrequencyDivisionAttribute3Lenght\n",
    "FrequencyDivisionAttribute3Lenght2"
   ]
  },
  {
   "cell_type": "markdown",
   "id": "4b723dc0",
   "metadata": {},
   "source": [
    "##### Üçüncü nitelik değeri ayrık olmayan nitelik değerlerini 3 eşit genişlik (3 equal-width) değeri olacak şekilde parçalara ayrıldıktan sonra information gain hesaplanmıştır."
   ]
  },
  {
   "cell_type": "code",
   "execution_count": 158,
   "id": "fc196c77",
   "metadata": {},
   "outputs": [
    {
     "data": {
      "text/plain": [
       "0     -3.97891\n",
       "1      0.00000\n",
       "2      0.00000\n",
       "3      0.00000\n",
       "4      0.00000\n",
       "        ...   \n",
       "564    0.00000\n",
       "565    0.00000\n",
       "566    0.00000\n",
       "567   -3.97891\n",
       "568    0.00000\n",
       "Length: 569, dtype: float64"
      ]
     },
     "execution_count": 158,
     "metadata": {},
     "output_type": "execute_result"
    }
   ],
   "source": [
    "Division1InformationGain3 = GiniDivisionAttribute3 - (FrequencyDivisionAttribute3Lenght/len(Division1Attribute3) * GiniDivisionAttribute3 - (FrequencyDivisionAttribute3Lenght2/len(Division1Attribute3)) * GiniClass1) \n",
    "Division1InformationGain3"
   ]
  },
  {
   "cell_type": "markdown",
   "id": "9e183590",
   "metadata": {},
   "source": [
    "##### Üçüncü nitelik değeri ayrık olmayan nitelik değerlerini 4 eşit genişlik (4 equal-width) değeri olacak şekilde parçalara ayrılmıştır."
   ]
  },
  {
   "cell_type": "code",
   "execution_count": 62,
   "id": "aecf8386",
   "metadata": {},
   "outputs": [
    {
     "data": {
      "text/plain": [
       "0      2\n",
       "1      0\n",
       "2      1\n",
       "3      2\n",
       "4      1\n",
       "      ..\n",
       "564    2\n",
       "565    1\n",
       "566    0\n",
       "567    3\n",
       "568    0\n",
       "Name: Concavity1, Length: 569, dtype: category\n",
       "Categories (4, int64): [0 < 1 < 2 < 3]"
      ]
     },
     "execution_count": 62,
     "metadata": {},
     "output_type": "execute_result"
    }
   ],
   "source": [
    "Division2Attribute3 = pd.cut(Attribute3.Concavity1, bins=4, labels=np.arange(4), right=False)\n",
    "Division2Attribute3"
   ]
  },
  {
   "cell_type": "markdown",
   "id": "626cb18d",
   "metadata": {},
   "source": [
    "##### Üçüncü nitelik değeri ayrık olmayan nitelik değerlerini 4 eşit genişlik (4 equal-width) değeri olacak şekilde parçalara ayrıldıktan sonra entropy hesabı yapılmıştır."
   ]
  },
  {
   "cell_type": "code",
   "execution_count": 63,
   "id": "6c05135c",
   "metadata": {},
   "outputs": [
    {
     "data": {
      "text/plain": [
       "0.8498105807742357"
      ]
     },
     "execution_count": 63,
     "metadata": {},
     "output_type": "execute_result"
    }
   ],
   "source": [
    "EntropyDivision2Attribute3 = ent(Division2Attribute3)\n",
    "EntropyDivision2Attribute3"
   ]
  },
  {
   "cell_type": "markdown",
   "id": "5b6868f2",
   "metadata": {},
   "source": [
    "##### Üçüncü nitelik değeri ayrık olmayan nitelik değerlerini 4 eşit genişlik (4 equal-width) değeri olacak şekilde parçalara ayrıldıktan sonra gini hesabı yapılmıştır."
   ]
  },
  {
   "cell_type": "code",
   "execution_count": null,
   "id": "e158df7c",
   "metadata": {},
   "outputs": [],
   "source": [
    "def gini(p):\n",
    "   return (p)*(1 - (p)) + (1 - p)*(1 - (1-p))"
   ]
  },
  {
   "cell_type": "code",
   "execution_count": 160,
   "id": "a79a2e9b",
   "metadata": {},
   "outputs": [
    {
     "data": {
      "text/plain": [
       "0     -4\n",
       "1      0\n",
       "2      0\n",
       "3      0\n",
       "4      0\n",
       "      ..\n",
       "564    0\n",
       "565    0\n",
       "566    0\n",
       "567   -4\n",
       "568    0\n",
       "Length: 569, dtype: int8"
      ]
     },
     "execution_count": 160,
     "metadata": {},
     "output_type": "execute_result"
    }
   ],
   "source": [
    "GiniDivision2Attribute3 = gini(Division2Attribute3)\n",
    "GiniDivision2Attribute3"
   ]
  },
  {
   "cell_type": "markdown",
   "id": "716c69c2",
   "metadata": {},
   "source": [
    "##### Categorical değeri int değere çevirme"
   ]
  },
  {
   "cell_type": "code",
   "execution_count": 159,
   "id": "54a182ab",
   "metadata": {},
   "outputs": [
    {
     "data": {
      "text/plain": [
       "0      2\n",
       "1      0\n",
       "2      1\n",
       "3      1\n",
       "4      1\n",
       "      ..\n",
       "564    1\n",
       "565    1\n",
       "566    0\n",
       "567    2\n",
       "568    0\n",
       "Length: 569, dtype: int8"
      ]
     },
     "execution_count": 159,
     "metadata": {},
     "output_type": "execute_result"
    }
   ],
   "source": [
    "Division2Attribute3 = DivisionAttribute3.astype('category').cat.codes\n",
    "Division2Attribute3"
   ]
  },
  {
   "cell_type": "markdown",
   "id": "2d686c17",
   "metadata": {},
   "source": [
    "##### Üçüncü nitelik değeri ayrık olmayan nitelik değerlerini 4 eşit genişlik (4 equal-width) değeri olacak şekilde parçalara ayrıldıktan sonra her küme elemanının görülme frekansı hesaplanmıştır."
   ]
  },
  {
   "cell_type": "code",
   "execution_count": 162,
   "id": "1e2913f8",
   "metadata": {},
   "outputs": [],
   "source": [
    " def getFreqs(data, only_freqs=True):\n",
    "        arr = np.unique(data,return_counts=True)\n",
    "        if not only_freqs:\n",
    "            return arr[0], arr[1] / np.sum(arr[1],dtype=np.float)\n",
    "        return arr[1] / np.sum(arr[1],dtype=np.float)"
   ]
  },
  {
   "cell_type": "code",
   "execution_count": 163,
   "id": "426eb84a",
   "metadata": {},
   "outputs": [
    {
     "data": {
      "text/plain": [
       "array([0.77855888, 0.18980668, 0.03163445])"
      ]
     },
     "execution_count": 163,
     "metadata": {},
     "output_type": "execute_result"
    }
   ],
   "source": [
    "FrequencyDivision2Attribute3 = getFreqs(Division2Attribute3)\n",
    "FrequencyDivision2Attribute3"
   ]
  },
  {
   "cell_type": "markdown",
   "id": "24ae9b36",
   "metadata": {},
   "source": [
    "##### Üçüncü nitelik değeri ayrık olmayan nitelik değerlerini 4 eşit genişlik (4 equal-width) değeri olacak şekilde parçalara ayrıldıktan sonra her küme elemanının görülme frekansı uzunluğu hesaplanmıştır."
   ]
  },
  {
   "cell_type": "code",
   "execution_count": 164,
   "id": "aee39323",
   "metadata": {},
   "outputs": [
    {
     "data": {
      "text/plain": [
       "3"
      ]
     },
     "execution_count": 164,
     "metadata": {},
     "output_type": "execute_result"
    }
   ],
   "source": [
    "FrequencyDivision2Attribute3Lenght = len(FrequencyDivision2Attribute3)\n",
    "FrequencyDivision2Attribute3Lenght"
   ]
  },
  {
   "cell_type": "code",
   "execution_count": 165,
   "id": "c539f8e7",
   "metadata": {},
   "outputs": [
    {
     "data": {
      "text/plain": [
       "566"
      ]
     },
     "execution_count": 165,
     "metadata": {},
     "output_type": "execute_result"
    }
   ],
   "source": [
    "FrequencyDivision2Attribute3Lenght2 = len(Division2Attribute1)-FrequencyDivision2Attribute1Lenght\n",
    "FrequencyDivision2Attribute3Lenght2"
   ]
  },
  {
   "cell_type": "markdown",
   "id": "fec16452",
   "metadata": {},
   "source": [
    "##### Üçüncü nitelik değeri ayrık olmayan nitelik değerlerini 4 eşit genişlik (4 equal-width) değeri olacak şekilde parçalara ayrıldıktan sonra information gain hesaplanmıştır."
   ]
  },
  {
   "cell_type": "code",
   "execution_count": 166,
   "id": "87c740cc",
   "metadata": {},
   "outputs": [
    {
     "data": {
      "text/plain": [
       "0     -3.97891\n",
       "1      0.00000\n",
       "2      0.00000\n",
       "3      0.00000\n",
       "4      0.00000\n",
       "        ...   \n",
       "564    0.00000\n",
       "565    0.00000\n",
       "566    0.00000\n",
       "567   -3.97891\n",
       "568    0.00000\n",
       "Length: 569, dtype: float64"
      ]
     },
     "execution_count": 166,
     "metadata": {},
     "output_type": "execute_result"
    }
   ],
   "source": [
    "Division2InformationGain3 = GiniDivision2Attribute3 - (FrequencyDivision2Attribute3Lenght/len(Division2Attribute3) * GiniDivision2Attribute3 - (FrequencyDivision2Attribute3Lenght2/len(Division2Attribute3)) * GiniClass1) \n",
    "Division2InformationGain3"
   ]
  },
  {
   "cell_type": "markdown",
   "id": "4f038eca",
   "metadata": {},
   "source": [
    "##### Dördüncü nitelik için CSV okuma işlemleri yapıldı."
   ]
  },
  {
   "cell_type": "code",
   "execution_count": 64,
   "id": "790a0e60",
   "metadata": {},
   "outputs": [
    {
     "data": {
      "text/html": [
       "<div>\n",
       "<style scoped>\n",
       "    .dataframe tbody tr th:only-of-type {\n",
       "        vertical-align: middle;\n",
       "    }\n",
       "\n",
       "    .dataframe tbody tr th {\n",
       "        vertical-align: top;\n",
       "    }\n",
       "\n",
       "    .dataframe thead th {\n",
       "        text-align: right;\n",
       "    }\n",
       "</style>\n",
       "<table border=\"1\" class=\"dataframe\">\n",
       "  <thead>\n",
       "    <tr style=\"text-align: right;\">\n",
       "      <th></th>\n",
       "      <th>Concave_points1</th>\n",
       "    </tr>\n",
       "  </thead>\n",
       "  <tbody>\n",
       "    <tr>\n",
       "      <th>0</th>\n",
       "      <td>0.147</td>\n",
       "    </tr>\n",
       "    <tr>\n",
       "      <th>1</th>\n",
       "      <td>0.070</td>\n",
       "    </tr>\n",
       "    <tr>\n",
       "      <th>2</th>\n",
       "      <td>0.128</td>\n",
       "    </tr>\n",
       "    <tr>\n",
       "      <th>3</th>\n",
       "      <td>0.105</td>\n",
       "    </tr>\n",
       "    <tr>\n",
       "      <th>4</th>\n",
       "      <td>0.104</td>\n",
       "    </tr>\n",
       "    <tr>\n",
       "      <th>...</th>\n",
       "      <td>...</td>\n",
       "    </tr>\n",
       "    <tr>\n",
       "      <th>564</th>\n",
       "      <td>0.139</td>\n",
       "    </tr>\n",
       "    <tr>\n",
       "      <th>565</th>\n",
       "      <td>0.098</td>\n",
       "    </tr>\n",
       "    <tr>\n",
       "      <th>566</th>\n",
       "      <td>0.053</td>\n",
       "    </tr>\n",
       "    <tr>\n",
       "      <th>567</th>\n",
       "      <td>0.152</td>\n",
       "    </tr>\n",
       "    <tr>\n",
       "      <th>568</th>\n",
       "      <td>0.000</td>\n",
       "    </tr>\n",
       "  </tbody>\n",
       "</table>\n",
       "<p>569 rows × 1 columns</p>\n",
       "</div>"
      ],
      "text/plain": [
       "     Concave_points1\n",
       "0              0.147\n",
       "1              0.070\n",
       "2              0.128\n",
       "3              0.105\n",
       "4              0.104\n",
       "..               ...\n",
       "564            0.139\n",
       "565            0.098\n",
       "566            0.053\n",
       "567            0.152\n",
       "568            0.000\n",
       "\n",
       "[569 rows x 1 columns]"
      ]
     },
     "execution_count": 64,
     "metadata": {},
     "output_type": "execute_result"
    }
   ],
   "source": [
    "Attribute4 =pd.read_csv(\"ConcavePoints.csv\")\n",
    "Attribute4"
   ]
  },
  {
   "cell_type": "code",
   "execution_count": 65,
   "id": "925c3914",
   "metadata": {},
   "outputs": [
    {
     "data": {
      "text/html": [
       "<div>\n",
       "<style scoped>\n",
       "    .dataframe tbody tr th:only-of-type {\n",
       "        vertical-align: middle;\n",
       "    }\n",
       "\n",
       "    .dataframe tbody tr th {\n",
       "        vertical-align: top;\n",
       "    }\n",
       "\n",
       "    .dataframe thead th {\n",
       "        text-align: right;\n",
       "    }\n",
       "</style>\n",
       "<table border=\"1\" class=\"dataframe\">\n",
       "  <thead>\n",
       "    <tr style=\"text-align: right;\">\n",
       "      <th></th>\n",
       "      <th>Concave_points1;Class</th>\n",
       "    </tr>\n",
       "  </thead>\n",
       "  <tbody>\n",
       "    <tr>\n",
       "      <th>0</th>\n",
       "      <td>0.147;M</td>\n",
       "    </tr>\n",
       "    <tr>\n",
       "      <th>1</th>\n",
       "      <td>0.07;M</td>\n",
       "    </tr>\n",
       "    <tr>\n",
       "      <th>2</th>\n",
       "      <td>0.128;M</td>\n",
       "    </tr>\n",
       "    <tr>\n",
       "      <th>3</th>\n",
       "      <td>0.105;M</td>\n",
       "    </tr>\n",
       "    <tr>\n",
       "      <th>4</th>\n",
       "      <td>0.104;M</td>\n",
       "    </tr>\n",
       "    <tr>\n",
       "      <th>...</th>\n",
       "      <td>...</td>\n",
       "    </tr>\n",
       "    <tr>\n",
       "      <th>564</th>\n",
       "      <td>0.139;M</td>\n",
       "    </tr>\n",
       "    <tr>\n",
       "      <th>565</th>\n",
       "      <td>0.098;M</td>\n",
       "    </tr>\n",
       "    <tr>\n",
       "      <th>566</th>\n",
       "      <td>0.053;M</td>\n",
       "    </tr>\n",
       "    <tr>\n",
       "      <th>567</th>\n",
       "      <td>0.152;M</td>\n",
       "    </tr>\n",
       "    <tr>\n",
       "      <th>568</th>\n",
       "      <td>0.0;B</td>\n",
       "    </tr>\n",
       "  </tbody>\n",
       "</table>\n",
       "<p>569 rows × 1 columns</p>\n",
       "</div>"
      ],
      "text/plain": [
       "    Concave_points1;Class\n",
       "0                 0.147;M\n",
       "1                  0.07;M\n",
       "2                 0.128;M\n",
       "3                 0.105;M\n",
       "4                 0.104;M\n",
       "..                    ...\n",
       "564               0.139;M\n",
       "565               0.098;M\n",
       "566               0.053;M\n",
       "567               0.152;M\n",
       "568                 0.0;B\n",
       "\n",
       "[569 rows x 1 columns]"
      ]
     },
     "execution_count": 65,
     "metadata": {},
     "output_type": "execute_result"
    }
   ],
   "source": [
    "Attribute4Class =pd.read_csv(\"ConcavePointsClass.csv\")\n",
    "Attribute4Class"
   ]
  },
  {
   "cell_type": "code",
   "execution_count": 66,
   "id": "b8c8ca98",
   "metadata": {},
   "outputs": [
    {
     "data": {
      "text/html": [
       "<div>\n",
       "<style scoped>\n",
       "    .dataframe tbody tr th:only-of-type {\n",
       "        vertical-align: middle;\n",
       "    }\n",
       "\n",
       "    .dataframe tbody tr th {\n",
       "        vertical-align: top;\n",
       "    }\n",
       "\n",
       "    .dataframe thead th {\n",
       "        text-align: right;\n",
       "    }\n",
       "</style>\n",
       "<table border=\"1\" class=\"dataframe\">\n",
       "  <thead>\n",
       "    <tr style=\"text-align: right;\">\n",
       "      <th></th>\n",
       "      <th>Class</th>\n",
       "    </tr>\n",
       "  </thead>\n",
       "  <tbody>\n",
       "    <tr>\n",
       "      <th>0</th>\n",
       "      <td>M</td>\n",
       "    </tr>\n",
       "    <tr>\n",
       "      <th>1</th>\n",
       "      <td>M</td>\n",
       "    </tr>\n",
       "    <tr>\n",
       "      <th>2</th>\n",
       "      <td>M</td>\n",
       "    </tr>\n",
       "    <tr>\n",
       "      <th>3</th>\n",
       "      <td>M</td>\n",
       "    </tr>\n",
       "    <tr>\n",
       "      <th>4</th>\n",
       "      <td>M</td>\n",
       "    </tr>\n",
       "    <tr>\n",
       "      <th>...</th>\n",
       "      <td>...</td>\n",
       "    </tr>\n",
       "    <tr>\n",
       "      <th>564</th>\n",
       "      <td>M</td>\n",
       "    </tr>\n",
       "    <tr>\n",
       "      <th>565</th>\n",
       "      <td>M</td>\n",
       "    </tr>\n",
       "    <tr>\n",
       "      <th>566</th>\n",
       "      <td>M</td>\n",
       "    </tr>\n",
       "    <tr>\n",
       "      <th>567</th>\n",
       "      <td>M</td>\n",
       "    </tr>\n",
       "    <tr>\n",
       "      <th>568</th>\n",
       "      <td>B</td>\n",
       "    </tr>\n",
       "  </tbody>\n",
       "</table>\n",
       "<p>569 rows × 1 columns</p>\n",
       "</div>"
      ],
      "text/plain": [
       "    Class\n",
       "0       M\n",
       "1       M\n",
       "2       M\n",
       "3       M\n",
       "4       M\n",
       "..    ...\n",
       "564     M\n",
       "565     M\n",
       "566     M\n",
       "567     M\n",
       "568     B\n",
       "\n",
       "[569 rows x 1 columns]"
      ]
     },
     "execution_count": 66,
     "metadata": {},
     "output_type": "execute_result"
    }
   ],
   "source": [
    "Class4 = pd.read_csv(\"Class.csv\")\n",
    "Class4"
   ]
  },
  {
   "cell_type": "markdown",
   "id": "dac1e418",
   "metadata": {},
   "source": [
    "##### String targetler için integer dönüşümü yapıldı."
   ]
  },
  {
   "cell_type": "code",
   "execution_count": 67,
   "id": "d6e093bf",
   "metadata": {},
   "outputs": [
    {
     "data": {
      "text/html": [
       "<div>\n",
       "<style scoped>\n",
       "    .dataframe tbody tr th:only-of-type {\n",
       "        vertical-align: middle;\n",
       "    }\n",
       "\n",
       "    .dataframe tbody tr th {\n",
       "        vertical-align: top;\n",
       "    }\n",
       "\n",
       "    .dataframe thead th {\n",
       "        text-align: right;\n",
       "    }\n",
       "</style>\n",
       "<table border=\"1\" class=\"dataframe\">\n",
       "  <thead>\n",
       "    <tr style=\"text-align: right;\">\n",
       "      <th></th>\n",
       "      <th>Class</th>\n",
       "    </tr>\n",
       "  </thead>\n",
       "  <tbody>\n",
       "    <tr>\n",
       "      <th>0</th>\n",
       "      <td>0</td>\n",
       "    </tr>\n",
       "    <tr>\n",
       "      <th>1</th>\n",
       "      <td>0</td>\n",
       "    </tr>\n",
       "    <tr>\n",
       "      <th>2</th>\n",
       "      <td>0</td>\n",
       "    </tr>\n",
       "    <tr>\n",
       "      <th>3</th>\n",
       "      <td>0</td>\n",
       "    </tr>\n",
       "    <tr>\n",
       "      <th>4</th>\n",
       "      <td>0</td>\n",
       "    </tr>\n",
       "    <tr>\n",
       "      <th>...</th>\n",
       "      <td>...</td>\n",
       "    </tr>\n",
       "    <tr>\n",
       "      <th>564</th>\n",
       "      <td>0</td>\n",
       "    </tr>\n",
       "    <tr>\n",
       "      <th>565</th>\n",
       "      <td>0</td>\n",
       "    </tr>\n",
       "    <tr>\n",
       "      <th>566</th>\n",
       "      <td>0</td>\n",
       "    </tr>\n",
       "    <tr>\n",
       "      <th>567</th>\n",
       "      <td>0</td>\n",
       "    </tr>\n",
       "    <tr>\n",
       "      <th>568</th>\n",
       "      <td>1</td>\n",
       "    </tr>\n",
       "  </tbody>\n",
       "</table>\n",
       "<p>569 rows × 1 columns</p>\n",
       "</div>"
      ],
      "text/plain": [
       "     Class\n",
       "0        0\n",
       "1        0\n",
       "2        0\n",
       "3        0\n",
       "4        0\n",
       "..     ...\n",
       "564      0\n",
       "565      0\n",
       "566      0\n",
       "567      0\n",
       "568      1\n",
       "\n",
       "[569 rows x 1 columns]"
      ]
     },
     "execution_count": 67,
     "metadata": {},
     "output_type": "execute_result"
    }
   ],
   "source": [
    "Class4Replace=Class4.replace(\"B\",1).replace(\"M\",0)\n",
    "Class4Replace\n",
    "Class4=Class4Replace\n",
    "Class4"
   ]
  },
  {
   "cell_type": "markdown",
   "id": "64753e65",
   "metadata": {},
   "source": [
    "##### Dördüncü nitelik için entropi hesabı yapıldı."
   ]
  },
  {
   "cell_type": "code",
   "execution_count": 68,
   "id": "eb3ebefc",
   "metadata": {},
   "outputs": [],
   "source": [
    "def ent(data):\n",
    "    p_data = data.value_counts()          \n",
    "    entropy = stats.entropy(p_data)  \n",
    "    return entropy"
   ]
  },
  {
   "cell_type": "code",
   "execution_count": 69,
   "id": "8ea0b682",
   "metadata": {},
   "outputs": [
    {
     "data": {
      "text/plain": [
       "4.589932797831157"
      ]
     },
     "execution_count": 69,
     "metadata": {},
     "output_type": "execute_result"
    }
   ],
   "source": [
    "EntropyAttribute4=ent(Attribute4)\n",
    "EntropyAttribute4"
   ]
  },
  {
   "cell_type": "markdown",
   "id": "2502123c",
   "metadata": {},
   "source": [
    "##### Dördüncü nitelik için gini hesabı yapıldı."
   ]
  },
  {
   "cell_type": "code",
   "execution_count": 70,
   "id": "0b16238c",
   "metadata": {},
   "outputs": [],
   "source": [
    "def gini(p):\n",
    "   return (p)*(1 - (p)) + (1 - p)*(1 - (1-p))"
   ]
  },
  {
   "cell_type": "code",
   "execution_count": 71,
   "id": "d86ac467",
   "metadata": {},
   "outputs": [
    {
     "data": {
      "text/plain": [
       "0      0.250782\n",
       "1      0.130200\n",
       "2      0.223232\n",
       "3      0.187950\n",
       "4      0.186368\n",
       "         ...   \n",
       "564    0.239358\n",
       "565    0.176792\n",
       "566    0.100382\n",
       "567    0.257792\n",
       "568    0.000000\n",
       "Name: Concave_points1, Length: 569, dtype: float64"
      ]
     },
     "execution_count": 71,
     "metadata": {},
     "output_type": "execute_result"
    }
   ],
   "source": [
    "GiniAttribute4 = gini(Attribute4.Concave_points1)\n",
    "GiniAttribute4"
   ]
  },
  {
   "cell_type": "code",
   "execution_count": 72,
   "id": "8439a33f",
   "metadata": {},
   "outputs": [
    {
     "data": {
      "text/plain": [
       "0      0\n",
       "1      0\n",
       "2      0\n",
       "3      0\n",
       "4      0\n",
       "      ..\n",
       "564    0\n",
       "565    0\n",
       "566    0\n",
       "567    0\n",
       "568    0\n",
       "Name: Class, Length: 569, dtype: int64"
      ]
     },
     "execution_count": 72,
     "metadata": {},
     "output_type": "execute_result"
    }
   ],
   "source": [
    "GiniClass4=gini(Class4.Class)\n",
    "GiniClass4"
   ]
  },
  {
   "cell_type": "markdown",
   "id": "251552a1",
   "metadata": {},
   "source": [
    "##### Dördüncü nitelik için her küme elemanının görülme frekansı"
   ]
  },
  {
   "cell_type": "code",
   "execution_count": 73,
   "id": "6ac94867",
   "metadata": {},
   "outputs": [],
   "source": [
    "def getFreqs(data, only_freqs=True):\n",
    "        arr = np.unique(data,return_counts=True)\n",
    "        if not only_freqs:\n",
    "            return arr[0], arr[1] / np.sum(arr[1],dtype=np.float)\n",
    "        return arr[1] / np.sum(arr[1],dtype=np.float)"
   ]
  },
  {
   "cell_type": "code",
   "execution_count": 74,
   "id": "ff500721",
   "metadata": {},
   "outputs": [
    {
     "data": {
      "text/plain": [
       "array([0.0228471 , 0.00351494, 0.01054482, 0.00351494, 0.00878735,\n",
       "       0.01230228, 0.00351494, 0.01054482, 0.00878735, 0.00527241,\n",
       "       0.01933216, 0.00878735, 0.01757469, 0.01581722, 0.01405975,\n",
       "       0.00878735, 0.01230228, 0.01933216, 0.02811951, 0.02108963,\n",
       "       0.02108963, 0.01581722, 0.02636204, 0.02460457, 0.01054482,\n",
       "       0.01933216, 0.01405975, 0.02460457, 0.03163445, 0.01230228,\n",
       "       0.01757469, 0.01054482, 0.01581722, 0.01054482, 0.00878735,\n",
       "       0.00351494, 0.01230228, 0.00878735, 0.00351494, 0.00351494,\n",
       "       0.00702988, 0.00351494, 0.00878735, 0.00702988, 0.00878735,\n",
       "       0.00527241, 0.00175747, 0.01054482, 0.00351494, 0.00175747,\n",
       "       0.00527241, 0.00527241, 0.01230228, 0.00878735, 0.00175747,\n",
       "       0.01581722, 0.00351494, 0.00878735, 0.00527241, 0.00878735,\n",
       "       0.00527241, 0.00351494, 0.00351494, 0.00351494, 0.01054482,\n",
       "       0.01757469, 0.00527241, 0.00351494, 0.00702988, 0.00175747,\n",
       "       0.00175747, 0.00702988, 0.00527241, 0.00175747, 0.00351494,\n",
       "       0.00702988, 0.00351494, 0.00878735, 0.00527241, 0.00175747,\n",
       "       0.00527241, 0.00351494, 0.01054482, 0.00702988, 0.00878735,\n",
       "       0.01230228, 0.00878735, 0.00351494, 0.00527241, 0.00702988,\n",
       "       0.00175747, 0.00527241, 0.00702988, 0.00351494, 0.00878735,\n",
       "       0.00351494, 0.00175747, 0.00527241, 0.00175747, 0.00351494,\n",
       "       0.00175747, 0.00351494, 0.00351494, 0.00351494, 0.00175747,\n",
       "       0.00351494, 0.00351494, 0.00351494, 0.00175747, 0.00175747,\n",
       "       0.00175747, 0.00175747, 0.00351494, 0.00702988, 0.00527241,\n",
       "       0.00351494, 0.00175747, 0.00175747, 0.00175747, 0.00175747,\n",
       "       0.00175747, 0.00175747, 0.00175747, 0.00702988, 0.00527241,\n",
       "       0.00175747, 0.00175747, 0.00351494, 0.00175747, 0.00175747,\n",
       "       0.00175747, 0.00175747, 0.00175747, 0.00175747, 0.00175747])"
      ]
     },
     "execution_count": 74,
     "metadata": {},
     "output_type": "execute_result"
    }
   ],
   "source": [
    "FrequencyAttribute4 = getFreqs(Attribute4)\n",
    "FrequencyAttribute4"
   ]
  },
  {
   "cell_type": "markdown",
   "id": "977c6c25",
   "metadata": {},
   "source": [
    "##### Dördüncü nitelik için her küme elemanının görülme frekansı uzunluğu"
   ]
  },
  {
   "cell_type": "code",
   "execution_count": 75,
   "id": "f3200caa",
   "metadata": {},
   "outputs": [
    {
     "data": {
      "text/plain": [
       "135"
      ]
     },
     "execution_count": 75,
     "metadata": {},
     "output_type": "execute_result"
    }
   ],
   "source": [
    "FrequencyAttribute4Lenght = len(FrequencyAttribute4)\n",
    "FrequencyAttribute4Lenght"
   ]
  },
  {
   "cell_type": "code",
   "execution_count": 76,
   "id": "e6e60dda",
   "metadata": {},
   "outputs": [
    {
     "data": {
      "text/plain": [
       "434"
      ]
     },
     "execution_count": 76,
     "metadata": {},
     "output_type": "execute_result"
    }
   ],
   "source": [
    "FrequencyAttribute4Lenght2 = len(Attribute4)-FrequencyAttribute4Lenght\n",
    "FrequencyAttribute4Lenght2"
   ]
  },
  {
   "cell_type": "markdown",
   "id": "71586ea3",
   "metadata": {},
   "source": [
    "##### Dördüncü nitelik için information gain hesabı"
   ]
  },
  {
   "cell_type": "code",
   "execution_count": 77,
   "id": "ebf5af56",
   "metadata": {},
   "outputs": [
    {
     "data": {
      "text/plain": [
       "0      0.191282\n",
       "1      0.099309\n",
       "2      0.170268\n",
       "3      0.143357\n",
       "4      0.142151\n",
       "         ...   \n",
       "564    0.182568\n",
       "565    0.134847\n",
       "566    0.076566\n",
       "567    0.196629\n",
       "568    0.000000\n",
       "Length: 569, dtype: float64"
      ]
     },
     "execution_count": 77,
     "metadata": {},
     "output_type": "execute_result"
    }
   ],
   "source": [
    "InformationGain4 = GiniAttribute4 - (FrequencyAttribute4Lenght/len(Attribute4) * GiniAttribute4 - (FrequencyAttribute4Lenght2/len(Attribute4))*GiniClass4) \n",
    "InformationGain4"
   ]
  },
  {
   "cell_type": "markdown",
   "id": "5e6a321b",
   "metadata": {},
   "source": [
    "##### Dördüncü nitelik değeri ayrık olmayan nitelik değerlerini 3 eşit genişlik (3 equal-width) değeri olacak şekilde parçalara ayrılmıştır."
   ]
  },
  {
   "cell_type": "code",
   "execution_count": 78,
   "id": "d1eab24d",
   "metadata": {},
   "outputs": [
    {
     "data": {
      "text/plain": [
       "0      2\n",
       "1      1\n",
       "2      1\n",
       "3      1\n",
       "4      1\n",
       "      ..\n",
       "564    2\n",
       "565    1\n",
       "566    0\n",
       "567    2\n",
       "568    0\n",
       "Name: Concave_points1, Length: 569, dtype: category\n",
       "Categories (3, int64): [0 < 1 < 2]"
      ]
     },
     "execution_count": 78,
     "metadata": {},
     "output_type": "execute_result"
    }
   ],
   "source": [
    "DivisionAttribute4 = pd.cut(Attribute4.Concave_points1, bins=3, labels=np.arange(3), right=False)\n",
    "DivisionAttribute4"
   ]
  },
  {
   "cell_type": "markdown",
   "id": "3047adbb",
   "metadata": {},
   "source": [
    "##### Dördüncü nitelik değeri ayrık olmayan nitelik değerlerini 3 eşit genişlik (3 equal-width) değeri olacak şekilde parçalara ayrıldıktan sonra entropy hesabı yapılmıştır."
   ]
  },
  {
   "cell_type": "code",
   "execution_count": 79,
   "id": "7b8546a7",
   "metadata": {},
   "outputs": [
    {
     "data": {
      "text/plain": [
       "0.6969070049680597"
      ]
     },
     "execution_count": 79,
     "metadata": {},
     "output_type": "execute_result"
    }
   ],
   "source": [
    "EntropyDivisionAttribute4 = ent(DivisionAttribute4)\n",
    "EntropyDivisionAttribute4"
   ]
  },
  {
   "cell_type": "markdown",
   "id": "712772a3",
   "metadata": {},
   "source": [
    "##### Dördüncü nitelik değeri ayrık olmayan nitelik değerlerini 3 eşit genişlik (3 equal-width) değeri olacak şekilde parçalara ayrıldıktan sonra gini hesabı yapılmıştır."
   ]
  },
  {
   "cell_type": "code",
   "execution_count": 167,
   "id": "31f0bed4",
   "metadata": {},
   "outputs": [],
   "source": [
    "def gini(p):\n",
    "   return (p)*(1 - (p)) + (1 - p)*(1 - (1-p))"
   ]
  },
  {
   "cell_type": "markdown",
   "id": "883fb084",
   "metadata": {},
   "source": [
    "##### Categorical değeri int değere çevirme"
   ]
  },
  {
   "cell_type": "code",
   "execution_count": 168,
   "id": "ee9a8fa6",
   "metadata": {},
   "outputs": [
    {
     "data": {
      "text/plain": [
       "0      2\n",
       "1      1\n",
       "2      1\n",
       "3      1\n",
       "4      1\n",
       "      ..\n",
       "564    2\n",
       "565    1\n",
       "566    0\n",
       "567    2\n",
       "568    0\n",
       "Length: 569, dtype: int8"
      ]
     },
     "execution_count": 168,
     "metadata": {},
     "output_type": "execute_result"
    }
   ],
   "source": [
    "Division1Attribute4 = DivisionAttribute4.astype('category').cat.codes\n",
    "Division1Attribute4"
   ]
  },
  {
   "cell_type": "code",
   "execution_count": 169,
   "id": "d39b7cff",
   "metadata": {},
   "outputs": [
    {
     "data": {
      "text/plain": [
       "0     -4\n",
       "1      0\n",
       "2      0\n",
       "3      0\n",
       "4      0\n",
       "      ..\n",
       "564   -4\n",
       "565    0\n",
       "566    0\n",
       "567   -4\n",
       "568    0\n",
       "Length: 569, dtype: int8"
      ]
     },
     "execution_count": 169,
     "metadata": {},
     "output_type": "execute_result"
    }
   ],
   "source": [
    "GiniDivisionAttribute4 = gini(Division1Attribute4)\n",
    "GiniDivisionAttribute4"
   ]
  },
  {
   "cell_type": "markdown",
   "id": "fede025f",
   "metadata": {},
   "source": [
    "##### Dördüncü nitelik değeri ayrık olmayan nitelik değerlerini 3 eşit genişlik (3 equal-width) değeri olacak şekilde parçalara ayrıldıktan sonra her küme elemanının görülme frekansı hesaplanmıştır."
   ]
  },
  {
   "cell_type": "code",
   "execution_count": 170,
   "id": "eb2e3bf5",
   "metadata": {},
   "outputs": [],
   "source": [
    " def getFreqs(data, only_freqs=True):\n",
    "        arr = np.unique(data,return_counts=True)\n",
    "        if not only_freqs:\n",
    "            return arr[0], arr[1] / np.sum(arr[1],dtype=np.float)\n",
    "        return arr[1] / np.sum(arr[1],dtype=np.float)"
   ]
  },
  {
   "cell_type": "code",
   "execution_count": 171,
   "id": "68a21287",
   "metadata": {},
   "outputs": [
    {
     "data": {
      "text/plain": [
       "array([0.72759227, 0.23374341, 0.03866432])"
      ]
     },
     "execution_count": 171,
     "metadata": {},
     "output_type": "execute_result"
    }
   ],
   "source": [
    "FrequencyDivisionAttribute4 = getFreqs(Division1Attribute4)\n",
    "FrequencyDivisionAttribute4"
   ]
  },
  {
   "cell_type": "markdown",
   "id": "6121e996",
   "metadata": {},
   "source": [
    "##### Dördüncü nitelik değeri ayrık olmayan nitelik değerlerini 3 eşit genişlik (3 equal-width) değeri olacak şekilde parçalara ayrıldıktan sonra her küme elemanının görülme frekansı uzunluğu hesaplanmıştır."
   ]
  },
  {
   "cell_type": "code",
   "execution_count": 176,
   "id": "59ca1bf6",
   "metadata": {},
   "outputs": [
    {
     "data": {
      "text/plain": [
       "3"
      ]
     },
     "execution_count": 176,
     "metadata": {},
     "output_type": "execute_result"
    }
   ],
   "source": [
    "FrequencyDivisionAttribute4Lenght = len(FrequencyDivisionAttribute4)\n",
    "FrequencyDivisionAttribute4Lenght"
   ]
  },
  {
   "cell_type": "code",
   "execution_count": 177,
   "id": "b4a5f346",
   "metadata": {},
   "outputs": [
    {
     "data": {
      "text/plain": [
       "566"
      ]
     },
     "execution_count": 177,
     "metadata": {},
     "output_type": "execute_result"
    }
   ],
   "source": [
    "FrequencyDivisionAttribute4Lenght2 = len(Division1Attribute4)-FrequencyDivisionAttribute4Lenght\n",
    "FrequencyDivisionAttribute4Lenght2"
   ]
  },
  {
   "cell_type": "markdown",
   "id": "42d89016",
   "metadata": {},
   "source": [
    "##### Dördüncü nitelik değeri ayrık olmayan nitelik değerlerini 3 eşit genişlik (3 equal-width) değeri olacak şekilde parçalara ayrıldıktan sonra information gain hesaplanmıştır."
   ]
  },
  {
   "cell_type": "code",
   "execution_count": 178,
   "id": "a0c6d931",
   "metadata": {},
   "outputs": [
    {
     "data": {
      "text/plain": [
       "0     -3.97891\n",
       "1      0.00000\n",
       "2      0.00000\n",
       "3      0.00000\n",
       "4      0.00000\n",
       "        ...   \n",
       "564   -3.97891\n",
       "565    0.00000\n",
       "566    0.00000\n",
       "567   -3.97891\n",
       "568    0.00000\n",
       "Length: 569, dtype: float64"
      ]
     },
     "execution_count": 178,
     "metadata": {},
     "output_type": "execute_result"
    }
   ],
   "source": [
    "Division1InformationGain4 = GiniDivisionAttribute4 - (FrequencyDivisionAttribute4Lenght/len(Division1Attribute4) * GiniDivisionAttribute4 - (FrequencyDivisionAttribute4Lenght2/len(Division1Attribute4)) * GiniClass1) \n",
    "Division1InformationGain4"
   ]
  },
  {
   "cell_type": "markdown",
   "id": "f6bb9894",
   "metadata": {},
   "source": [
    "##### Dördüncü nitelik değeri ayrık olmayan nitelik değerlerini 4 eşit genişlik (4 equal-width) değeri olacak şekilde parçalara ayrılmıştır."
   ]
  },
  {
   "cell_type": "code",
   "execution_count": 80,
   "id": "0c7ec068",
   "metadata": {
    "scrolled": true
   },
   "outputs": [
    {
     "data": {
      "text/plain": [
       "0      2\n",
       "1      1\n",
       "2      2\n",
       "3      2\n",
       "4      2\n",
       "      ..\n",
       "564    2\n",
       "565    1\n",
       "566    1\n",
       "567    3\n",
       "568    0\n",
       "Name: Concave_points1, Length: 569, dtype: category\n",
       "Categories (4, int64): [0 < 1 < 2 < 3]"
      ]
     },
     "execution_count": 80,
     "metadata": {},
     "output_type": "execute_result"
    }
   ],
   "source": [
    "Division2Attribute4 = pd.cut(Attribute4.Concave_points1, bins=4, labels=np.arange(4), right=False)\n",
    "Division2Attribute4"
   ]
  },
  {
   "cell_type": "markdown",
   "id": "23128e70",
   "metadata": {},
   "source": [
    "##### Dördüncü nitelik değeri ayrık olmayan nitelik değerlerini 4 eşit genişlik (4 equal-width) değeri olacak şekilde parçalara ayrıldıktan sonra entropy hesabı yapılmıştır."
   ]
  },
  {
   "cell_type": "code",
   "execution_count": 81,
   "id": "d7d61862",
   "metadata": {},
   "outputs": [
    {
     "data": {
      "text/plain": [
       "0.9415040874190563"
      ]
     },
     "execution_count": 81,
     "metadata": {},
     "output_type": "execute_result"
    }
   ],
   "source": [
    "EntropyDivision2Attribute4 = ent(Division2Attribute4)\n",
    "EntropyDivision2Attribute4"
   ]
  },
  {
   "cell_type": "markdown",
   "id": "201e142c",
   "metadata": {},
   "source": [
    "##### Dördüncü nitelik değeri ayrık olmayan nitelik değerlerini 4 eşit genişlik (4 equal-width) değeri olacak şekilde parçalara ayrıldıktan sonra gini hesabı yapılmıştır."
   ]
  },
  {
   "cell_type": "code",
   "execution_count": 179,
   "id": "44acd18b",
   "metadata": {},
   "outputs": [],
   "source": [
    "def gini(p):\n",
    "   return (p)*(1 - (p)) + (1 - p)*(1 - (1-p))"
   ]
  },
  {
   "cell_type": "code",
   "execution_count": 181,
   "id": "3f9812a1",
   "metadata": {},
   "outputs": [
    {
     "data": {
      "text/plain": [
       "0     -4\n",
       "1      0\n",
       "2      0\n",
       "3      0\n",
       "4      0\n",
       "      ..\n",
       "564   -4\n",
       "565    0\n",
       "566    0\n",
       "567   -4\n",
       "568    0\n",
       "Length: 569, dtype: int8"
      ]
     },
     "execution_count": 181,
     "metadata": {},
     "output_type": "execute_result"
    }
   ],
   "source": [
    "GiniDivision2Attribute4 = gini(Division2Attribute4)\n",
    "GiniDivision2Attribute4"
   ]
  },
  {
   "cell_type": "markdown",
   "id": "83e08480",
   "metadata": {},
   "source": [
    "##### Categorical değeri int değere çevirme"
   ]
  },
  {
   "cell_type": "code",
   "execution_count": 180,
   "id": "f4cd0464",
   "metadata": {
    "scrolled": true
   },
   "outputs": [
    {
     "data": {
      "text/plain": [
       "0      2\n",
       "1      1\n",
       "2      1\n",
       "3      1\n",
       "4      1\n",
       "      ..\n",
       "564    2\n",
       "565    1\n",
       "566    0\n",
       "567    2\n",
       "568    0\n",
       "Length: 569, dtype: int8"
      ]
     },
     "execution_count": 180,
     "metadata": {},
     "output_type": "execute_result"
    }
   ],
   "source": [
    "Division2Attribute4 = DivisionAttribute4.astype('category').cat.codes\n",
    "Division2Attribute4"
   ]
  },
  {
   "cell_type": "markdown",
   "id": "a7d8b6e6",
   "metadata": {},
   "source": [
    "##### Dördüncü nitelik değeri ayrık olmayan nitelik değerlerini 4 eşit genişlik (4 equal-width) değeri olacak şekilde parçalara ayrıldıktan sonra her küme elemanının görülme frekansı hesaplanmıştır."
   ]
  },
  {
   "cell_type": "code",
   "execution_count": 182,
   "id": "a3b26718",
   "metadata": {},
   "outputs": [],
   "source": [
    "def getFreqs(data, only_freqs=True):\n",
    "        arr = np.unique(data,return_counts=True)\n",
    "        if not only_freqs:\n",
    "            return arr[0], arr[1] / np.sum(arr[1],dtype=np.float)\n",
    "        return arr[1] / np.sum(arr[1],dtype=np.float)"
   ]
  },
  {
   "cell_type": "code",
   "execution_count": 183,
   "id": "72415647",
   "metadata": {},
   "outputs": [
    {
     "data": {
      "text/plain": [
       "array([0.72759227, 0.23374341, 0.03866432])"
      ]
     },
     "execution_count": 183,
     "metadata": {},
     "output_type": "execute_result"
    }
   ],
   "source": [
    "FrequencyDivision2Attribute4 = getFreqs(Division2Attribute4)\n",
    "FrequencyDivision2Attribute4"
   ]
  },
  {
   "cell_type": "markdown",
   "id": "d5911df0",
   "metadata": {},
   "source": [
    "##### Dördüncü nitelik değeri ayrık olmayan nitelik değerlerini 4 eşit genişlik (4 equal-width) değeri olacak şekilde parçalara ayrıldıktan sonra her küme elemanının görülme frekansı uzunluğu hesaplanmıştır."
   ]
  },
  {
   "cell_type": "code",
   "execution_count": 184,
   "id": "82599f76",
   "metadata": {},
   "outputs": [
    {
     "data": {
      "text/plain": [
       "3"
      ]
     },
     "execution_count": 184,
     "metadata": {},
     "output_type": "execute_result"
    }
   ],
   "source": [
    "FrequencyDivision2Attribute4Lenght = len(FrequencyDivision2Attribute4)\n",
    "FrequencyDivision2Attribute4Lenght"
   ]
  },
  {
   "cell_type": "code",
   "execution_count": 185,
   "id": "8b4f1d15",
   "metadata": {},
   "outputs": [
    {
     "data": {
      "text/plain": [
       "566"
      ]
     },
     "execution_count": 185,
     "metadata": {},
     "output_type": "execute_result"
    }
   ],
   "source": [
    "FrequencyDivision2Attribute4Lenght2 = len(Division2Attribute4)-FrequencyDivision2Attribute4Lenght\n",
    "FrequencyDivision2Attribute4Lenght2"
   ]
  },
  {
   "cell_type": "markdown",
   "id": "c2f93277",
   "metadata": {},
   "source": [
    "##### Dördüncü nitelik değeri ayrık olmayan nitelik değerlerini 4 eşit genişlik (4 equal-width) değeri olacak şekilde parçalara ayrıldıktan sonra information gain hesaplanmıştır."
   ]
  },
  {
   "cell_type": "code",
   "execution_count": 186,
   "id": "ce32198c",
   "metadata": {},
   "outputs": [
    {
     "data": {
      "text/plain": [
       "0     -3.97891\n",
       "1      0.00000\n",
       "2      0.00000\n",
       "3      0.00000\n",
       "4      0.00000\n",
       "        ...   \n",
       "564   -3.97891\n",
       "565    0.00000\n",
       "566    0.00000\n",
       "567   -3.97891\n",
       "568    0.00000\n",
       "Length: 569, dtype: float64"
      ]
     },
     "execution_count": 186,
     "metadata": {},
     "output_type": "execute_result"
    }
   ],
   "source": [
    "Division2InformationGain4 = GiniDivision2Attribute4 - (FrequencyDivision2Attribute4Lenght/len(Division2Attribute4) * GiniDivision2Attribute4 - (FrequencyDivision2Attribute4Lenght2/len(Division2Attribute4)) * GiniClass1) \n",
    "Division2InformationGain4"
   ]
  }
 ],
 "metadata": {
  "kernelspec": {
   "display_name": "Python 3",
   "language": "python",
   "name": "python3"
  },
  "language_info": {
   "codemirror_mode": {
    "name": "ipython",
    "version": 3
   },
   "file_extension": ".py",
   "mimetype": "text/x-python",
   "name": "python",
   "nbconvert_exporter": "python",
   "pygments_lexer": "ipython3",
   "version": "3.6.13"
  }
 },
 "nbformat": 4,
 "nbformat_minor": 5
}
